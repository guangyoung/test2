{
  "nbformat": 4,
  "nbformat_minor": 0,
  "metadata": {
    "colab": {
      "provenance": [],
      "authorship_tag": "ABX9TyOemfOEdq7mtP3YcGleLZzj",
      "include_colab_link": true
    },
    "kernelspec": {
      "name": "python3",
      "display_name": "Python 3"
    },
    "language_info": {
      "name": "python"
    }
  },
  "cells": [
    {
      "cell_type": "markdown",
      "metadata": {
        "id": "view-in-github",
        "colab_type": "text"
      },
      "source": [
        "<a href=\"https://colab.research.google.com/github/guangyoung/test2/blob/main/get.ipynb\" target=\"_parent\"><img src=\"https://colab.research.google.com/assets/colab-badge.svg\" alt=\"Open In Colab\"/></a>"
      ]
    },
    {
      "cell_type": "code",
      "source": [
        "%pip install eod"
      ],
      "metadata": {
        "id": "ORaaZ5-TCjM5"
      },
      "execution_count": null,
      "outputs": []
    },
    {
      "cell_type": "code",
      "execution_count": 3,
      "metadata": {
        "id": "xMQ6yS-D9Ajk"
      },
      "outputs": [],
      "source": [
        "from eod import EodHistoricalData\n",
        "api_key = '64faba4301ecc8.39402054'\n",
        "client = EodHistoricalData(api_key)"
      ]
    },
    {
      "cell_type": "code",
      "source": [
        "import pandas as pd\n",
        "urls=[\"A.US\",\"AA.US\"]\n",
        "for url in urls:\n",
        "    resp = client.get_prices_eod(url, period='d', order='a')\n",
        "    df = pd.DataFrame(resp)\n",
        "    df.to_csv(\"/content/sample_data/{}.csv\".format(url))\n",
        "    print(resp)"
      ],
      "metadata": {
        "id": "Gqs1VGSdCs7O"
      },
      "execution_count": null,
      "outputs": []
    }
  ]
}