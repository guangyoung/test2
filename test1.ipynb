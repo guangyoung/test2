{
  "nbformat": 4,
  "nbformat_minor": 0,
  "metadata": {
    "colab": {
      "name": "test1.ipynb",
      "provenance": [],
      "collapsed_sections": [],
      "authorship_tag": "ABX9TyOtpPxQIEBRmQ8Su9Ag5Maj",
      "include_colab_link": true
    },
    "kernelspec": {
      "name": "python3",
      "display_name": "Python 3"
    },
    "language_info": {
      "name": "python"
    },
    "widgets": {
      "application/vnd.jupyter.widget-state+json": {
        "e38370a0e47346ab9519a8e03c856b30": {
          "model_module": "@jupyter-widgets/controls",
          "model_name": "DropdownModel",
          "state": {
            "_options_labels": [
              "NASDAQ",
              "NYSE",
              "LSE",
              "EURONEXT"
            ],
            "_view_name": "DropdownView",
            "style": "IPY_MODEL_23763a1874564ceaab8ebe1e94a37e6b",
            "_dom_classes": [],
            "description": "Choose",
            "_model_name": "DropdownModel",
            "index": 2,
            "_view_module": "@jupyter-widgets/controls",
            "_model_module_version": "1.5.0",
            "_view_count": null,
            "disabled": false,
            "_view_module_version": "1.5.0",
            "description_tooltip": null,
            "_model_module": "@jupyter-widgets/controls",
            "layout": "IPY_MODEL_f5ba6c79de0d41c4b569206c1d67c55f"
          }
        },
        "23763a1874564ceaab8ebe1e94a37e6b": {
          "model_module": "@jupyter-widgets/controls",
          "model_name": "DescriptionStyleModel",
          "state": {
            "_view_name": "StyleView",
            "_model_name": "DescriptionStyleModel",
            "description_width": "",
            "_view_module": "@jupyter-widgets/base",
            "_model_module_version": "1.5.0",
            "_view_count": null,
            "_view_module_version": "1.2.0",
            "_model_module": "@jupyter-widgets/controls"
          }
        },
        "f5ba6c79de0d41c4b569206c1d67c55f": {
          "model_module": "@jupyter-widgets/base",
          "model_name": "LayoutModel",
          "state": {
            "_view_name": "LayoutView",
            "grid_template_rows": null,
            "right": null,
            "justify_content": null,
            "_view_module": "@jupyter-widgets/base",
            "overflow": null,
            "_model_module_version": "1.2.0",
            "_view_count": null,
            "flex_flow": null,
            "width": null,
            "min_width": null,
            "border": null,
            "align_items": null,
            "bottom": null,
            "_model_module": "@jupyter-widgets/base",
            "top": null,
            "grid_column": null,
            "overflow_y": null,
            "overflow_x": null,
            "grid_auto_flow": null,
            "grid_area": null,
            "grid_template_columns": null,
            "flex": null,
            "_model_name": "LayoutModel",
            "justify_items": null,
            "grid_row": null,
            "max_height": null,
            "align_content": null,
            "visibility": null,
            "align_self": null,
            "height": null,
            "min_height": null,
            "padding": null,
            "grid_auto_rows": null,
            "grid_gap": null,
            "max_width": null,
            "order": null,
            "_view_module_version": "1.2.0",
            "grid_template_areas": null,
            "object_position": null,
            "object_fit": null,
            "grid_auto_columns": null,
            "margin": null,
            "display": null,
            "left": null
          }
        },
        "02774f4e7dbd4b6cbd5a1e99e4c0904d": {
          "model_module": "@jupyter-widgets/controls",
          "model_name": "SelectMultipleModel",
          "state": {
            "_options_labels": [
              "a",
              "b",
              "c",
              "d",
              "e",
              "f",
              "g",
              "h",
              "i",
              "j",
              "k",
              "l"
            ],
            "_view_name": "SelectMultipleView",
            "style": "IPY_MODEL_9856cedecefa411fbb207e91c4859196",
            "rows": 10,
            "_dom_classes": [],
            "description": "Fruits",
            "_model_name": "SelectMultipleModel",
            "index": [
              0
            ],
            "_view_module": "@jupyter-widgets/controls",
            "_model_module_version": "1.5.0",
            "_view_count": null,
            "disabled": false,
            "_view_module_version": "1.5.0",
            "description_tooltip": null,
            "_model_module": "@jupyter-widgets/controls",
            "layout": "IPY_MODEL_05acea1fa4224dbd9e75b95d51536c6d"
          }
        },
        "9856cedecefa411fbb207e91c4859196": {
          "model_module": "@jupyter-widgets/controls",
          "model_name": "DescriptionStyleModel",
          "state": {
            "_view_name": "StyleView",
            "_model_name": "DescriptionStyleModel",
            "description_width": "",
            "_view_module": "@jupyter-widgets/base",
            "_model_module_version": "1.5.0",
            "_view_count": null,
            "_view_module_version": "1.2.0",
            "_model_module": "@jupyter-widgets/controls"
          }
        },
        "05acea1fa4224dbd9e75b95d51536c6d": {
          "model_module": "@jupyter-widgets/base",
          "model_name": "LayoutModel",
          "state": {
            "_view_name": "LayoutView",
            "grid_template_rows": null,
            "right": null,
            "justify_content": null,
            "_view_module": "@jupyter-widgets/base",
            "overflow": null,
            "_model_module_version": "1.2.0",
            "_view_count": null,
            "flex_flow": null,
            "width": null,
            "min_width": null,
            "border": null,
            "align_items": null,
            "bottom": null,
            "_model_module": "@jupyter-widgets/base",
            "top": null,
            "grid_column": null,
            "overflow_y": null,
            "overflow_x": null,
            "grid_auto_flow": null,
            "grid_area": null,
            "grid_template_columns": null,
            "flex": null,
            "_model_name": "LayoutModel",
            "justify_items": null,
            "grid_row": null,
            "max_height": null,
            "align_content": null,
            "visibility": null,
            "align_self": null,
            "height": null,
            "min_height": null,
            "padding": null,
            "grid_auto_rows": null,
            "grid_gap": null,
            "max_width": null,
            "order": null,
            "_view_module_version": "1.2.0",
            "grid_template_areas": null,
            "object_position": null,
            "object_fit": null,
            "grid_auto_columns": null,
            "margin": null,
            "display": null,
            "left": null
          }
        },
        "84c830e416ca430b9ab60faf574305ff": {
          "model_module": "@jupyter-widgets/controls",
          "model_name": "BoundedFloatTextModel",
          "state": {
            "_view_name": "FloatTextView",
            "style": "IPY_MODEL_6de6dd7e117b454f9e53ba94a61be853",
            "_dom_classes": [],
            "description": "Text:",
            "_model_name": "BoundedFloatTextModel",
            "max": 10,
            "_view_module": "@jupyter-widgets/controls",
            "_model_module_version": "1.5.0",
            "value": 7.599,
            "_view_count": null,
            "disabled": false,
            "_view_module_version": "1.5.0",
            "min": 0,
            "continuous_update": false,
            "step": 0.1,
            "description_tooltip": null,
            "_model_module": "@jupyter-widgets/controls",
            "layout": "IPY_MODEL_a01afc4176064e68958051dc69625b18"
          }
        },
        "6de6dd7e117b454f9e53ba94a61be853": {
          "model_module": "@jupyter-widgets/controls",
          "model_name": "DescriptionStyleModel",
          "state": {
            "_view_name": "StyleView",
            "_model_name": "DescriptionStyleModel",
            "description_width": "",
            "_view_module": "@jupyter-widgets/base",
            "_model_module_version": "1.5.0",
            "_view_count": null,
            "_view_module_version": "1.2.0",
            "_model_module": "@jupyter-widgets/controls"
          }
        },
        "a01afc4176064e68958051dc69625b18": {
          "model_module": "@jupyter-widgets/base",
          "model_name": "LayoutModel",
          "state": {
            "_view_name": "LayoutView",
            "grid_template_rows": null,
            "right": null,
            "justify_content": null,
            "_view_module": "@jupyter-widgets/base",
            "overflow": null,
            "_model_module_version": "1.2.0",
            "_view_count": null,
            "flex_flow": null,
            "width": null,
            "min_width": null,
            "border": null,
            "align_items": null,
            "bottom": null,
            "_model_module": "@jupyter-widgets/base",
            "top": null,
            "grid_column": null,
            "overflow_y": null,
            "overflow_x": null,
            "grid_auto_flow": null,
            "grid_area": null,
            "grid_template_columns": null,
            "flex": null,
            "_model_name": "LayoutModel",
            "justify_items": null,
            "grid_row": null,
            "max_height": null,
            "align_content": null,
            "visibility": null,
            "align_self": null,
            "height": null,
            "min_height": null,
            "padding": null,
            "grid_auto_rows": null,
            "grid_gap": null,
            "max_width": null,
            "order": null,
            "_view_module_version": "1.2.0",
            "grid_template_areas": null,
            "object_position": null,
            "object_fit": null,
            "grid_auto_columns": null,
            "margin": null,
            "display": null,
            "left": null
          }
        },
        "147c0291b6bf4de099c51a2ab688a9c6": {
          "model_module": "@jupyter-widgets/controls",
          "model_name": "CheckboxModel",
          "state": {
            "_view_name": "CheckboxView",
            "style": "IPY_MODEL_1a19be571eac459f955e7f5e108f5c4e",
            "_dom_classes": [],
            "description": "Check me",
            "_model_name": "CheckboxModel",
            "_view_module": "@jupyter-widgets/controls",
            "_model_module_version": "1.5.0",
            "value": false,
            "_view_count": null,
            "disabled": false,
            "_view_module_version": "1.5.0",
            "indent": false,
            "description_tooltip": null,
            "_model_module": "@jupyter-widgets/controls",
            "layout": "IPY_MODEL_e93b315fde8e460aa8f34536c97ea398"
          }
        },
        "1a19be571eac459f955e7f5e108f5c4e": {
          "model_module": "@jupyter-widgets/controls",
          "model_name": "DescriptionStyleModel",
          "state": {
            "_view_name": "StyleView",
            "_model_name": "DescriptionStyleModel",
            "description_width": "",
            "_view_module": "@jupyter-widgets/base",
            "_model_module_version": "1.5.0",
            "_view_count": null,
            "_view_module_version": "1.2.0",
            "_model_module": "@jupyter-widgets/controls"
          }
        },
        "e93b315fde8e460aa8f34536c97ea398": {
          "model_module": "@jupyter-widgets/base",
          "model_name": "LayoutModel",
          "state": {
            "_view_name": "LayoutView",
            "grid_template_rows": null,
            "right": null,
            "justify_content": null,
            "_view_module": "@jupyter-widgets/base",
            "overflow": null,
            "_model_module_version": "1.2.0",
            "_view_count": null,
            "flex_flow": null,
            "width": null,
            "min_width": null,
            "border": null,
            "align_items": null,
            "bottom": null,
            "_model_module": "@jupyter-widgets/base",
            "top": null,
            "grid_column": null,
            "overflow_y": null,
            "overflow_x": null,
            "grid_auto_flow": null,
            "grid_area": null,
            "grid_template_columns": null,
            "flex": null,
            "_model_name": "LayoutModel",
            "justify_items": null,
            "grid_row": null,
            "max_height": null,
            "align_content": null,
            "visibility": null,
            "align_self": null,
            "height": null,
            "min_height": null,
            "padding": null,
            "grid_auto_rows": null,
            "grid_gap": null,
            "max_width": null,
            "order": null,
            "_view_module_version": "1.2.0",
            "grid_template_areas": null,
            "object_position": null,
            "object_fit": null,
            "grid_auto_columns": null,
            "margin": null,
            "display": null,
            "left": null
          }
        }
      }
    }
  },
  "cells": [
    {
      "cell_type": "markdown",
      "metadata": {
        "id": "view-in-github",
        "colab_type": "text"
      },
      "source": [
        "<a href=\"https://colab.research.google.com/github/heriyang9000/test2/blob/main/test1.ipynb\" target=\"_parent\"><img src=\"https://colab.research.google.com/assets/colab-badge.svg\" alt=\"Open In Colab\"/></a>"
      ]
    },
    {
      "cell_type": "code",
      "metadata": {
        "id": "nLY3sDK-nl1e"
      },
      "source": [
        "import getpass\n",
        "import pandas as pd\n",
        "import ipywidgets as widgets"
      ],
      "execution_count": null,
      "outputs": []
    },
    {
      "cell_type": "code",
      "metadata": {
        "id": "LmLZo7bujvd_"
      },
      "source": [
        "api_key = getpass.getpass()"
      ],
      "execution_count": null,
      "outputs": []
    },
    {
      "cell_type": "code",
      "metadata": {
        "id": "VVS8rUiriuZP",
        "colab": {
          "base_uri": "https://localhost:8080/"
        },
        "outputId": "db4131aa-aac6-4e33-dc23-08ed3f8b53b0"
      },
      "source": [
        "initial_equity=input()\n",
        "bidaskspread=input()\n",
        "commision=input()\n",
        "interest=input()"
      ],
      "execution_count": 142,
      "outputs": [
        {
          "output_type": "stream",
          "text": [
            "100\n",
            "10\n",
            "10\n",
            "10\n"
          ],
          "name": "stdout"
        }
      ]
    },
    {
      "cell_type": "code",
      "metadata": {
        "id": "mNjrbJ6eu3BA",
        "colab": {
          "base_uri": "https://localhost:8080/",
          "height": 49,
          "referenced_widgets": [
            "e38370a0e47346ab9519a8e03c856b30",
            "23763a1874564ceaab8ebe1e94a37e6b",
            "f5ba6c79de0d41c4b569206c1d67c55f"
          ]
        },
        "outputId": "3d90a5db-1a1b-4664-cde1-bf03edf5900e"
      },
      "source": [
        "exchange = 'NASDAQ'\n",
        "drop_down = widgets.Dropdown(options=['NASDAQ','NYSE','LSE','EURONEXT'],\n",
        "                                description='Choose',\n",
        "                                disabled=False)\n",
        "\n",
        "def dropdown_handler(change):\n",
        "    global exchange\n",
        "    # print(change.new)\n",
        "    exchange = change.new\n",
        "drop_down.observe(dropdown_handler, names='value')\n",
        "display(drop_down)"
      ],
      "execution_count": 170,
      "outputs": [
        {
          "output_type": "display_data",
          "data": {
            "application/vnd.jupyter.widget-view+json": {
              "model_id": "e38370a0e47346ab9519a8e03c856b30",
              "version_minor": 0,
              "version_major": 2
            },
            "text/plain": [
              "Dropdown(description='Choose', options=('NASDAQ', 'NYSE', 'LSE', 'EURONEXT'), value='NASDAQ')"
            ]
          },
          "metadata": {
            "tags": []
          }
        }
      ]
    },
    {
      "cell_type": "code",
      "metadata": {
        "id": "9wrPddgUrvQC",
        "colab": {
          "base_uri": "https://localhost:8080/",
          "height": 194,
          "referenced_widgets": [
            "02774f4e7dbd4b6cbd5a1e99e4c0904d",
            "9856cedecefa411fbb207e91c4859196",
            "05acea1fa4224dbd9e75b95d51536c6d"
          ]
        },
        "outputId": "24d65787-6cc1-49ed-b83d-efc6b3eed908"
      },
      "source": [
        "# print(exchange)\n",
        "if exchange == 'LSE':\n",
        "    ticker = 'a'\n",
        "    drop_down = widgets.SelectMultiple(\n",
        "    options=['a','b','c','d','e','f','g','h','i','j','k','l'],\n",
        "    value=['a'],\n",
        "    rows=10,\n",
        "    description='Fruits',\n",
        "    disabled=False\n",
        ") \n",
        "\n",
        "    def dropdown_handler(change):\n",
        "        global ticker\n",
        "        # print(change.new)\n",
        "        ticker = change.new\n",
        "    drop_down.observe(dropdown_handler, names='value')\n",
        "    display(drop_down)\n",
        "else:\n",
        "  print(\"no exchange select\")"
      ],
      "execution_count": 209,
      "outputs": [
        {
          "output_type": "display_data",
          "data": {
            "application/vnd.jupyter.widget-view+json": {
              "model_id": "02774f4e7dbd4b6cbd5a1e99e4c0904d",
              "version_minor": 0,
              "version_major": 2
            },
            "text/plain": [
              "SelectMultiple(description='Fruits', index=(0,), options=('a', 'b', 'c', 'd', 'e', 'f', 'g', 'h', 'i', 'j', 'k…"
            ]
          },
          "metadata": {
            "tags": []
          }
        }
      ]
    },
    {
      "cell_type": "code",
      "metadata": {
        "colab": {
          "base_uri": "https://localhost:8080/",
          "height": 49,
          "referenced_widgets": [
            "84c830e416ca430b9ab60faf574305ff",
            "6de6dd7e117b454f9e53ba94a61be853",
            "a01afc4176064e68958051dc69625b18"
          ]
        },
        "id": "Uk_bDqFO9ouj",
        "outputId": "a2a71f9e-df7b-42fb-e356-9d84302ac128"
      },
      "source": [
        "widgets.BoundedFloatText(\n",
        "    value=7.5,\n",
        "    min=0,\n",
        "    max=10.0,\n",
        "    step=0.1,\n",
        "    description='Text:',\n",
        "    disabled=False\n",
        ")"
      ],
      "execution_count": 145,
      "outputs": [
        {
          "output_type": "display_data",
          "data": {
            "application/vnd.jupyter.widget-view+json": {
              "model_id": "84c830e416ca430b9ab60faf574305ff",
              "version_minor": 0,
              "version_major": 2
            },
            "text/plain": [
              "BoundedFloatText(value=7.5, description='Text:', max=10.0, step=0.1)"
            ]
          },
          "metadata": {
            "tags": []
          }
        }
      ]
    },
    {
      "cell_type": "code",
      "metadata": {
        "colab": {
          "base_uri": "https://localhost:8080/",
          "height": 49,
          "referenced_widgets": [
            "147c0291b6bf4de099c51a2ab688a9c6",
            "1a19be571eac459f955e7f5e108f5c4e",
            "e93b315fde8e460aa8f34536c97ea398"
          ]
        },
        "id": "oGeQGZ7f-VmS",
        "outputId": "1c86695e-da6a-41f8-e415-ad43007d3e6b"
      },
      "source": [
        "widgets.Checkbox(\n",
        "    value=False,\n",
        "    description='Check me',\n",
        "    disabled=False,\n",
        "    indent=False\n",
        ")"
      ],
      "execution_count": 185,
      "outputs": [
        {
          "output_type": "display_data",
          "data": {
            "application/vnd.jupyter.widget-view+json": {
              "model_id": "147c0291b6bf4de099c51a2ab688a9c6",
              "version_minor": 0,
              "version_major": 2
            },
            "text/plain": [
              "Checkbox(value=False, description='Check me', indent=False)"
            ]
          },
          "metadata": {
            "tags": []
          }
        }
      ]
    },
    {
      "cell_type": "code",
      "metadata": {
        "id": "bx-Tv1Z3veP9"
      },
      "source": [
        "df01 = pd.read_csv('https://raw.githubusercontent.com/heriyang9000/mysys/main/dataset/NASDAQ/AAPL.csv')\n",
        "df02 = pd.read_csv('https://raw.githubusercontent.com/heriyang9000/mysys/main/dataset/NASDAQ/AAPL.csv')\n",
        "df03 = pd.read_csv('https://raw.githubusercontent.com/heriyang9000/mysys/main/dataset/NASDAQ/AAPL.csv')\n",
        "df04 = pd.read_csv('https://raw.githubusercontent.com/heriyang9000/mysys/main/dataset/NASDAQ/AAPL.csv')\n",
        "df05 = pd.read_csv('https://raw.githubusercontent.com/heriyang9000/mysys/main/dataset/NASDAQ/AAPL.csv')\n",
        "df06 = pd.read_csv('https://raw.githubusercontent.com/heriyang9000/mysys/main/dataset/NASDAQ/AAPL.csv')\n",
        "df07 = pd.read_csv('https://raw.githubusercontent.com/heriyang9000/mysys/main/dataset/NASDAQ/AAPL.csv')\n",
        "df08 = pd.read_csv('https://raw.githubusercontent.com/heriyang9000/mysys/main/dataset/NASDAQ/AAPL.csv')\n",
        "df09 = pd.read_csv('https://raw.githubusercontent.com/heriyang9000/mysys/main/dataset/NASDAQ/AAPL.csv')\n",
        "df10 = pd.read_csv('https://raw.githubusercontent.com/heriyang9000/mysys/main/dataset/NASDAQ/AAPL.csv')\n",
        "df11 = pd.read_csv('https://raw.githubusercontent.com/heriyang9000/mysys/main/dataset/NASDAQ/AAPL.csv')\n",
        "df12 = pd.read_csv('https://raw.githubusercontent.com/heriyang9000/mysys/main/dataset/NASDAQ/AAPL.csv')\n",
        "df13 = pd.read_csv('https://raw.githubusercontent.com/heriyang9000/mysys/main/dataset/NASDAQ/AAPL.csv')\n",
        "df14 = pd.read_csv('https://raw.githubusercontent.com/heriyang9000/mysys/main/dataset/NASDAQ/AAPL.csv')\n",
        "df15 = pd.read_csv('https://raw.githubusercontent.com/heriyang9000/mysys/main/dataset/NASDAQ/AAPL.csv')\n",
        "df16 = pd.read_csv('https://raw.githubusercontent.com/heriyang9000/mysys/main/dataset/NASDAQ/AAPL.csv')\n",
        "df17 = pd.read_csv('https://raw.githubusercontent.com/heriyang9000/mysys/main/dataset/NASDAQ/AAPL.csv')\n",
        "df18 = pd.read_csv('https://raw.githubusercontent.com/heriyang9000/mysys/main/dataset/NASDAQ/AAPL.csv')\n",
        "df19 = pd.read_csv('https://raw.githubusercontent.com/heriyang9000/mysys/main/dataset/NASDAQ/AAPL.csv')\n",
        "df20 = pd.read_csv('https://raw.githubusercontent.com/heriyang9000/mysys/main/dataset/NASDAQ/AAPL.csv')\n",
        "df21 = pd.read_csv('https://raw.githubusercontent.com/heriyang9000/mysys/main/dataset/NASDAQ/AAPL.csv')\n",
        "df22 = pd.read_csv('https://raw.githubusercontent.com/heriyang9000/mysys/main/dataset/NASDAQ/AAPL.csv')\n",
        "df23 = pd.read_csv('https://raw.githubusercontent.com/heriyang9000/mysys/main/dataset/NASDAQ/AAPL.csv')\n",
        "df24 = pd.read_csv('https://raw.githubusercontent.com/heriyang9000/mysys/main/dataset/NASDAQ/AAPL.csv')\n",
        "df25 = pd.read_csv('https://raw.githubusercontent.com/heriyang9000/mysys/main/dataset/NASDAQ/AAPL.csv')\n",
        "df26 = pd.read_csv('https://raw.githubusercontent.com/heriyang9000/mysys/main/dataset/NASDAQ/AAPL.csv')\n",
        "df27 = pd.read_csv('https://raw.githubusercontent.com/heriyang9000/mysys/main/dataset/NASDAQ/AAPL.csv')\n",
        "df28 = pd.read_csv('https://raw.githubusercontent.com/heriyang9000/mysys/main/dataset/NASDAQ/AAPL.csv')\n",
        "df29 = pd.read_csv('https://raw.githubusercontent.com/heriyang9000/mysys/main/dataset/NASDAQ/AAPL.csv')\n",
        "df30 = pd.read_csv('https://raw.githubusercontent.com/heriyang9000/mysys/main/dataset/NASDAQ/AAPL.csv')\n",
        "\n",
        "print(df01.to_string()) "
      ],
      "execution_count": null,
      "outputs": []
    }
  ]
}