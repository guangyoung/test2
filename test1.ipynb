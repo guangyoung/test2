{
  "nbformat": 4,
  "nbformat_minor": 0,
  "metadata": {
    "colab": {
      "name": "test1.ipynb",
      "provenance": [],
      "collapsed_sections": [],
      "authorship_tag": "ABX9TyP58UGsVly81eB7dJ7yPro7",
      "include_colab_link": true
    },
    "kernelspec": {
      "name": "python3",
      "display_name": "Python 3"
    },
    "language_info": {
      "name": "python"
    }
  },
  "cells": [
    {
      "cell_type": "markdown",
      "metadata": {
        "id": "view-in-github",
        "colab_type": "text"
      },
      "source": [
        "<a href=\"https://colab.research.google.com/github/heriyang9000/test2/blob/main/test1.ipynb\" target=\"_parent\"><img src=\"https://colab.research.google.com/assets/colab-badge.svg\" alt=\"Open In Colab\"/></a>"
      ]
    },
    {
      "cell_type": "markdown",
      "metadata": {
        "id": "Hrbftrg8B1yZ"
      },
      "source": [
        "# **LIBRARY**"
      ]
    },
    {
      "cell_type": "code",
      "metadata": {
        "id": "u2pfaMXPSSrZ"
      },
      "source": [
        "pip install yfinance"
      ],
      "execution_count": null,
      "outputs": []
    },
    {
      "cell_type": "code",
      "metadata": {
        "id": "cJXO_LjTR53W"
      },
      "source": [
        "pip install progressbar2"
      ],
      "execution_count": null,
      "outputs": []
    },
    {
      "cell_type": "code",
      "metadata": {
        "id": "nLY3sDK-nl1e"
      },
      "source": [
        "import getpass\n",
        "import pandas as pd\n",
        "import yfinance as yf\n",
        "import panel as pn\n",
        "import datetime\n",
        "import requests\n",
        "import datetime as dt\n",
        "import numpy as np\n",
        "import param\n",
        "from bokeh.plotting import figure\n",
        "from pandas_datareader import data as pdr\n",
        "yf.pdr_override()\n",
        "import progressbar"
      ],
      "execution_count": null,
      "outputs": []
    },
    {
      "cell_type": "code",
      "metadata": {
        "id": "eLHfuGfaOGuD"
      },
      "source": [
        "import zipfile\n",
        "import os"
      ],
      "execution_count": 9,
      "outputs": []
    },
    {
      "cell_type": "code",
      "metadata": {
        "id": "xIyUMoFHOQIC",
        "outputId": "a0a71433-4015-405d-bf3d-e3bf2899db37",
        "colab": {
          "base_uri": "https://localhost:8080/"
        }
      },
      "source": [
        "!wget --no-check-certificate \\\n",
        "    \"https://github.com/heriyang9000/mysys/archive/refs/heads/main.zip\" \\\n",
        "    -O \"/tmp/cats-and-dogs.zip\"\n",
        "\n",
        "\n",
        "zip_ref = zipfile.ZipFile('/tmp/cats-and-dogs.zip', 'r') #Opens the zip file in read mode\n",
        "zip_ref.extractall('/tmp') #Extracts the files into the /tmp folder\n",
        "zip_ref.close()"
      ],
      "execution_count": 11,
      "outputs": [
        {
          "output_type": "stream",
          "name": "stdout",
          "text": [
            "--2021-11-19 12:51:00--  https://github.com/heriyang9000/mysys/archive/refs/heads/main.zip\n",
            "Resolving github.com (github.com)... 140.82.114.4\n",
            "Connecting to github.com (github.com)|140.82.114.4|:443... connected.\n",
            "HTTP request sent, awaiting response... 302 Found\n",
            "Location: https://codeload.github.com/heriyang9000/mysys/zip/refs/heads/main [following]\n",
            "--2021-11-19 12:51:00--  https://codeload.github.com/heriyang9000/mysys/zip/refs/heads/main\n",
            "Resolving codeload.github.com (codeload.github.com)... 140.82.112.9\n",
            "Connecting to codeload.github.com (codeload.github.com)|140.82.112.9|:443... connected.\n",
            "HTTP request sent, awaiting response... 200 OK\n",
            "Length: unspecified [application/zip]\n",
            "Saving to: ‘/tmp/cats-and-dogs.zip’\n",
            "\n",
            "/tmp/cats-and-dogs.     [  <=>               ]  69.40M  5.85MB/s    in 15s     \n",
            "\n",
            "2021-11-19 12:51:15 (4.70 MB/s) - ‘/tmp/cats-and-dogs.zip’ saved [72767675]\n",
            "\n"
          ]
        }
      ]
    },
    {
      "cell_type": "code",
      "metadata": {
        "id": "PSw79WHBPVzE"
      },
      "source": [
        "print('Test set dogs' , len(os.listdir('dog-cat-full-dataset-master/data/test/dogs')))"
      ],
      "execution_count": null,
      "outputs": []
    },
    {
      "cell_type": "markdown",
      "metadata": {
        "id": "IySVfa035p60"
      },
      "source": [
        "## **API** **KEY**"
      ]
    },
    {
      "cell_type": "code",
      "metadata": {
        "id": "XXb1TkdWngtT",
        "outputId": "4b34e62d-5c87-4008-91e3-d8a35fb9704a",
        "colab": {
          "base_uri": "https://localhost:8080/",
          "height": 527
        }
      },
      "source": [
        "api_key = getpass.getpass('Masukan Api Key Anda lalu klik enter? ')\n",
        "response = requests.get(f\"https://api.quantxi.com/user?api_key={api_key}\")\n",
        "while response.json()['status'] == 'failed':\n",
        "  print(\"Maaf API Key yang anda masukkan salah, coba di ulang lagi !!!\")\n",
        "  api_key = getpass.getpass('Masukan Api Key Anda lalu klik enter? ')\n",
        "  response = requests.get(f\"https://api.quantxi.com/user?api_key={api_key}\")\n",
        "  if response.json()['status'] == 'success':\n",
        "    print(f\"Selamat Datang {response.json()['data']['nama']}\")\n"
      ],
      "execution_count": 7,
      "outputs": [
        {
          "output_type": "error",
          "ename": "KeyboardInterrupt",
          "evalue": "ignored",
          "traceback": [
            "\u001b[0;31m---------------------------------------------------------------------------\u001b[0m",
            "\u001b[0;31mKeyboardInterrupt\u001b[0m                         Traceback (most recent call last)",
            "\u001b[0;32m/usr/local/lib/python3.7/dist-packages/ipykernel/kernelbase.py\u001b[0m in \u001b[0;36m_input_request\u001b[0;34m(self, prompt, ident, parent, password)\u001b[0m\n\u001b[1;32m    728\u001b[0m             \u001b[0;32mtry\u001b[0m\u001b[0;34m:\u001b[0m\u001b[0;34m\u001b[0m\u001b[0;34m\u001b[0m\u001b[0m\n\u001b[0;32m--> 729\u001b[0;31m                 \u001b[0mident\u001b[0m\u001b[0;34m,\u001b[0m \u001b[0mreply\u001b[0m \u001b[0;34m=\u001b[0m \u001b[0mself\u001b[0m\u001b[0;34m.\u001b[0m\u001b[0msession\u001b[0m\u001b[0;34m.\u001b[0m\u001b[0mrecv\u001b[0m\u001b[0;34m(\u001b[0m\u001b[0mself\u001b[0m\u001b[0;34m.\u001b[0m\u001b[0mstdin_socket\u001b[0m\u001b[0;34m,\u001b[0m \u001b[0;36m0\u001b[0m\u001b[0;34m)\u001b[0m\u001b[0;34m\u001b[0m\u001b[0;34m\u001b[0m\u001b[0m\n\u001b[0m\u001b[1;32m    730\u001b[0m             \u001b[0;32mexcept\u001b[0m \u001b[0mException\u001b[0m\u001b[0;34m:\u001b[0m\u001b[0;34m\u001b[0m\u001b[0;34m\u001b[0m\u001b[0m\n",
            "\u001b[0;32m/usr/local/lib/python3.7/dist-packages/jupyter_client/session.py\u001b[0m in \u001b[0;36mrecv\u001b[0;34m(self, socket, mode, content, copy)\u001b[0m\n\u001b[1;32m    802\u001b[0m         \u001b[0;32mtry\u001b[0m\u001b[0;34m:\u001b[0m\u001b[0;34m\u001b[0m\u001b[0;34m\u001b[0m\u001b[0m\n\u001b[0;32m--> 803\u001b[0;31m             \u001b[0mmsg_list\u001b[0m \u001b[0;34m=\u001b[0m \u001b[0msocket\u001b[0m\u001b[0;34m.\u001b[0m\u001b[0mrecv_multipart\u001b[0m\u001b[0;34m(\u001b[0m\u001b[0mmode\u001b[0m\u001b[0;34m,\u001b[0m \u001b[0mcopy\u001b[0m\u001b[0;34m=\u001b[0m\u001b[0mcopy\u001b[0m\u001b[0;34m)\u001b[0m\u001b[0;34m\u001b[0m\u001b[0;34m\u001b[0m\u001b[0m\n\u001b[0m\u001b[1;32m    804\u001b[0m         \u001b[0;32mexcept\u001b[0m \u001b[0mzmq\u001b[0m\u001b[0;34m.\u001b[0m\u001b[0mZMQError\u001b[0m \u001b[0;32mas\u001b[0m \u001b[0me\u001b[0m\u001b[0;34m:\u001b[0m\u001b[0;34m\u001b[0m\u001b[0;34m\u001b[0m\u001b[0m\n",
            "\u001b[0;32m/usr/local/lib/python3.7/dist-packages/zmq/sugar/socket.py\u001b[0m in \u001b[0;36mrecv_multipart\u001b[0;34m(self, flags, copy, track)\u001b[0m\n\u001b[1;32m    624\u001b[0m         \"\"\"\n\u001b[0;32m--> 625\u001b[0;31m         \u001b[0mparts\u001b[0m \u001b[0;34m=\u001b[0m \u001b[0;34m[\u001b[0m\u001b[0mself\u001b[0m\u001b[0;34m.\u001b[0m\u001b[0mrecv\u001b[0m\u001b[0;34m(\u001b[0m\u001b[0mflags\u001b[0m\u001b[0;34m,\u001b[0m \u001b[0mcopy\u001b[0m\u001b[0;34m=\u001b[0m\u001b[0mcopy\u001b[0m\u001b[0;34m,\u001b[0m \u001b[0mtrack\u001b[0m\u001b[0;34m=\u001b[0m\u001b[0mtrack\u001b[0m\u001b[0;34m)\u001b[0m\u001b[0;34m]\u001b[0m\u001b[0;34m\u001b[0m\u001b[0;34m\u001b[0m\u001b[0m\n\u001b[0m\u001b[1;32m    626\u001b[0m         \u001b[0;31m# have first part already, only loop while more to receive\u001b[0m\u001b[0;34m\u001b[0m\u001b[0;34m\u001b[0m\u001b[0;34m\u001b[0m\u001b[0m\n",
            "\u001b[0;32mzmq/backend/cython/socket.pyx\u001b[0m in \u001b[0;36mzmq.backend.cython.socket.Socket.recv\u001b[0;34m()\u001b[0m\n",
            "\u001b[0;32mzmq/backend/cython/socket.pyx\u001b[0m in \u001b[0;36mzmq.backend.cython.socket.Socket.recv\u001b[0;34m()\u001b[0m\n",
            "\u001b[0;32mzmq/backend/cython/socket.pyx\u001b[0m in \u001b[0;36mzmq.backend.cython.socket._recv_copy\u001b[0;34m()\u001b[0m\n",
            "\u001b[0;32m/usr/local/lib/python3.7/dist-packages/zmq/backend/cython/checkrc.pxd\u001b[0m in \u001b[0;36mzmq.backend.cython.checkrc._check_rc\u001b[0;34m()\u001b[0m\n",
            "\u001b[0;31mKeyboardInterrupt\u001b[0m: ",
            "\nDuring handling of the above exception, another exception occurred:\n",
            "\u001b[0;31mKeyboardInterrupt\u001b[0m                         Traceback (most recent call last)",
            "\u001b[0;32m<ipython-input-7-5e96bc5d89ff>\u001b[0m in \u001b[0;36m<module>\u001b[0;34m()\u001b[0m\n\u001b[0;32m----> 1\u001b[0;31m \u001b[0mapi_key\u001b[0m \u001b[0;34m=\u001b[0m \u001b[0mgetpass\u001b[0m\u001b[0;34m.\u001b[0m\u001b[0mgetpass\u001b[0m\u001b[0;34m(\u001b[0m\u001b[0;34m'Masukan Api Key Anda lalu klik enter? '\u001b[0m\u001b[0;34m)\u001b[0m\u001b[0;34m\u001b[0m\u001b[0;34m\u001b[0m\u001b[0m\n\u001b[0m\u001b[1;32m      2\u001b[0m \u001b[0mresponse\u001b[0m \u001b[0;34m=\u001b[0m \u001b[0mrequests\u001b[0m\u001b[0;34m.\u001b[0m\u001b[0mget\u001b[0m\u001b[0;34m(\u001b[0m\u001b[0;34mf\"https://api.quantxi.com/user?api_key={api_key}\"\u001b[0m\u001b[0;34m)\u001b[0m\u001b[0;34m\u001b[0m\u001b[0;34m\u001b[0m\u001b[0m\n\u001b[1;32m      3\u001b[0m \u001b[0;32mwhile\u001b[0m \u001b[0mresponse\u001b[0m\u001b[0;34m.\u001b[0m\u001b[0mjson\u001b[0m\u001b[0;34m(\u001b[0m\u001b[0;34m)\u001b[0m\u001b[0;34m[\u001b[0m\u001b[0;34m'status'\u001b[0m\u001b[0;34m]\u001b[0m \u001b[0;34m==\u001b[0m \u001b[0;34m'failed'\u001b[0m\u001b[0;34m:\u001b[0m\u001b[0;34m\u001b[0m\u001b[0;34m\u001b[0m\u001b[0m\n\u001b[1;32m      4\u001b[0m   \u001b[0mprint\u001b[0m\u001b[0;34m(\u001b[0m\u001b[0;34m\"Maaf API Key yang anda masukkan salah, coba di ulang lagi !!!\"\u001b[0m\u001b[0;34m)\u001b[0m\u001b[0;34m\u001b[0m\u001b[0;34m\u001b[0m\u001b[0m\n\u001b[1;32m      5\u001b[0m   \u001b[0mapi_key\u001b[0m \u001b[0;34m=\u001b[0m \u001b[0mgetpass\u001b[0m\u001b[0;34m.\u001b[0m\u001b[0mgetpass\u001b[0m\u001b[0;34m(\u001b[0m\u001b[0;34m'Masukan Api Key Anda lalu klik enter? '\u001b[0m\u001b[0;34m)\u001b[0m\u001b[0;34m\u001b[0m\u001b[0;34m\u001b[0m\u001b[0m\n",
            "\u001b[0;32m/usr/local/lib/python3.7/dist-packages/ipykernel/kernelbase.py\u001b[0m in \u001b[0;36mgetpass\u001b[0;34m(self, prompt, stream)\u001b[0m\n\u001b[1;32m    685\u001b[0m             \u001b[0mself\u001b[0m\u001b[0;34m.\u001b[0m\u001b[0m_parent_ident\u001b[0m\u001b[0;34m,\u001b[0m\u001b[0;34m\u001b[0m\u001b[0;34m\u001b[0m\u001b[0m\n\u001b[1;32m    686\u001b[0m             \u001b[0mself\u001b[0m\u001b[0;34m.\u001b[0m\u001b[0m_parent_header\u001b[0m\u001b[0;34m,\u001b[0m\u001b[0;34m\u001b[0m\u001b[0;34m\u001b[0m\u001b[0m\n\u001b[0;32m--> 687\u001b[0;31m             \u001b[0mpassword\u001b[0m\u001b[0;34m=\u001b[0m\u001b[0;32mTrue\u001b[0m\u001b[0;34m,\u001b[0m\u001b[0;34m\u001b[0m\u001b[0;34m\u001b[0m\u001b[0m\n\u001b[0m\u001b[1;32m    688\u001b[0m         )\n\u001b[1;32m    689\u001b[0m \u001b[0;34m\u001b[0m\u001b[0m\n",
            "\u001b[0;32m/usr/local/lib/python3.7/dist-packages/ipykernel/kernelbase.py\u001b[0m in \u001b[0;36m_input_request\u001b[0;34m(self, prompt, ident, parent, password)\u001b[0m\n\u001b[1;32m    732\u001b[0m             \u001b[0;32mexcept\u001b[0m \u001b[0mKeyboardInterrupt\u001b[0m\u001b[0;34m:\u001b[0m\u001b[0;34m\u001b[0m\u001b[0;34m\u001b[0m\u001b[0m\n\u001b[1;32m    733\u001b[0m                 \u001b[0;31m# re-raise KeyboardInterrupt, to truncate traceback\u001b[0m\u001b[0;34m\u001b[0m\u001b[0;34m\u001b[0m\u001b[0;34m\u001b[0m\u001b[0m\n\u001b[0;32m--> 734\u001b[0;31m                 \u001b[0;32mraise\u001b[0m \u001b[0mKeyboardInterrupt\u001b[0m\u001b[0;34m\u001b[0m\u001b[0;34m\u001b[0m\u001b[0m\n\u001b[0m\u001b[1;32m    735\u001b[0m             \u001b[0;32melse\u001b[0m\u001b[0;34m:\u001b[0m\u001b[0;34m\u001b[0m\u001b[0;34m\u001b[0m\u001b[0m\n\u001b[1;32m    736\u001b[0m                 \u001b[0;32mbreak\u001b[0m\u001b[0;34m\u001b[0m\u001b[0;34m\u001b[0m\u001b[0m\n",
            "\u001b[0;31mKeyboardInterrupt\u001b[0m: "
          ]
        }
      ]
    },
    {
      "cell_type": "markdown",
      "metadata": {
        "id": "UCToRpGy6F5e"
      },
      "source": [
        "# **SETTING**"
      ]
    },
    {
      "cell_type": "code",
      "metadata": {
        "id": "B0JPGKWy28k2"
      },
      "source": [
        "initial_euqity = int(input('Masukan Initial Equity Anda, Min= 1,000,000 Max= 100,000,000 lalu klik enter? '))\n",
        "while initial_euqity < 1000000 or initial_euqity > 100000000:\n",
        "  print(\"Maaf initial_euqity yang anda masukkan salah, coba di ulang lagi !!!\")\n",
        "  initial_euqity = int(input('Masukan Initial Equity Anda, Min= 1,000,000 Max= 100,000,000 lalu klik enter? '))\n",
        "\n",
        "spread = float(input('Masukan Spread+Slippage Anda, Min= 0.01 Max= 0.05 lalu klik enter? '))\n",
        "while spread < 0.01 or spread > 0.05:\n",
        "  print(\"Maaf spread yang anda masukkan salah, coba di ulang lagi !!!\")\n",
        "  spread = float(input('Masukan Spread+Slippage Anda, Min= 0.01 Max= 0.05 lalu klik enter? '))\n",
        "\n",
        "commision = float(input('Masukan Commision Anda, Min= 0.01 Max= 0.05 lalu klik enter? '))\n",
        "while commision < 0.01 or commision > 0.05:\n",
        "  print(\"Maaf commision yang anda masukkan salah, coba di ulang lagi !!!\")\n",
        "  commision = float(input('Masukan Commision Anda, Min= 0.01 Max= 0.05 lalu klik enter? '))\n",
        "\n",
        "interest = float(input('Masukan Interest Anda, Min= 0.01 Max= 0.05 lalu klik enter? '))\n",
        "while interest < 0.01 or interest > 0.05:\n",
        "  print(\"Maaf interest yang anda masukkan salah, coba di ulang lagi !!!\")\n",
        "  interest = float(input('Masukan Interest Anda, Min= 0.01 Max= 0.05 lalu klik enter? '))\n",
        "\n",
        "print(f\"Anda telah mensetting testing anda, Initial Equity: {initial_euqity}, Spread+Slippage: {spread}\")\n"
      ],
      "execution_count": null,
      "outputs": []
    },
    {
      "cell_type": "markdown",
      "metadata": {
        "id": "Tv7YW7t0fyqv"
      },
      "source": [
        "# **DATA**"
      ]
    },
    {
      "cell_type": "code",
      "metadata": {
        "id": "m8p0NXcaILCL"
      },
      "source": [
        "#add data stock\n",
        "portfolio = {\"ticker\":[],\"data\":[]}\n",
        "while len(portfolio[\"ticker\"]) < 1:\n",
        "  ticker_list = list(map(str, input(\"Enter a multiple ticker, space separated: \").split())) \n",
        "  for x in range(len(ticker_list)):\n",
        "    if ticker_list[x] not in portfolio[\"ticker\"]:\n",
        "      # ticker_data = yf.Ticker(ticker_list[x]).history(period=\"max\")\n",
        "      ticker_data = pdr.get_data_yahoo(ticker_list[x], start=datetime.datetime(1900, 1, 1), end=datetime.datetime.now())\n",
        "      if len(ticker_data) > 2:\n",
        "        portfolio[\"ticker\"].append(ticker_list[x])\n",
        "        portfolio[\"data\"].append(ticker_data)\n",
        "      else:\n",
        "        print(\"maaf data ticker \"+ticker_list[x]+\" tidak cukup data, minimal data 2000 baris\")"
      ],
      "execution_count": null,
      "outputs": []
    },
    {
      "cell_type": "code",
      "metadata": {
        "id": "dTW1Q_0CELW6"
      },
      "source": [
        "#cleaning and rekonstruk test data\n",
        "start_date = datetime.datetime(1900, 1, 1)\n",
        "end_date = datetime.datetime.now()\n",
        "for i in range(len(portfolio[\"data\"])):  \n",
        "  if portfolio[\"data\"][i].index.max() < end_date:\n",
        "    end_date = portfolio[\"data\"][i].index.max()\n",
        "  if portfolio[\"data\"][i].index.min() > start_date:\n",
        "    start_date = portfolio[\"data\"][i].index.min()\n",
        "run_date = start_date\n",
        "idx = []\n",
        "data = []\n",
        "\n",
        "bar = progressbar.ProgressBar(max_value=progressbar.UnknownLength)\n",
        "i = 0\n",
        "while run_date < end_date:  \n",
        "  data_array = {} \n",
        "  for i in range(len(portfolio[\"data\"])):   \n",
        "    if run_date in portfolio[\"data\"][i].index:\n",
        "      data_array[portfolio[\"ticker\"][i]] = portfolio[\"data\"][i][\"Adj Close\"].loc[run_date]\n",
        "    else:\n",
        "      data_array[portfolio[\"ticker\"][i]] = data[len(data)-1][portfolio[\"ticker\"][i]]  \n",
        "  idx.append(run_date)\n",
        "  data.append(data_array)\n",
        "  \n",
        "  if run_date.weekday() == 4:\n",
        "    run_date = run_date + datetime.timedelta(days=3)\n",
        "  else:\n",
        "    run_date = run_date + datetime.timedelta(days=1)\n",
        "\n",
        "  #progress bar\n",
        "  bar.update(i)\n",
        "  i += 1\n",
        "  if time.localtime().tm_sec == 10:\n",
        "    break\n",
        "\n",
        "test_data = pd.DataFrame(data,index=idx)\n",
        "test_data.index.name = \"date\"\n",
        "print('\\n')  \n",
        "print(test_data)"
      ],
      "execution_count": null,
      "outputs": []
    },
    {
      "cell_type": "code",
      "metadata": {
        "id": "FLTvXxHPTA9T"
      },
      "source": [
        "from sys import stdout\n",
        "from time import sleep\n",
        "i =0\n",
        "while i < 7500:\n",
        "    stdout.write(\"\\r%d\" % i)\n",
        "    stdout.flush()\n",
        "    # sleep(0.01)\n",
        "    i+=1\n",
        "stdout.write(\"\\n\") # move the cursor to the next line"
      ],
      "execution_count": null,
      "outputs": []
    },
    {
      "cell_type": "code",
      "metadata": {
        "id": "vUuNHI1lHidM"
      },
      "source": [
        "from time import sleep\n",
        "from tqdm import tqdm\n",
        "import time\n",
        "import sys\n",
        "\n",
        "toolbar_width = 50\n",
        "\n",
        "# setup toolbar\n",
        "sys.stdout.write(\"[%s]\" % (\" \" * toolbar_width))\n",
        "sys.stdout.flush()\n",
        "sys.stdout.write(\"\\b\" * (toolbar_width+1)) # return to start of line, after '['\n",
        "\n",
        "# for i in tqdm(range(5)):\n",
        "#     sleep(1)\n",
        "\n",
        "time.sleep(0.1) # do real work here\n",
        "sys.stdout.write(\"***\")\n",
        "sys.stdout.flush()\n",
        "sys.stdout.write(\"]\\n\") # this ends the progress bar\n",
        "\n"
      ],
      "execution_count": null,
      "outputs": []
    },
    {
      "cell_type": "code",
      "metadata": {
        "id": "m1DPNn8tqDuI"
      },
      "source": [
        "test_data = pd.DataFrame()\n",
        "dff = []\n",
        "data2 = { \n",
        "      portfolio[\"ticker\"][0]:portfolio[\"data\"][0][\"Adj Close\"].loc[\"2021-07-29\"],\n",
        "      portfolio[\"ticker\"][1]:portfolio[\"data\"][1][\"Adj Close\"].loc[\"2021-07-29\"],\n",
        "      portfolio[\"ticker\"][2]:portfolio[\"data\"][2][\"Adj Close\"].loc[\"2021-07-29\"],\n",
        "      portfolio[\"ticker\"][3]:portfolio[\"data\"][3][\"Adj Close\"].loc[\"2021-07-29\"],\n",
        "      portfolio[\"ticker\"][4]:portfolio[\"data\"][4][\"Adj Close\"].loc[\"2021-07-29\"]\n",
        "      }\n",
        "dff.append(data2)\n",
        "d = pd.DataFrame([data2],index=[\"2021-07-29\"])\n",
        "print(d)"
      ],
      "execution_count": null,
      "outputs": []
    },
    {
      "cell_type": "code",
      "metadata": {
        "id": "qkI3ZVGDsVcv"
      },
      "source": [
        "df = pd.DataFrame([data2],\n",
        "                  index=[\"circle\"])\n",
        "df"
      ],
      "execution_count": null,
      "outputs": []
    },
    {
      "cell_type": "code",
      "metadata": {
        "id": "gYigos4Fluwe"
      },
      "source": [
        "yf.pdr_override() # <== that's all it takes :-)\n",
        "\n",
        "# download dataframe\n",
        "data = pdr.get_data_yahoo(\"SPY\", start=\"2017-01-01\", end=\"2017-04-30\")['Adj Close']\n",
        "print(data)"
      ],
      "execution_count": null,
      "outputs": []
    },
    {
      "cell_type": "code",
      "metadata": {
        "id": "K78KOC0_Ee7p"
      },
      "source": [
        "# creating an empty list\n",
        "lst = []\n",
        "# iterating till the range\n",
        "for i in range(0, 12):\n",
        "    ele = input(prompt=f'Ticker{i+1} ') \n",
        "    lst.append(ele) # adding the element     \n",
        "print(f\"portfolio {lst}\")"
      ],
      "execution_count": null,
      "outputs": []
    },
    {
      "cell_type": "code",
      "metadata": {
        "id": "Wx7wotRhRh8m"
      },
      "source": [
        "msft = yf.Ticker(\"MSFT\")\n",
        "hist = msft.history(period=\"max\")\n",
        "print(hist)\n",
        "\n",
        "if len(hist) == 0:\n",
        "  print(\"no data\")"
      ],
      "execution_count": null,
      "outputs": []
    },
    {
      "cell_type": "code",
      "metadata": {
        "id": "mNjrbJ6eu3BA"
      },
      "source": [
        "pn.extension()\n",
        "exchange = pn.widgets.Select(name='Select Exchange', options=['Exchange','NASDAQ', 'NYSE', 'LSE', 'EURONEXT'])\n",
        "exchange"
      ],
      "execution_count": null,
      "outputs": []
    },
    {
      "cell_type": "code",
      "metadata": {
        "id": "9wrPddgUrvQC"
      },
      "source": [
        "# pn.extension()\n",
        "# cross_selector = pn.widgets.CrossSelector(name='Fruits', value=['Apple', 'Pear'], options=['Apple', 'Banana', 'Pear', 'Strawberry'])\n",
        "# cross_selector\n",
        "# ticker1 = pn.widgets.MultiSelect(name='Select Tickers', value=[], options=['AAPL', 'AMD', 'AMZN', 'ATN'], size=8)\n",
        "\n",
        "pn.extension()\n",
        "ticker1 = pn.widgets.CrossSelector(name='Select Tickers', value=[], options=['AAPL', 'AMD', 'AMZN', 'ATN','AAPL', 'AMD', 'AMZN', 'ATN','AAPL', 'AMD', 'AMZN', 'ATN','AAPL', 'AMD', 'AMZN', 'ATN','AAPL', 'AMD', 'AMZN', 'ATN','AAPL', 'AMD', 'AMZN', 'ATN'], size=8)\n",
        "ticker2 = pn.widgets.CrossSelector(name='Select Tickers', value=[], options=['AAPL2', 'AMD2', 'AMZN2', 'ATN2'], size=8)\n",
        "ticker3 = pn.widgets.CrossSelector(name='Select Tickers', value=[], options=['AAPL3', 'AMD3', 'AMZN3', 'ATN3'], size=8)\n",
        "ticker4 = pn.widgets.CrossSelector(name='Select Tickers', value=[], options=['AAPL4', 'AMD4', 'AMZN4', 'ATN4'], size=8)\n",
        "if exchange.value == 'NASDAQ':\n",
        "    display(ticker1)\n",
        "elif exchange.value == 'NYSE':\n",
        "    display(ticker2)\n",
        "elif exchange.value == 'LSE':\n",
        "    display(ticker3)\n",
        "elif exchange.value == 'EURONEXT':\n",
        "    display(ticker4)\n",
        "else:\n",
        "  print(\"no exchange select\")\n",
        " "
      ],
      "execution_count": null,
      "outputs": []
    },
    {
      "cell_type": "code",
      "metadata": {
        "id": "ih7Y6kKeXHdv"
      },
      "source": [
        "print(ticker1.value[0])"
      ],
      "execution_count": null,
      "outputs": []
    },
    {
      "cell_type": "code",
      "metadata": {
        "id": "bx-Tv1Z3veP9"
      },
      "source": [
        "if len(ticker1.value) < 4:\n",
        "  raise Exception(\"You dont have enough tickers\")\n",
        "else:\n",
        "  df01 = pd.read_csv(f\"https://raw.githubusercontent.com/heriyang9000/mysys/main/dataset/NASDAQ/{ticker1.value[0]}.csv\")\n",
        "  df02 = pd.read_csv(f\"https://raw.githubusercontent.com/heriyang9000/mysys/main/dataset/NASDAQ/{ticker1.value[0]}.csv\")\n",
        "  df03 = pd.read_csv(f\"https://raw.githubusercontent.com/heriyang9000/mysys/main/dataset/NASDAQ/{ticker1.value[0]}.csv\")\n",
        "  df04 = pd.read_csv(f\"https://raw.githubusercontent.com/heriyang9000/mysys/main/dataset/NASDAQ/{ticker1.value[0]}.csv\")\n",
        "  df05 = pd.read_csv(f\"https://raw.githubusercontent.com/heriyang9000/mysys/main/dataset/NASDAQ/{ticker1.value[0]}.csv\")\n",
        "  df06 = pd.read_csv(f\"https://raw.githubusercontent.com/heriyang9000/mysys/main/dataset/NASDAQ/{ticker1.value[0]}.csv\")\n",
        "  df07 = pd.read_csv(f\"https://raw.githubusercontent.com/heriyang9000/mysys/main/dataset/NASDAQ/{ticker1.value[0]}.csv\")\n",
        "  df08 = pd.read_csv(f\"https://raw.githubusercontent.com/heriyang9000/mysys/main/dataset/NASDAQ/{ticker1.value[0]}.csv\")\n",
        "  df09 = pd.read_csv(f\"https://raw.githubusercontent.com/heriyang9000/mysys/main/dataset/NASDAQ/{ticker1.value[0]}.csv\")\n",
        "  df10 = pd.read_csv(f\"https://raw.githubusercontent.com/heriyang9000/mysys/main/dataset/NASDAQ/{ticker1.value[0]}.csv\")\n",
        "  df11 = pd.read_csv(f\"https://raw.githubusercontent.com/heriyang9000/mysys/main/dataset/NASDAQ/{ticker1.value[0]}.csv\")\n",
        "  df12 = pd.read_csv(f\"https://raw.githubusercontent.com/heriyang9000/mysys/main/dataset/NASDAQ/{ticker1.value[0]}.csv\")\n",
        "  df13 = pd.read_csv(f\"https://raw.githubusercontent.com/heriyang9000/mysys/main/dataset/NASDAQ/{ticker1.value[0]}.csv\")\n",
        "  df14 = pd.read_csv(f\"https://raw.githubusercontent.com/heriyang9000/mysys/main/dataset/NASDAQ/{ticker1.value[0]}.csv\")\n",
        "  df15 = pd.read_csv(f\"https://raw.githubusercontent.com/heriyang9000/mysys/main/dataset/NASDAQ/{ticker1.value[0]}.csv\")\n",
        "  df16 = pd.read_csv(f\"https://raw.githubusercontent.com/heriyang9000/mysys/main/dataset/NASDAQ/{ticker1.value[0]}.csv\")\n",
        "  df17 = pd.read_csv(f\"https://raw.githubusercontent.com/heriyang9000/mysys/main/dataset/NASDAQ/{ticker1.value[0]}.csv\")\n",
        "  df18 = pd.read_csv(f\"https://raw.githubusercontent.com/heriyang9000/mysys/main/dataset/NASDAQ/{ticker1.value[0]}.csv\")\n",
        "  df19 = pd.read_csv(f\"https://raw.githubusercontent.com/heriyang9000/mysys/main/dataset/NASDAQ/{ticker1.value[0]}.csv\")\n",
        "  df20 = pd.read_csv(f\"https://raw.githubusercontent.com/heriyang9000/mysys/main/dataset/NASDAQ/{ticker1.value[0]}.csv\")\n",
        "  df21 = pd.read_csv(f\"https://raw.githubusercontent.com/heriyang9000/mysys/main/dataset/NASDAQ/{ticker1.value[0]}.csv\")\n",
        "  df22 = pd.read_csv(f\"https://raw.githubusercontent.com/heriyang9000/mysys/main/dataset/NASDAQ/{ticker1.value[0]}.csv\")\n",
        "  df23 = pd.read_csv(f\"https://raw.githubusercontent.com/heriyang9000/mysys/main/dataset/NASDAQ/{ticker1.value[0]}.csv\")\n",
        "  df24 = pd.read_csv(f\"https://raw.githubusercontent.com/heriyang9000/mysys/main/dataset/NASDAQ/{ticker1.value[0]}.csv\")\n",
        "  df25 = pd.read_csv(f\"https://raw.githubusercontent.com/heriyang9000/mysys/main/dataset/NASDAQ/{ticker1.value[0]}.csv\")\n",
        "  df26 = pd.read_csv(f\"https://raw.githubusercontent.com/heriyang9000/mysys/main/dataset/NASDAQ/{ticker1.value[0]}.csv\")\n",
        "  df27 = pd.read_csv(f\"https://raw.githubusercontent.com/heriyang9000/mysys/main/dataset/NASDAQ/{ticker1.value[0]}.csv\")\n",
        "  df28 = pd.read_csv(f\"https://raw.githubusercontent.com/heriyang9000/mysys/main/dataset/NASDAQ/{ticker1.value[0]}.csv\")\n",
        "  df29 = pd.read_csv(f\"https://raw.githubusercontent.com/heriyang9000/mysys/main/dataset/NASDAQ/{ticker1.value[0]}.csv\")\n",
        "  df30 = pd.read_csv(f\"https://raw.githubusercontent.com/heriyang9000/mysys/main/dataset/NASDAQ/{ticker1.value[0]}.csv\")\n",
        "\n",
        "  print(df01.to_string()) "
      ],
      "execution_count": null,
      "outputs": []
    },
    {
      "cell_type": "code",
      "metadata": {
        "id": "jQMTqkJ8C6Vd"
      },
      "source": [
        "widgets.Combobox(\n",
        "    # value='John',\n",
        "    placeholder='Choose Someone',\n",
        "    options=['Paul', 'John', 'George', 'Ringo'],\n",
        "    description='Combobox:',\n",
        "    ensure_option=True,\n",
        "    disabled=False\n",
        ")"
      ],
      "execution_count": null,
      "outputs": []
    },
    {
      "cell_type": "code",
      "metadata": {
        "id": "IrZ2LBm-HPVN"
      },
      "source": [
        "pn.extension()\n",
        "progress = pn.indicators.Progress(name='Progress', value=20, width=200)\n",
        "progress"
      ],
      "execution_count": null,
      "outputs": []
    },
    {
      "cell_type": "code",
      "metadata": {
        "id": "dj5lqc_DRGH_"
      },
      "source": [
        "pn.extension()\n",
        "\n",
        "terminal = pn.widgets.Terminal(\n",
        "    \"Welcome to the Panel Terminal!\\nI'm based on xterm.js\\n\\n\",\n",
        "    options={\"cursorBlink\": True},\n",
        "    height=300, sizing_mode='stretch_width'\n",
        ")\n",
        "\n",
        "terminal"
      ],
      "execution_count": null,
      "outputs": []
    },
    {
      "cell_type": "code",
      "metadata": {
        "id": "XAMWZb9ufIFz"
      },
      "source": [
        "pn.extension()\n",
        "large_df = pd._testing.makeCustomDataframe(100, 5) \n",
        "\n",
        "paginated_table = pn.widgets.Tabulator(large_df, disabled=True, pagination='remote', page_size=10)\n",
        "paginated_table"
      ],
      "execution_count": null,
      "outputs": []
    },
    {
      "cell_type": "code",
      "metadata": {
        "id": "xnq7eLoQieGL"
      },
      "source": [
        "pn.extension()\n",
        "df = pd.DataFrame({\n",
        "    'int': [1, 2, 3],\n",
        "    'float': [3.14, 6.28, 9.42],\n",
        "    'str': ['A', 'B', 'C'],\n",
        "    'bool': [True, False, True],\n",
        "    'date': [dt.date(2019, 1, 1), dt.date(2020, 1, 1), dt.date(2020, 1, 10)]\n",
        "}, index=[1, 2, 3])\n",
        "\n",
        "df_widget = pn.widgets.Tabulator(df, disabled =True, configuration={\"headerSort\": False, \"resizableColumns\": False})\n",
        "df_widget.servable()"
      ],
      "execution_count": null,
      "outputs": []
    },
    {
      "cell_type": "code",
      "metadata": {
        "id": "zw9JE-0cy_hZ"
      },
      "source": [
        "pn.extension()\n",
        "json_obj = {   \n",
        "    'data_id': \"00000\",\n",
        "    'timestamp': \"mm/dd/yyy 00:00:00\",\n",
        "    'buying_power': \"No Data\",\n",
        "    'stock01_price': \"No Data\",\n",
        "    'stock02_price': \"No Data\",\n",
        "    'stock03_price': \"No Data\",\n",
        "    'stock04_price': \"No Data\",\n",
        "    'stock05_price': \"No Data\",\n",
        "    'stock06_price': \"No Data\",\n",
        "    'stock07_price': \"No Data\",\n",
        "    'stock08_price': \"No Data\",\n",
        "    'stock09_price': \"No Data\",\n",
        "    'stock10_price': \"No Data\",\n",
        "    'stock11_price': \"No Data\",\n",
        "    'stock12_price': \"No Data\",\n",
        "    'stock13_price': \"No Data\",\n",
        "    'stock14_price': \"No Data\",\n",
        "    'stock15_price': \"No Data\",\n",
        "    'stock16_price': \"No Data\",\n",
        "    'stock17_price': \"No Data\",\n",
        "    'stock18_price': \"No Data\",\n",
        "    'stock19_price': \"No Data\",\n",
        "    'stock20_price': \"No Data\",\n",
        "    'stock21_price': \"No Data\",\n",
        "    'stock22_price': \"No Data\",\n",
        "    'stock23_price': \"No Data\",\n",
        "    'stock24_price': \"No Data\",\n",
        "    'stock25_price': \"No Data\",\n",
        "    'stock26_price': \"No Data\",\n",
        "    'stock27_price': \"No Data\",\n",
        "    'stock28_price': \"No Data\",\n",
        "    'stock29_price': \"No Data\",\n",
        "    'stock30_price': \"No Data\"\n",
        "}\n",
        "\n",
        "json = pn.pane.JSON(json_obj, name='JSON', height=300, width=500)\n",
        "\n",
        "json"
      ],
      "execution_count": null,
      "outputs": []
    },
    {
      "cell_type": "code",
      "metadata": {
        "id": "ptJcoXkp-4kw"
      },
      "source": [
        "pn.extension()\n",
        "p1 = figure(width=300, height=300, name='Scatter', margin=5)\n",
        "p1.scatter([0, 1, 2, 3, 4, 5, 6], [0, 1, 2, 3, 2, 1, 0])\n",
        "\n",
        "p2 = figure(width=300, height=300, name='Line', margin=5)\n",
        "p2.line([0, 1, 2, 3, 4, 5, 6], [0, 1, 2, 3, 2, 1, 0])\n",
        "\n",
        "p3 = figure(width=300, height=300, name='Square', margin=5)\n",
        "p3.square([0, 1, 2, 3, 4, 5, 6], [0, 1, 2, 3, 2, 1, 0], size=10)\n",
        "\n",
        "accordion.append(p3)\n",
        "accordion"
      ],
      "execution_count": null,
      "outputs": []
    },
    {
      "cell_type": "code",
      "metadata": {
        "id": "YQziZCgaBV0J"
      },
      "source": [
        "pn.extension()\n",
        "number = pn.indicators.Number(\n",
        "    name='Failure Rate', value=72, format='{value}%',\n",
        "    colors=[(33, 'green'), (66, 'gold'), (100, 'red')]\n",
        ")\n",
        "\n",
        "pn.Row(number.clone(value=10), number.clone(value=42), number.clone(value=93))"
      ],
      "execution_count": null,
      "outputs": []
    },
    {
      "cell_type": "code",
      "metadata": {
        "id": "NQdJOhW5CEXj"
      },
      "source": [
        "pn.extension()\n",
        "data = {'x': np.arange(50), 'y': np.random.randn(50).cumsum()}\n",
        "\n",
        "trend = pn.indicators.Trend(\n",
        "    title='Price', data=data, width=200, height=200\n",
        ")\n",
        "trend\n",
        "def stream_data():\n",
        "    trend.stream({'x': [trend.data['x'][-1]+1], 'y': [trend.data['y'][-1]+np.random.randn()]}, rollover=50)\n",
        "\n",
        "pn.state.add_periodic_callback(stream_data, period=250, count=100);\n",
        "pn.Row(*(trend.clone(plot_type=pt) for pt in trend.param.plot_type.objects))"
      ],
      "execution_count": null,
      "outputs": []
    },
    {
      "cell_type": "code",
      "metadata": {
        "id": "RgvSNXgapyaz"
      },
      "source": [
        "pn.extension()\n",
        "date_range_slider = pn.widgets.DateRangeSlider(\n",
        "    name='Date Range Slider',\n",
        "    start=dt.datetime(2017, 1, 1), end=dt.datetime(2019, 1, 1),\n",
        "    value=(dt.datetime(2017, 1, 1), dt.datetime(2018, 1, 10))\n",
        ")\n",
        "\n",
        "date_range_slider"
      ],
      "execution_count": null,
      "outputs": []
    },
    {
      "cell_type": "code",
      "metadata": {
        "id": "Bo7POHsmdTm_"
      },
      "source": [
        "from ipywidgets import Button\n",
        "import asyncio\n",
        "\n",
        "def wait_for_change(widget):\n",
        "    future = asyncio.Future()\n",
        "    def getvalue(change):\n",
        "        future.set_result(change.description)\n",
        "        widget.on_click(getvalue, remove=True) \n",
        "        # we need to free up the binding to getvalue to avoid an InvalidState error\n",
        "        # buttons don't support unobserve\n",
        "        # so use `remove=True` \n",
        "    widget.on_click(getvalue)\n",
        "    return future\n",
        "\n",
        "button = Button(description=\"wow\")\n",
        "\n",
        "list_to_tag = [\"one\", \"two\", \"three\", \"four\"]\n",
        "\n",
        "async def f():\n",
        "    for i in list_to_tag:\n",
        "        print(\"going to tag {}\".format(i))\n",
        "        x = await wait_for_change(button)\n",
        "        print(\"tagged {} with {}\".format(i, x))\n",
        "        print()\n",
        "\n",
        "asyncio.create_task(f())\n",
        "button"
      ],
      "execution_count": null,
      "outputs": []
    },
    {
      "cell_type": "code",
      "metadata": {
        "id": "IlSrKNmdGX5v"
      },
      "source": [
        "pn.extension()\n",
        "\n",
        "df = pd.DataFrame({'int': [1, 2, 3], 'float': [3.14, 6.28, 9.42], 'str': ['A', 'B', 'C'], 'bool': [True, False, True]})\n",
        "\n",
        "df_widget = pn.widgets.DataFrame(df, name='DataFrame')\n",
        "\n",
        "df_widget"
      ],
      "execution_count": null,
      "outputs": []
    },
    {
      "cell_type": "code",
      "metadata": {
        "id": "BWzCC9ADsDsh"
      },
      "source": [
        "import plotly.graph_objects as go\n",
        "\n",
        "fig = go.Figure(data=[go.Table(\n",
        "    header=dict(values=['A Scores', 'B Scores'],\n",
        "                # line_color='darkslategray',\n",
        "                # fill_color='lightskyblue',\n",
        "                align='left'),\n",
        "    cells=dict(values=[[100, 90, 80, 90,100, 90, 80, 90,100, 90, 80, 90,100, 90, 80, 90,100, 90, 80, 90], # 1st column\n",
        "                       [95, 85, 75, 95,95, 85, 75, 95,95, 85, 75, 95,95, 85, 75, 95,95, 85, 75, 95]], # 2nd column\n",
        "              #  line_color='darkslategray',\n",
        "              #  fill_color='lightcyan',\n",
        "               align='left'))\n",
        "])\n",
        "\n",
        "fig.update_layout(width=400, height=350)\n",
        "fig.show()"
      ],
      "execution_count": null,
      "outputs": []
    }
  ]
}