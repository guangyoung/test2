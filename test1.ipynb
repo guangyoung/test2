{
  "nbformat": 4,
  "nbformat_minor": 0,
  "metadata": {
    "colab": {
      "name": "test1.ipynb",
      "provenance": [],
      "collapsed_sections": [],
      "authorship_tag": "ABX9TyOugvQeSkM6aBtKI04PXUgu",
      "include_colab_link": true
    },
    "kernelspec": {
      "name": "python3",
      "display_name": "Python 3"
    },
    "language_info": {
      "name": "python"
    },
    "widgets": {
      "application/vnd.jupyter.widget-state+json": {
        "2735dab132224cc195e0d5929836e6ea": {
          "model_module": "@jupyter-widgets/controls",
          "model_name": "DropdownModel",
          "state": {
            "_options_labels": [
              "NASDAQ",
              "NYSE",
              "LSE",
              "EURONEXT"
            ],
            "_view_name": "DropdownView",
            "style": "IPY_MODEL_9a71ad49263f4823b4e18ee265749ee9",
            "_dom_classes": [],
            "description": "Choose",
            "_model_name": "DropdownModel",
            "index": 2,
            "_view_module": "@jupyter-widgets/controls",
            "_model_module_version": "1.5.0",
            "_view_count": null,
            "disabled": false,
            "_view_module_version": "1.5.0",
            "description_tooltip": null,
            "_model_module": "@jupyter-widgets/controls",
            "layout": "IPY_MODEL_0ad3932ce18842779a305847a7608a2a"
          }
        },
        "9a71ad49263f4823b4e18ee265749ee9": {
          "model_module": "@jupyter-widgets/controls",
          "model_name": "DescriptionStyleModel",
          "state": {
            "_view_name": "StyleView",
            "_model_name": "DescriptionStyleModel",
            "description_width": "",
            "_view_module": "@jupyter-widgets/base",
            "_model_module_version": "1.5.0",
            "_view_count": null,
            "_view_module_version": "1.2.0",
            "_model_module": "@jupyter-widgets/controls"
          }
        },
        "0ad3932ce18842779a305847a7608a2a": {
          "model_module": "@jupyter-widgets/base",
          "model_name": "LayoutModel",
          "state": {
            "_view_name": "LayoutView",
            "grid_template_rows": null,
            "right": null,
            "justify_content": null,
            "_view_module": "@jupyter-widgets/base",
            "overflow": null,
            "_model_module_version": "1.2.0",
            "_view_count": null,
            "flex_flow": null,
            "width": null,
            "min_width": null,
            "border": null,
            "align_items": null,
            "bottom": null,
            "_model_module": "@jupyter-widgets/base",
            "top": null,
            "grid_column": null,
            "overflow_y": null,
            "overflow_x": null,
            "grid_auto_flow": null,
            "grid_area": null,
            "grid_template_columns": null,
            "flex": null,
            "_model_name": "LayoutModel",
            "justify_items": null,
            "grid_row": null,
            "max_height": null,
            "align_content": null,
            "visibility": null,
            "align_self": null,
            "height": null,
            "min_height": null,
            "padding": null,
            "grid_auto_rows": null,
            "grid_gap": null,
            "max_width": null,
            "order": null,
            "_view_module_version": "1.2.0",
            "grid_template_areas": null,
            "object_position": null,
            "object_fit": null,
            "grid_auto_columns": null,
            "margin": null,
            "display": null,
            "left": null
          }
        },
        "a2211e8822a943fba324fe3610afa01c": {
          "model_module": "@jupyter-widgets/controls",
          "model_name": "DropdownModel",
          "state": {
            "_options_labels": [
              "AAPL",
              "AMD",
              "AMZN",
              "AT"
            ],
            "_view_name": "DropdownView",
            "style": "IPY_MODEL_79462c8174e54a82b25927868259d90e",
            "_dom_classes": [],
            "description": "Choose",
            "_model_name": "DropdownModel",
            "index": 0,
            "_view_module": "@jupyter-widgets/controls",
            "_model_module_version": "1.5.0",
            "_view_count": null,
            "disabled": false,
            "_view_module_version": "1.5.0",
            "description_tooltip": null,
            "_model_module": "@jupyter-widgets/controls",
            "layout": "IPY_MODEL_8a4f0bde19c34263a5d31635641ced23"
          }
        },
        "79462c8174e54a82b25927868259d90e": {
          "model_module": "@jupyter-widgets/controls",
          "model_name": "DescriptionStyleModel",
          "state": {
            "_view_name": "StyleView",
            "_model_name": "DescriptionStyleModel",
            "description_width": "",
            "_view_module": "@jupyter-widgets/base",
            "_model_module_version": "1.5.0",
            "_view_count": null,
            "_view_module_version": "1.2.0",
            "_model_module": "@jupyter-widgets/controls"
          }
        },
        "8a4f0bde19c34263a5d31635641ced23": {
          "model_module": "@jupyter-widgets/base",
          "model_name": "LayoutModel",
          "state": {
            "_view_name": "LayoutView",
            "grid_template_rows": null,
            "right": null,
            "justify_content": null,
            "_view_module": "@jupyter-widgets/base",
            "overflow": null,
            "_model_module_version": "1.2.0",
            "_view_count": null,
            "flex_flow": null,
            "width": null,
            "min_width": null,
            "border": null,
            "align_items": null,
            "bottom": null,
            "_model_module": "@jupyter-widgets/base",
            "top": null,
            "grid_column": null,
            "overflow_y": null,
            "overflow_x": null,
            "grid_auto_flow": null,
            "grid_area": null,
            "grid_template_columns": null,
            "flex": null,
            "_model_name": "LayoutModel",
            "justify_items": null,
            "grid_row": null,
            "max_height": null,
            "align_content": null,
            "visibility": null,
            "align_self": null,
            "height": null,
            "min_height": null,
            "padding": null,
            "grid_auto_rows": null,
            "grid_gap": null,
            "max_width": null,
            "order": null,
            "_view_module_version": "1.2.0",
            "grid_template_areas": null,
            "object_position": null,
            "object_fit": null,
            "grid_auto_columns": null,
            "margin": null,
            "display": null,
            "left": null
          }
        }
      }
    }
  },
  "cells": [
    {
      "cell_type": "markdown",
      "metadata": {
        "id": "view-in-github",
        "colab_type": "text"
      },
      "source": [
        "<a href=\"https://colab.research.google.com/github/heriyang9000/test2/blob/main/test1.ipynb\" target=\"_parent\"><img src=\"https://colab.research.google.com/assets/colab-badge.svg\" alt=\"Open In Colab\"/></a>"
      ]
    },
    {
      "cell_type": "code",
      "metadata": {
        "id": "nLY3sDK-nl1e"
      },
      "source": [
        "import getpass\n",
        "import pandas as pd\n",
        "import ipywidgets as widgets"
      ],
      "execution_count": 40,
      "outputs": []
    },
    {
      "cell_type": "code",
      "metadata": {
        "id": "LmLZo7bujvd_"
      },
      "source": [
        "api_key = getpass.getpass()"
      ],
      "execution_count": null,
      "outputs": []
    },
    {
      "cell_type": "code",
      "metadata": {
        "id": "VVS8rUiriuZP"
      },
      "source": [
        "initial_equity=input()\n",
        "bidaskspread=input()\n",
        "commision=input()\n",
        "interest=input()"
      ],
      "execution_count": null,
      "outputs": []
    },
    {
      "cell_type": "code",
      "metadata": {
        "id": "mNjrbJ6eu3BA",
        "outputId": "06177589-c56d-40cc-fd7c-feded6f15dfd",
        "colab": {
          "base_uri": "https://localhost:8080/",
          "height": 66,
          "referenced_widgets": [
            "2735dab132224cc195e0d5929836e6ea",
            "9a71ad49263f4823b4e18ee265749ee9",
            "0ad3932ce18842779a305847a7608a2a"
          ]
        }
      },
      "source": [
        "exchange = 'NASDAQ'\n",
        "drop_down = widgets.Dropdown(options=['NASDAQ','NYSE','LSE','EURONEXT'],\n",
        "                                description='Choose',\n",
        "                                disabled=False)\n",
        "\n",
        "def dropdown_handler(change):\n",
        "    global exchange\n",
        "    print(change.new)\n",
        "    exchange = change.new  # This line isn't working\n",
        "drop_down.observe(dropdown_handler, names='value')\n",
        "display(drop_down)"
      ],
      "execution_count": 123,
      "outputs": [
        {
          "output_type": "display_data",
          "data": {
            "application/vnd.jupyter.widget-view+json": {
              "model_id": "2735dab132224cc195e0d5929836e6ea",
              "version_minor": 0,
              "version_major": 2
            },
            "text/plain": [
              "Dropdown(description='Choose', options=('NASDAQ', 'NYSE', 'LSE', 'EURONEXT'), value='NASDAQ')"
            ]
          },
          "metadata": {
            "tags": []
          }
        },
        {
          "output_type": "stream",
          "text": [
            "LSE\n"
          ],
          "name": "stdout"
        }
      ]
    },
    {
      "cell_type": "code",
      "metadata": {
        "id": "9wrPddgUrvQC",
        "outputId": "6de86935-b86f-4e55-ccab-da686f3c69bc",
        "colab": {
          "base_uri": "https://localhost:8080/",
          "height": 66,
          "referenced_widgets": [
            "a2211e8822a943fba324fe3610afa01c",
            "79462c8174e54a82b25927868259d90e",
            "8a4f0bde19c34263a5d31635641ced23"
          ]
        }
      },
      "source": [
        "print(exchange)\n",
        "if exchange == 'LSE':\n",
        "    ticker = 'AAPL'\n",
        "    drop_down = widgets.Dropdown(options=['AAPL','AMD','AMZN','AT'],\n",
        "                                description='Choose',\n",
        "                                disabled=False)\n",
        "\n",
        "    def dropdown_handler(change):\n",
        "        global ticker\n",
        "        print(change.new)\n",
        "        ticker = change.new  # This line isn't working\n",
        "    drop_down.observe(dropdown_handler, names='value')\n",
        "    display(drop_down)\n",
        "else:\n",
        "  print(\"no exchange select\")"
      ],
      "execution_count": 125,
      "outputs": [
        {
          "output_type": "stream",
          "text": [
            "LSE\n"
          ],
          "name": "stdout"
        },
        {
          "output_type": "display_data",
          "data": {
            "application/vnd.jupyter.widget-view+json": {
              "model_id": "a2211e8822a943fba324fe3610afa01c",
              "version_minor": 0,
              "version_major": 2
            },
            "text/plain": [
              "Dropdown(description='Choose', options=('AAPL', 'AMD', 'AMZN', 'AT'), value='AAPL')"
            ]
          },
          "metadata": {
            "tags": []
          }
        }
      ]
    },
    {
      "cell_type": "code",
      "metadata": {
        "id": "bx-Tv1Z3veP9"
      },
      "source": [
        "df01 = pd.read_csv('https://raw.githubusercontent.com/heriyang9000/mysys/main/dataset/NASDAQ/AAPL.csv')\n",
        "df02 = pd.read_csv('https://raw.githubusercontent.com/heriyang9000/mysys/main/dataset/NASDAQ/AAPL.csv')\n",
        "df03 = pd.read_csv('https://raw.githubusercontent.com/heriyang9000/mysys/main/dataset/NASDAQ/AAPL.csv')\n",
        "df04 = pd.read_csv('https://raw.githubusercontent.com/heriyang9000/mysys/main/dataset/NASDAQ/AAPL.csv')\n",
        "df05 = pd.read_csv('https://raw.githubusercontent.com/heriyang9000/mysys/main/dataset/NASDAQ/AAPL.csv')\n",
        "df06 = pd.read_csv('https://raw.githubusercontent.com/heriyang9000/mysys/main/dataset/NASDAQ/AAPL.csv')\n",
        "df07 = pd.read_csv('https://raw.githubusercontent.com/heriyang9000/mysys/main/dataset/NASDAQ/AAPL.csv')\n",
        "df08 = pd.read_csv('https://raw.githubusercontent.com/heriyang9000/mysys/main/dataset/NASDAQ/AAPL.csv')\n",
        "df09 = pd.read_csv('https://raw.githubusercontent.com/heriyang9000/mysys/main/dataset/NASDAQ/AAPL.csv')\n",
        "df10 = pd.read_csv('https://raw.githubusercontent.com/heriyang9000/mysys/main/dataset/NASDAQ/AAPL.csv')\n",
        "df11 = pd.read_csv('https://raw.githubusercontent.com/heriyang9000/mysys/main/dataset/NASDAQ/AAPL.csv')\n",
        "df12 = pd.read_csv('https://raw.githubusercontent.com/heriyang9000/mysys/main/dataset/NASDAQ/AAPL.csv')\n",
        "df13 = pd.read_csv('https://raw.githubusercontent.com/heriyang9000/mysys/main/dataset/NASDAQ/AAPL.csv')\n",
        "df14 = pd.read_csv('https://raw.githubusercontent.com/heriyang9000/mysys/main/dataset/NASDAQ/AAPL.csv')\n",
        "df15 = pd.read_csv('https://raw.githubusercontent.com/heriyang9000/mysys/main/dataset/NASDAQ/AAPL.csv')\n",
        "df16 = pd.read_csv('https://raw.githubusercontent.com/heriyang9000/mysys/main/dataset/NASDAQ/AAPL.csv')\n",
        "df17 = pd.read_csv('https://raw.githubusercontent.com/heriyang9000/mysys/main/dataset/NASDAQ/AAPL.csv')\n",
        "df18 = pd.read_csv('https://raw.githubusercontent.com/heriyang9000/mysys/main/dataset/NASDAQ/AAPL.csv')\n",
        "df19 = pd.read_csv('https://raw.githubusercontent.com/heriyang9000/mysys/main/dataset/NASDAQ/AAPL.csv')\n",
        "df20 = pd.read_csv('https://raw.githubusercontent.com/heriyang9000/mysys/main/dataset/NASDAQ/AAPL.csv')\n",
        "df21 = pd.read_csv('https://raw.githubusercontent.com/heriyang9000/mysys/main/dataset/NASDAQ/AAPL.csv')\n",
        "df22 = pd.read_csv('https://raw.githubusercontent.com/heriyang9000/mysys/main/dataset/NASDAQ/AAPL.csv')\n",
        "df23 = pd.read_csv('https://raw.githubusercontent.com/heriyang9000/mysys/main/dataset/NASDAQ/AAPL.csv')\n",
        "df24 = pd.read_csv('https://raw.githubusercontent.com/heriyang9000/mysys/main/dataset/NASDAQ/AAPL.csv')\n",
        "df25 = pd.read_csv('https://raw.githubusercontent.com/heriyang9000/mysys/main/dataset/NASDAQ/AAPL.csv')\n",
        "df26 = pd.read_csv('https://raw.githubusercontent.com/heriyang9000/mysys/main/dataset/NASDAQ/AAPL.csv')\n",
        "df27 = pd.read_csv('https://raw.githubusercontent.com/heriyang9000/mysys/main/dataset/NASDAQ/AAPL.csv')\n",
        "df28 = pd.read_csv('https://raw.githubusercontent.com/heriyang9000/mysys/main/dataset/NASDAQ/AAPL.csv')\n",
        "df29 = pd.read_csv('https://raw.githubusercontent.com/heriyang9000/mysys/main/dataset/NASDAQ/AAPL.csv')\n",
        "df30 = pd.read_csv('https://raw.githubusercontent.com/heriyang9000/mysys/main/dataset/NASDAQ/AAPL.csv')\n",
        "\n",
        "print(df01.to_string()) "
      ],
      "execution_count": null,
      "outputs": []
    }
  ]
}