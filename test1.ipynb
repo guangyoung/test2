{
  "nbformat": 4,
  "nbformat_minor": 0,
  "metadata": {
    "colab": {
      "name": "test1.ipynb",
      "provenance": [],
      "collapsed_sections": [],
      "authorship_tag": "ABX9TyNyaEMOzROYwQx0d8xJkOiu",
      "include_colab_link": true
    },
    "kernelspec": {
      "name": "python3",
      "display_name": "Python 3"
    },
    "language_info": {
      "name": "python"
    }
  },
  "cells": [
    {
      "cell_type": "markdown",
      "metadata": {
        "id": "view-in-github",
        "colab_type": "text"
      },
      "source": [
        "<a href=\"https://colab.research.google.com/github/heriyang9000/test2/blob/main/test1.ipynb\" target=\"_parent\"><img src=\"https://colab.research.google.com/assets/colab-badge.svg\" alt=\"Open In Colab\"/></a>"
      ]
    },
    {
      "cell_type": "markdown",
      "metadata": {
        "id": "Hrbftrg8B1yZ"
      },
      "source": [
        "# **LIBRARY**"
      ]
    },
    {
      "cell_type": "code",
      "metadata": {
        "id": "u2pfaMXPSSrZ",
        "colab": {
          "base_uri": "https://localhost:8080/"
        },
        "outputId": "42d556f8-272c-427a-ac34-e2a97016615c"
      },
      "source": [
        "pip install yfinance\n"
      ],
      "execution_count": 1,
      "outputs": [
        {
          "output_type": "stream",
          "text": [
            "Collecting yfinance\n",
            "  Downloading yfinance-0.1.63.tar.gz (26 kB)\n",
            "Requirement already satisfied: pandas>=0.24 in /usr/local/lib/python3.7/dist-packages (from yfinance) (1.1.5)\n",
            "Requirement already satisfied: numpy>=1.15 in /usr/local/lib/python3.7/dist-packages (from yfinance) (1.19.5)\n",
            "Requirement already satisfied: requests>=2.20 in /usr/local/lib/python3.7/dist-packages (from yfinance) (2.23.0)\n",
            "Requirement already satisfied: multitasking>=0.0.7 in /usr/local/lib/python3.7/dist-packages (from yfinance) (0.0.9)\n",
            "Collecting lxml>=4.5.1\n",
            "  Downloading lxml-4.6.3-cp37-cp37m-manylinux2014_x86_64.whl (6.3 MB)\n",
            "\u001b[K     |████████████████████████████████| 6.3 MB 7.9 MB/s \n",
            "\u001b[?25hRequirement already satisfied: python-dateutil>=2.7.3 in /usr/local/lib/python3.7/dist-packages (from pandas>=0.24->yfinance) (2.8.1)\n",
            "Requirement already satisfied: pytz>=2017.2 in /usr/local/lib/python3.7/dist-packages (from pandas>=0.24->yfinance) (2018.9)\n",
            "Requirement already satisfied: six>=1.5 in /usr/local/lib/python3.7/dist-packages (from python-dateutil>=2.7.3->pandas>=0.24->yfinance) (1.15.0)\n",
            "Requirement already satisfied: urllib3!=1.25.0,!=1.25.1,<1.26,>=1.21.1 in /usr/local/lib/python3.7/dist-packages (from requests>=2.20->yfinance) (1.24.3)\n",
            "Requirement already satisfied: certifi>=2017.4.17 in /usr/local/lib/python3.7/dist-packages (from requests>=2.20->yfinance) (2021.5.30)\n",
            "Requirement already satisfied: chardet<4,>=3.0.2 in /usr/local/lib/python3.7/dist-packages (from requests>=2.20->yfinance) (3.0.4)\n",
            "Requirement already satisfied: idna<3,>=2.5 in /usr/local/lib/python3.7/dist-packages (from requests>=2.20->yfinance) (2.10)\n",
            "Building wheels for collected packages: yfinance\n",
            "  Building wheel for yfinance (setup.py) ... \u001b[?25l\u001b[?25hdone\n",
            "  Created wheel for yfinance: filename=yfinance-0.1.63-py2.py3-none-any.whl size=23919 sha256=e304c827379a719861fd97546243620ceac21653a1c0a243c55b3f5ead9955ce\n",
            "  Stored in directory: /root/.cache/pip/wheels/fe/87/8b/7ec24486e001d3926537f5f7801f57a74d181be25b11157983\n",
            "Successfully built yfinance\n",
            "Installing collected packages: lxml, yfinance\n",
            "  Attempting uninstall: lxml\n",
            "    Found existing installation: lxml 4.2.6\n",
            "    Uninstalling lxml-4.2.6:\n",
            "      Successfully uninstalled lxml-4.2.6\n",
            "Successfully installed lxml-4.6.3 yfinance-0.1.63\n"
          ],
          "name": "stdout"
        }
      ]
    },
    {
      "cell_type": "code",
      "metadata": {
        "id": "nLY3sDK-nl1e"
      },
      "source": [
        "import getpass\n",
        "import pandas as pd\n",
        "import yfinance as yf\n",
        "import panel as pn\n",
        "import datetime\n",
        "import requests\n",
        "import datetime as dt\n",
        "import numpy as np\n",
        "import param\n",
        "from bokeh.plotting import figure\n",
        "from pandas_datareader import data as pdr\n",
        "yf.pdr_override()"
      ],
      "execution_count": 2,
      "outputs": []
    },
    {
      "cell_type": "markdown",
      "metadata": {
        "id": "IySVfa035p60"
      },
      "source": [
        "## **API** **KEY**"
      ]
    },
    {
      "cell_type": "code",
      "metadata": {
        "colab": {
          "base_uri": "https://localhost:8080/"
        },
        "id": "XXb1TkdWngtT",
        "outputId": "bf43e262-f338-4d92-c7d7-f5d62b8ea52d"
      },
      "source": [
        "api_key = getpass.getpass('Masukan Api Key Anda lalu klik enter? ')\n",
        "response = requests.get(f\"https://api.quantxi.com/user?api_key={api_key}\")\n",
        "while response.json()['status'] == 'failed':\n",
        "  print(\"Maaf API Key yang anda masukkan salah, coba di ulang lagi !!!\")\n",
        "  api_key = getpass.getpass('Masukan Api Key Anda lalu klik enter? ')\n",
        "  response = requests.get(f\"https://api.quantxi.com/user?api_key={api_key}\")\n",
        "  if response.json()['status'] == 'success':\n",
        "    print(f\"Selamat Datang {response.json()['data']['nama']}\")\n"
      ],
      "execution_count": null,
      "outputs": [
        {
          "output_type": "stream",
          "text": [
            "Masukan Api Key Anda lalu klik enter? ··········\n",
            "Maaf API Key yang anda masukkan salah, coba di ulang lagi !!!\n",
            "Masukan Api Key Anda lalu klik enter? ··········\n",
            "Maaf API Key yang anda masukkan salah, coba di ulang lagi !!!\n",
            "Masukan Api Key Anda lalu klik enter? ··········\n",
            "Selamat Datang heri\n"
          ],
          "name": "stdout"
        }
      ]
    },
    {
      "cell_type": "markdown",
      "metadata": {
        "id": "UCToRpGy6F5e"
      },
      "source": [
        "# **SETTING**"
      ]
    },
    {
      "cell_type": "code",
      "metadata": {
        "id": "B0JPGKWy28k2",
        "colab": {
          "base_uri": "https://localhost:8080/"
        },
        "outputId": "55c04f2b-7bcf-4fed-df0f-367649dc6d3a"
      },
      "source": [
        "initial_euqity = int(input('Masukan Initial Equity Anda, Min= 1,000,000 Max= 100,000,000 lalu klik enter? '))\n",
        "while initial_euqity < 1000000 or initial_euqity > 100000000:\n",
        "  print(\"Maaf initial_euqity yang anda masukkan salah, coba di ulang lagi !!!\")\n",
        "  initial_euqity = int(input('Masukan Initial Equity Anda, Min= 1,000,000 Max= 100,000,000 lalu klik enter? '))\n",
        "\n",
        "spread = float(input('Masukan Spread+Slippage Anda, Min= 0.01 Max= 0.05 lalu klik enter? '))\n",
        "while spread < 0.01 or spread > 0.05:\n",
        "  print(\"Maaf spread yang anda masukkan salah, coba di ulang lagi !!!\")\n",
        "  spread = float(input('Masukan Spread+Slippage Anda, Min= 0.01 Max= 0.05 lalu klik enter? '))\n",
        "\n",
        "commision = float(input('Masukan Commision Anda, Min= 0.01 Max= 0.05 lalu klik enter? '))\n",
        "while commision < 0.01 or commision > 0.05:\n",
        "  print(\"Maaf commision yang anda masukkan salah, coba di ulang lagi !!!\")\n",
        "  commision = float(input('Masukan Commision Anda, Min= 0.01 Max= 0.05 lalu klik enter? '))\n",
        "\n",
        "interest = float(input('Masukan Interest Anda, Min= 0.01 Max= 0.05 lalu klik enter? '))\n",
        "while interest < 0.01 or interest > 0.05:\n",
        "  print(\"Maaf interest yang anda masukkan salah, coba di ulang lagi !!!\")\n",
        "  interest = float(input('Masukan Interest Anda, Min= 0.01 Max= 0.05 lalu klik enter? '))\n",
        "\n",
        "print(f\"Anda telah mensetting testing anda, Initial Equity: {initial_euqity}, Spread+Slippage: {spread}\")\n"
      ],
      "execution_count": null,
      "outputs": [
        {
          "output_type": "stream",
          "text": [
            "Masukan Initial Equity Anda, Min= 1,000,000 Max= 100,000,000 lalu klik enter? 1000000\n",
            "Masukan Spread+Slippage Anda, Min= 0.01 Max= 0.05 lalu klik enter? 0.01\n",
            "Masukan Commision Anda, Min= 0.01 Max= 0.05 lalu klik enter? 0.01\n",
            "Masukan Interest Anda, Min= 0.01 Max= 0.05 lalu klik enter? 0.01\n",
            "Anda telah mensetting testing anda, Initial Equity: 1000000, Spread+Slippage: 0.01\n"
          ],
          "name": "stdout"
        }
      ]
    },
    {
      "cell_type": "markdown",
      "metadata": {
        "id": "Tv7YW7t0fyqv"
      },
      "source": [
        "# **DATA**"
      ]
    },
    {
      "cell_type": "code",
      "metadata": {
        "id": "m8p0NXcaILCL",
        "colab": {
          "base_uri": "https://localhost:8080/"
        },
        "outputId": "6c18558a-043c-4887-a552-619cbb0ca873"
      },
      "source": [
        "#add data stock\n",
        "portfolio = {\"ticker\":[],\"data\":[]}\n",
        "while len(portfolio[\"ticker\"]) < 1:\n",
        "  ticker_list = list(map(str, input(\"Enter a multiple ticker, space separated: \").split())) \n",
        "  for x in range(len(ticker_list)):\n",
        "    if ticker_list[x] not in portfolio[\"ticker\"]:\n",
        "      # ticker_data = yf.Ticker(ticker_list[x]).history(period=\"max\")\n",
        "      ticker_data = pdr.get_data_yahoo(ticker_list[x], start=datetime.datetime(2021, 7, 1), end=datetime.datetime.now())\n",
        "      if len(ticker_data) > 2:\n",
        "        portfolio[\"ticker\"].append(ticker_list[x])\n",
        "        portfolio[\"data\"].append(ticker_data)\n",
        "      else:\n",
        "        print(\"maaf data ticker \"+ticker_list[x]+\" tidak cukup data, minimal data 2000 baris\")\n",
        "\n",
        "#cleaning and rekonstruk test data\n",
        "start_date = datetime.datetime(1900, 1, 1)\n",
        "end_date = datetime.datetime.now()\n",
        "for i in range(len(portfolio[\"data\"])):  \n",
        "  if portfolio[\"data\"][i].index.max() < end_date:\n",
        "    end_date = portfolio[\"data\"][i].index.max()\n",
        "  if portfolio[\"data\"][i].index.min() > start_date:\n",
        "    start_date = portfolio[\"data\"][i].index.min()\n",
        "run_date = start_date\n",
        "# idx = []\n",
        "# for i in range(5):\n",
        "#   idx.append(0)\n",
        "# print(portfolio[\"data\"][0][\"Adj Close\"][0])\n",
        "idx = []\n",
        "data = []\n",
        "\n",
        "while run_date < end_date:  \n",
        "  data_array = {} \n",
        "  for i in range(len(portfolio[\"data\"])):\n",
        "    if run_date in portfolio[\"data\"][i].index:\n",
        "      data_array[portfolio[\"ticker\"][i]] = portfolio[\"data\"][i][\"Adj Close\"].loc[run_date]\n",
        "    else:\n",
        "      data_array[portfolio[\"ticker\"][i]] = test_data[portfolio[\"ticker\"][i]][idx[len(idx)-1]]\n",
        "  \n",
        "  idx.append(run_date)\n",
        "  data.append(data_array)\n",
        "  \n",
        "  if run_date.weekday() == 4:\n",
        "    run_date = run_date + datetime.timedelta(days=3)\n",
        "  else:\n",
        "    run_date = run_date + datetime.timedelta(days=1)\n",
        "\n",
        "test_data = pd.DataFrame(data,index=idx)\n",
        "test_data.index.name = \"date\"\n",
        "    \n",
        "print(test_data)\n"
      ],
      "execution_count": 14,
      "outputs": [
        {
          "output_type": "stream",
          "text": [
            "Enter a multiple ticker, space separated: aapl amd amgn amzn msft\n",
            "[*********************100%***********************]  1 of 1 completed\n",
            "[*********************100%***********************]  1 of 1 completed\n",
            "[*********************100%***********************]  1 of 1 completed\n",
            "[*********************100%***********************]  1 of 1 completed\n",
            "[*********************100%***********************]  1 of 1 completed\n",
            "                  aapl         amd        amgn         amzn        msft\n",
            "date                                                                   \n",
            "2021-07-01  137.270004   93.309998  246.899994  3432.969971  271.600006\n",
            "2021-07-02  139.960007   94.699997  248.699997  3510.979980  277.649994\n",
            "2021-07-05  139.960007   94.699997  248.699997  3510.979980  277.649994\n",
            "2021-07-06  142.020004   94.470001  243.649994  3675.739990  277.660004\n",
            "2021-07-07  144.570007   90.540001  243.220001  3696.580078  279.929993\n",
            "2021-07-08  143.240005   89.739998  244.279999  3731.409912  277.420013\n",
            "2021-07-09  145.110001   90.900002  245.199997  3719.340088  277.940002\n",
            "2021-07-12  144.500000   90.809998  244.369995  3718.550049  277.320007\n",
            "2021-07-13  145.639999   90.260002  244.830002  3677.360107  280.980011\n",
            "2021-07-14  149.149994   89.050003  244.699997  3681.679932  282.510010\n",
            "2021-07-15  148.479996   86.930000  246.630005  3631.199951  281.029999\n",
            "2021-07-16  146.389999   85.889999  247.960007  3573.629883  280.750000\n",
            "2021-07-19  142.449997   86.580002  246.729996  3549.590088  277.010010\n",
            "2021-07-20  146.149994   87.110001  246.889999  3573.189941  279.320007\n",
            "2021-07-21  145.399994   89.410004  244.850006  3585.199951  281.399994\n",
            "2021-07-22  146.800003   91.209999  244.740005  3638.030029  286.140015\n",
            "2021-07-23  148.559998   92.150002  247.720001  3656.639893  289.670013\n",
            "2021-07-26  148.990005   91.820000  245.080002  3699.820068  289.049988\n",
            "2021-07-27  146.770004   91.029999  244.679993  3626.389893  286.540009\n",
            "2021-07-28  144.979996   97.930000  244.250000  3630.320068  286.220001\n",
            "2021-07-29  145.639999  102.949997  242.460007  3599.919922  286.500000\n"
          ],
          "name": "stdout"
        }
      ]
    },
    {
      "cell_type": "code",
      "metadata": {
        "colab": {
          "base_uri": "https://localhost:8080/"
        },
        "id": "m1DPNn8tqDuI",
        "outputId": "59a32114-32af-43b7-87f9-bd31a8ac3d36"
      },
      "source": [
        "test_data = pd.DataFrame()\n",
        "dff = []\n",
        "data2 = { \n",
        "      portfolio[\"ticker\"][0]:portfolio[\"data\"][0][\"Adj Close\"].loc[\"2021-07-29\"],\n",
        "      portfolio[\"ticker\"][1]:portfolio[\"data\"][1][\"Adj Close\"].loc[\"2021-07-29\"],\n",
        "      portfolio[\"ticker\"][2]:portfolio[\"data\"][2][\"Adj Close\"].loc[\"2021-07-29\"],\n",
        "      portfolio[\"ticker\"][3]:portfolio[\"data\"][3][\"Adj Close\"].loc[\"2021-07-29\"],\n",
        "      portfolio[\"ticker\"][4]:portfolio[\"data\"][4][\"Adj Close\"].loc[\"2021-07-29\"]\n",
        "      }\n",
        "dff.append(data2)\n",
        "d = pd.DataFrame([data2],index=[\"2021-07-29\"])\n",
        "print(d)"
      ],
      "execution_count": null,
      "outputs": [
        {
          "output_type": "stream",
          "text": [
            "                  aapl         amd         amzn        amgn   msft\n",
            "2021-07-29  145.639999  102.949997  3599.919922  242.460007  286.5\n"
          ],
          "name": "stdout"
        }
      ]
    },
    {
      "cell_type": "code",
      "metadata": {
        "colab": {
          "base_uri": "https://localhost:8080/",
          "height": 80
        },
        "id": "qkI3ZVGDsVcv",
        "outputId": "afbba30b-a4b2-4b02-95c6-f0abd0b88704"
      },
      "source": [
        "df = pd.DataFrame([data2],\n",
        "                  index=[\"circle\"])\n",
        "df"
      ],
      "execution_count": null,
      "outputs": [
        {
          "output_type": "execute_result",
          "data": {
            "text/html": [
              "<div>\n",
              "<style scoped>\n",
              "    .dataframe tbody tr th:only-of-type {\n",
              "        vertical-align: middle;\n",
              "    }\n",
              "\n",
              "    .dataframe tbody tr th {\n",
              "        vertical-align: top;\n",
              "    }\n",
              "\n",
              "    .dataframe thead th {\n",
              "        text-align: right;\n",
              "    }\n",
              "</style>\n",
              "<table border=\"1\" class=\"dataframe\">\n",
              "  <thead>\n",
              "    <tr style=\"text-align: right;\">\n",
              "      <th></th>\n",
              "      <th>aapl</th>\n",
              "      <th>amd</th>\n",
              "      <th>amzn</th>\n",
              "      <th>amgn</th>\n",
              "      <th>msft</th>\n",
              "    </tr>\n",
              "  </thead>\n",
              "  <tbody>\n",
              "    <tr>\n",
              "      <th>circle</th>\n",
              "      <td>145.639999</td>\n",
              "      <td>102.949997</td>\n",
              "      <td>3599.919922</td>\n",
              "      <td>242.460007</td>\n",
              "      <td>286.5</td>\n",
              "    </tr>\n",
              "  </tbody>\n",
              "</table>\n",
              "</div>"
            ],
            "text/plain": [
              "              aapl         amd         amzn        amgn   msft\n",
              "circle  145.639999  102.949997  3599.919922  242.460007  286.5"
            ]
          },
          "metadata": {
            "tags": []
          },
          "execution_count": 62
        }
      ]
    },
    {
      "cell_type": "code",
      "metadata": {
        "colab": {
          "base_uri": "https://localhost:8080/"
        },
        "id": "gYigos4Fluwe",
        "outputId": "de8bda69-c7b6-4abc-cd71-42d87b82867a"
      },
      "source": [
        "yf.pdr_override() # <== that's all it takes :-)\n",
        "\n",
        "# download dataframe\n",
        "data = pdr.get_data_yahoo(\"SPY\", start=\"2017-01-01\", end=\"2017-04-30\")['Adj Close']\n",
        "print(data)"
      ],
      "execution_count": null,
      "outputs": [
        {
          "output_type": "stream",
          "text": [
            "\r[*********************100%***********************]  1 of 1 completed\n",
            "Date\n",
            "2017-01-03    207.534515\n",
            "2017-01-04    208.769211\n",
            "2017-01-05    208.603333\n",
            "2017-01-06    209.349670\n",
            "2017-01-09    208.658646\n",
            "                 ...    \n",
            "2017-04-24    219.477432\n",
            "2017-04-25    220.754486\n",
            "2017-04-26    220.615677\n",
            "2017-04-27    220.800720\n",
            "2017-04-28    220.319565\n",
            "Name: Adj Close, Length: 81, dtype: float64\n"
          ],
          "name": "stdout"
        }
      ]
    },
    {
      "cell_type": "code",
      "metadata": {
        "id": "K78KOC0_Ee7p"
      },
      "source": [
        "# creating an empty list\n",
        "lst = []\n",
        "# iterating till the range\n",
        "for i in range(0, 12):\n",
        "    ele = input(prompt=f'Ticker{i+1} ') \n",
        "    lst.append(ele) # adding the element     \n",
        "print(f\"portfolio {lst}\")"
      ],
      "execution_count": null,
      "outputs": []
    },
    {
      "cell_type": "code",
      "metadata": {
        "id": "Wx7wotRhRh8m"
      },
      "source": [
        "msft = yf.Ticker(\"MSFT\")\n",
        "hist = msft.history(period=\"max\")\n",
        "print(hist)\n",
        "\n",
        "if len(hist) == 0:\n",
        "  print(\"no data\")"
      ],
      "execution_count": null,
      "outputs": []
    },
    {
      "cell_type": "code",
      "metadata": {
        "id": "mNjrbJ6eu3BA"
      },
      "source": [
        "pn.extension()\n",
        "exchange = pn.widgets.Select(name='Select Exchange', options=['Exchange','NASDAQ', 'NYSE', 'LSE', 'EURONEXT'])\n",
        "exchange"
      ],
      "execution_count": null,
      "outputs": []
    },
    {
      "cell_type": "code",
      "metadata": {
        "id": "9wrPddgUrvQC"
      },
      "source": [
        "# pn.extension()\n",
        "# cross_selector = pn.widgets.CrossSelector(name='Fruits', value=['Apple', 'Pear'], options=['Apple', 'Banana', 'Pear', 'Strawberry'])\n",
        "# cross_selector\n",
        "# ticker1 = pn.widgets.MultiSelect(name='Select Tickers', value=[], options=['AAPL', 'AMD', 'AMZN', 'ATN'], size=8)\n",
        "\n",
        "pn.extension()\n",
        "ticker1 = pn.widgets.CrossSelector(name='Select Tickers', value=[], options=['AAPL', 'AMD', 'AMZN', 'ATN','AAPL', 'AMD', 'AMZN', 'ATN','AAPL', 'AMD', 'AMZN', 'ATN','AAPL', 'AMD', 'AMZN', 'ATN','AAPL', 'AMD', 'AMZN', 'ATN','AAPL', 'AMD', 'AMZN', 'ATN'], size=8)\n",
        "ticker2 = pn.widgets.CrossSelector(name='Select Tickers', value=[], options=['AAPL2', 'AMD2', 'AMZN2', 'ATN2'], size=8)\n",
        "ticker3 = pn.widgets.CrossSelector(name='Select Tickers', value=[], options=['AAPL3', 'AMD3', 'AMZN3', 'ATN3'], size=8)\n",
        "ticker4 = pn.widgets.CrossSelector(name='Select Tickers', value=[], options=['AAPL4', 'AMD4', 'AMZN4', 'ATN4'], size=8)\n",
        "if exchange.value == 'NASDAQ':\n",
        "    display(ticker1)\n",
        "elif exchange.value == 'NYSE':\n",
        "    display(ticker2)\n",
        "elif exchange.value == 'LSE':\n",
        "    display(ticker3)\n",
        "elif exchange.value == 'EURONEXT':\n",
        "    display(ticker4)\n",
        "else:\n",
        "  print(\"no exchange select\")\n",
        " "
      ],
      "execution_count": null,
      "outputs": []
    },
    {
      "cell_type": "code",
      "metadata": {
        "id": "ih7Y6kKeXHdv"
      },
      "source": [
        "print(ticker1.value[0])"
      ],
      "execution_count": null,
      "outputs": []
    },
    {
      "cell_type": "code",
      "metadata": {
        "id": "bx-Tv1Z3veP9"
      },
      "source": [
        "if len(ticker1.value) < 4:\n",
        "  raise Exception(\"You dont have enough tickers\")\n",
        "else:\n",
        "  df01 = pd.read_csv(f\"https://raw.githubusercontent.com/heriyang9000/mysys/main/dataset/NASDAQ/{ticker1.value[0]}.csv\")\n",
        "  df02 = pd.read_csv(f\"https://raw.githubusercontent.com/heriyang9000/mysys/main/dataset/NASDAQ/{ticker1.value[0]}.csv\")\n",
        "  df03 = pd.read_csv(f\"https://raw.githubusercontent.com/heriyang9000/mysys/main/dataset/NASDAQ/{ticker1.value[0]}.csv\")\n",
        "  df04 = pd.read_csv(f\"https://raw.githubusercontent.com/heriyang9000/mysys/main/dataset/NASDAQ/{ticker1.value[0]}.csv\")\n",
        "  df05 = pd.read_csv(f\"https://raw.githubusercontent.com/heriyang9000/mysys/main/dataset/NASDAQ/{ticker1.value[0]}.csv\")\n",
        "  df06 = pd.read_csv(f\"https://raw.githubusercontent.com/heriyang9000/mysys/main/dataset/NASDAQ/{ticker1.value[0]}.csv\")\n",
        "  df07 = pd.read_csv(f\"https://raw.githubusercontent.com/heriyang9000/mysys/main/dataset/NASDAQ/{ticker1.value[0]}.csv\")\n",
        "  df08 = pd.read_csv(f\"https://raw.githubusercontent.com/heriyang9000/mysys/main/dataset/NASDAQ/{ticker1.value[0]}.csv\")\n",
        "  df09 = pd.read_csv(f\"https://raw.githubusercontent.com/heriyang9000/mysys/main/dataset/NASDAQ/{ticker1.value[0]}.csv\")\n",
        "  df10 = pd.read_csv(f\"https://raw.githubusercontent.com/heriyang9000/mysys/main/dataset/NASDAQ/{ticker1.value[0]}.csv\")\n",
        "  df11 = pd.read_csv(f\"https://raw.githubusercontent.com/heriyang9000/mysys/main/dataset/NASDAQ/{ticker1.value[0]}.csv\")\n",
        "  df12 = pd.read_csv(f\"https://raw.githubusercontent.com/heriyang9000/mysys/main/dataset/NASDAQ/{ticker1.value[0]}.csv\")\n",
        "  df13 = pd.read_csv(f\"https://raw.githubusercontent.com/heriyang9000/mysys/main/dataset/NASDAQ/{ticker1.value[0]}.csv\")\n",
        "  df14 = pd.read_csv(f\"https://raw.githubusercontent.com/heriyang9000/mysys/main/dataset/NASDAQ/{ticker1.value[0]}.csv\")\n",
        "  df15 = pd.read_csv(f\"https://raw.githubusercontent.com/heriyang9000/mysys/main/dataset/NASDAQ/{ticker1.value[0]}.csv\")\n",
        "  df16 = pd.read_csv(f\"https://raw.githubusercontent.com/heriyang9000/mysys/main/dataset/NASDAQ/{ticker1.value[0]}.csv\")\n",
        "  df17 = pd.read_csv(f\"https://raw.githubusercontent.com/heriyang9000/mysys/main/dataset/NASDAQ/{ticker1.value[0]}.csv\")\n",
        "  df18 = pd.read_csv(f\"https://raw.githubusercontent.com/heriyang9000/mysys/main/dataset/NASDAQ/{ticker1.value[0]}.csv\")\n",
        "  df19 = pd.read_csv(f\"https://raw.githubusercontent.com/heriyang9000/mysys/main/dataset/NASDAQ/{ticker1.value[0]}.csv\")\n",
        "  df20 = pd.read_csv(f\"https://raw.githubusercontent.com/heriyang9000/mysys/main/dataset/NASDAQ/{ticker1.value[0]}.csv\")\n",
        "  df21 = pd.read_csv(f\"https://raw.githubusercontent.com/heriyang9000/mysys/main/dataset/NASDAQ/{ticker1.value[0]}.csv\")\n",
        "  df22 = pd.read_csv(f\"https://raw.githubusercontent.com/heriyang9000/mysys/main/dataset/NASDAQ/{ticker1.value[0]}.csv\")\n",
        "  df23 = pd.read_csv(f\"https://raw.githubusercontent.com/heriyang9000/mysys/main/dataset/NASDAQ/{ticker1.value[0]}.csv\")\n",
        "  df24 = pd.read_csv(f\"https://raw.githubusercontent.com/heriyang9000/mysys/main/dataset/NASDAQ/{ticker1.value[0]}.csv\")\n",
        "  df25 = pd.read_csv(f\"https://raw.githubusercontent.com/heriyang9000/mysys/main/dataset/NASDAQ/{ticker1.value[0]}.csv\")\n",
        "  df26 = pd.read_csv(f\"https://raw.githubusercontent.com/heriyang9000/mysys/main/dataset/NASDAQ/{ticker1.value[0]}.csv\")\n",
        "  df27 = pd.read_csv(f\"https://raw.githubusercontent.com/heriyang9000/mysys/main/dataset/NASDAQ/{ticker1.value[0]}.csv\")\n",
        "  df28 = pd.read_csv(f\"https://raw.githubusercontent.com/heriyang9000/mysys/main/dataset/NASDAQ/{ticker1.value[0]}.csv\")\n",
        "  df29 = pd.read_csv(f\"https://raw.githubusercontent.com/heriyang9000/mysys/main/dataset/NASDAQ/{ticker1.value[0]}.csv\")\n",
        "  df30 = pd.read_csv(f\"https://raw.githubusercontent.com/heriyang9000/mysys/main/dataset/NASDAQ/{ticker1.value[0]}.csv\")\n",
        "\n",
        "  print(df01.to_string()) "
      ],
      "execution_count": null,
      "outputs": []
    },
    {
      "cell_type": "code",
      "metadata": {
        "id": "jQMTqkJ8C6Vd"
      },
      "source": [
        "widgets.Combobox(\n",
        "    # value='John',\n",
        "    placeholder='Choose Someone',\n",
        "    options=['Paul', 'John', 'George', 'Ringo'],\n",
        "    description='Combobox:',\n",
        "    ensure_option=True,\n",
        "    disabled=False\n",
        ")"
      ],
      "execution_count": null,
      "outputs": []
    },
    {
      "cell_type": "code",
      "metadata": {
        "id": "IrZ2LBm-HPVN"
      },
      "source": [
        "pn.extension()\n",
        "progress = pn.indicators.Progress(name='Progress', value=20, width=200)\n",
        "progress"
      ],
      "execution_count": null,
      "outputs": []
    },
    {
      "cell_type": "code",
      "metadata": {
        "id": "dj5lqc_DRGH_"
      },
      "source": [
        "pn.extension()\n",
        "\n",
        "terminal = pn.widgets.Terminal(\n",
        "    \"Welcome to the Panel Terminal!\\nI'm based on xterm.js\\n\\n\",\n",
        "    options={\"cursorBlink\": True},\n",
        "    height=300, sizing_mode='stretch_width'\n",
        ")\n",
        "\n",
        "terminal"
      ],
      "execution_count": null,
      "outputs": []
    },
    {
      "cell_type": "code",
      "metadata": {
        "id": "XAMWZb9ufIFz"
      },
      "source": [
        "pn.extension()\n",
        "large_df = pd._testing.makeCustomDataframe(100, 5) \n",
        "\n",
        "paginated_table = pn.widgets.Tabulator(large_df, disabled=True, pagination='remote', page_size=10)\n",
        "paginated_table"
      ],
      "execution_count": null,
      "outputs": []
    },
    {
      "cell_type": "code",
      "metadata": {
        "id": "xnq7eLoQieGL"
      },
      "source": [
        "pn.extension()\n",
        "df = pd.DataFrame({\n",
        "    'int': [1, 2, 3],\n",
        "    'float': [3.14, 6.28, 9.42],\n",
        "    'str': ['A', 'B', 'C'],\n",
        "    'bool': [True, False, True],\n",
        "    'date': [dt.date(2019, 1, 1), dt.date(2020, 1, 1), dt.date(2020, 1, 10)]\n",
        "}, index=[1, 2, 3])\n",
        "\n",
        "df_widget = pn.widgets.Tabulator(df, disabled =True, configuration={\"headerSort\": False, \"resizableColumns\": False})\n",
        "df_widget.servable()"
      ],
      "execution_count": null,
      "outputs": []
    },
    {
      "cell_type": "code",
      "metadata": {
        "id": "zw9JE-0cy_hZ"
      },
      "source": [
        "pn.extension()\n",
        "json_obj = {   \n",
        "    'data_id': \"00000\",\n",
        "    'timestamp': \"mm/dd/yyy 00:00:00\",\n",
        "    'buying_power': \"No Data\",\n",
        "    'stock01_price': \"No Data\",\n",
        "    'stock02_price': \"No Data\",\n",
        "    'stock03_price': \"No Data\",\n",
        "    'stock04_price': \"No Data\",\n",
        "    'stock05_price': \"No Data\",\n",
        "    'stock06_price': \"No Data\",\n",
        "    'stock07_price': \"No Data\",\n",
        "    'stock08_price': \"No Data\",\n",
        "    'stock09_price': \"No Data\",\n",
        "    'stock10_price': \"No Data\",\n",
        "    'stock11_price': \"No Data\",\n",
        "    'stock12_price': \"No Data\",\n",
        "    'stock13_price': \"No Data\",\n",
        "    'stock14_price': \"No Data\",\n",
        "    'stock15_price': \"No Data\",\n",
        "    'stock16_price': \"No Data\",\n",
        "    'stock17_price': \"No Data\",\n",
        "    'stock18_price': \"No Data\",\n",
        "    'stock19_price': \"No Data\",\n",
        "    'stock20_price': \"No Data\",\n",
        "    'stock21_price': \"No Data\",\n",
        "    'stock22_price': \"No Data\",\n",
        "    'stock23_price': \"No Data\",\n",
        "    'stock24_price': \"No Data\",\n",
        "    'stock25_price': \"No Data\",\n",
        "    'stock26_price': \"No Data\",\n",
        "    'stock27_price': \"No Data\",\n",
        "    'stock28_price': \"No Data\",\n",
        "    'stock29_price': \"No Data\",\n",
        "    'stock30_price': \"No Data\"\n",
        "}\n",
        "\n",
        "json = pn.pane.JSON(json_obj, name='JSON', height=300, width=500)\n",
        "\n",
        "json"
      ],
      "execution_count": null,
      "outputs": []
    },
    {
      "cell_type": "code",
      "metadata": {
        "id": "ptJcoXkp-4kw"
      },
      "source": [
        "pn.extension()\n",
        "p1 = figure(width=300, height=300, name='Scatter', margin=5)\n",
        "p1.scatter([0, 1, 2, 3, 4, 5, 6], [0, 1, 2, 3, 2, 1, 0])\n",
        "\n",
        "p2 = figure(width=300, height=300, name='Line', margin=5)\n",
        "p2.line([0, 1, 2, 3, 4, 5, 6], [0, 1, 2, 3, 2, 1, 0])\n",
        "\n",
        "p3 = figure(width=300, height=300, name='Square', margin=5)\n",
        "p3.square([0, 1, 2, 3, 4, 5, 6], [0, 1, 2, 3, 2, 1, 0], size=10)\n",
        "\n",
        "accordion.append(p3)\n",
        "accordion"
      ],
      "execution_count": null,
      "outputs": []
    },
    {
      "cell_type": "code",
      "metadata": {
        "id": "YQziZCgaBV0J"
      },
      "source": [
        "pn.extension()\n",
        "number = pn.indicators.Number(\n",
        "    name='Failure Rate', value=72, format='{value}%',\n",
        "    colors=[(33, 'green'), (66, 'gold'), (100, 'red')]\n",
        ")\n",
        "\n",
        "pn.Row(number.clone(value=10), number.clone(value=42), number.clone(value=93))"
      ],
      "execution_count": null,
      "outputs": []
    },
    {
      "cell_type": "code",
      "metadata": {
        "id": "NQdJOhW5CEXj"
      },
      "source": [
        "pn.extension()\n",
        "data = {'x': np.arange(50), 'y': np.random.randn(50).cumsum()}\n",
        "\n",
        "trend = pn.indicators.Trend(\n",
        "    title='Price', data=data, width=200, height=200\n",
        ")\n",
        "trend\n",
        "def stream_data():\n",
        "    trend.stream({'x': [trend.data['x'][-1]+1], 'y': [trend.data['y'][-1]+np.random.randn()]}, rollover=50)\n",
        "\n",
        "pn.state.add_periodic_callback(stream_data, period=250, count=100);\n",
        "pn.Row(*(trend.clone(plot_type=pt) for pt in trend.param.plot_type.objects))"
      ],
      "execution_count": null,
      "outputs": []
    },
    {
      "cell_type": "code",
      "metadata": {
        "id": "RgvSNXgapyaz"
      },
      "source": [
        "pn.extension()\n",
        "date_range_slider = pn.widgets.DateRangeSlider(\n",
        "    name='Date Range Slider',\n",
        "    start=dt.datetime(2017, 1, 1), end=dt.datetime(2019, 1, 1),\n",
        "    value=(dt.datetime(2017, 1, 1), dt.datetime(2018, 1, 10))\n",
        ")\n",
        "\n",
        "date_range_slider"
      ],
      "execution_count": null,
      "outputs": []
    },
    {
      "cell_type": "code",
      "metadata": {
        "id": "Bo7POHsmdTm_"
      },
      "source": [
        "from ipywidgets import Button\n",
        "import asyncio\n",
        "\n",
        "def wait_for_change(widget):\n",
        "    future = asyncio.Future()\n",
        "    def getvalue(change):\n",
        "        future.set_result(change.description)\n",
        "        widget.on_click(getvalue, remove=True) \n",
        "        # we need to free up the binding to getvalue to avoid an InvalidState error\n",
        "        # buttons don't support unobserve\n",
        "        # so use `remove=True` \n",
        "    widget.on_click(getvalue)\n",
        "    return future\n",
        "\n",
        "button = Button(description=\"wow\")\n",
        "\n",
        "list_to_tag = [\"one\", \"two\", \"three\", \"four\"]\n",
        "\n",
        "async def f():\n",
        "    for i in list_to_tag:\n",
        "        print(\"going to tag {}\".format(i))\n",
        "        x = await wait_for_change(button)\n",
        "        print(\"tagged {} with {}\".format(i, x))\n",
        "        print()\n",
        "\n",
        "asyncio.create_task(f())\n",
        "button"
      ],
      "execution_count": null,
      "outputs": []
    },
    {
      "cell_type": "code",
      "metadata": {
        "id": "IlSrKNmdGX5v"
      },
      "source": [
        "pn.extension()\n",
        "\n",
        "df = pd.DataFrame({'int': [1, 2, 3], 'float': [3.14, 6.28, 9.42], 'str': ['A', 'B', 'C'], 'bool': [True, False, True]})\n",
        "\n",
        "df_widget = pn.widgets.DataFrame(df, name='DataFrame')\n",
        "\n",
        "df_widget"
      ],
      "execution_count": null,
      "outputs": []
    },
    {
      "cell_type": "code",
      "metadata": {
        "id": "BWzCC9ADsDsh"
      },
      "source": [
        "import plotly.graph_objects as go\n",
        "\n",
        "fig = go.Figure(data=[go.Table(\n",
        "    header=dict(values=['A Scores', 'B Scores'],\n",
        "                # line_color='darkslategray',\n",
        "                # fill_color='lightskyblue',\n",
        "                align='left'),\n",
        "    cells=dict(values=[[100, 90, 80, 90,100, 90, 80, 90,100, 90, 80, 90,100, 90, 80, 90,100, 90, 80, 90], # 1st column\n",
        "                       [95, 85, 75, 95,95, 85, 75, 95,95, 85, 75, 95,95, 85, 75, 95,95, 85, 75, 95]], # 2nd column\n",
        "              #  line_color='darkslategray',\n",
        "              #  fill_color='lightcyan',\n",
        "               align='left'))\n",
        "])\n",
        "\n",
        "fig.update_layout(width=400, height=350)\n",
        "fig.show()"
      ],
      "execution_count": null,
      "outputs": []
    }
  ]
}