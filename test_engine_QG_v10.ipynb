{
 "cells": [
  {
   "cell_type": "code",
   "execution_count": 1,
   "metadata": {
    "editable": true,
    "slideshow": {
     "slide_type": ""
    },
    "tags": []
   },
   "outputs": [
    {
     "data": {
      "application/vnd.jupyter.widget-view+json": {
       "model_id": "383cfad0bd964151bbedb023fbaa2ee1",
       "version_major": 2,
       "version_minor": 0
      },
      "text/plain": [
       "VBox(children=(Image(value=b'\\xff\\xd8\\xff\\xe0\\x00\\x10JFIF\\x00\\x01\\x01\\x01\\x01,\\x01,\\x00\\x00\\xff\\xe1\\x00\\x8aExi…"
      ]
     },
     "metadata": {},
     "output_type": "display_data"
    }
   ],
   "source": [
    "\n",
    "import pandas as pd\n",
    "import ipywidgets as widgets\n",
    "from IPython.display import display, clear_output, HTML, Javascript\n",
    "from io import StringIO, BytesIO\n",
    "import requests\n",
    "import matplotlib.pyplot as plt\n",
    "import numpy as np\n",
    "import json\n",
    "import math\n",
    "import yfinance as yf\n",
    "import datetime\n",
    "import datetime as dt\n",
    "import aiohttp\n",
    "import asyncio\n",
    "import urllib3\n",
    "from datetime import timedelta\n",
    "from scipy import interpolate\n",
    "import warnings\n",
    "\n",
    "http = urllib3.PoolManager()\n",
    "\n",
    "# Global Styling untuk konsistensi\n",
    "STYLE_W = {'description_width': '117px'}\n",
    "LAYOUT_W = widgets.Layout(width='335px')\n",
    "LAYOUT_BUTTONS = widgets.Layout(justify_content='center')\n",
    "\n",
    "# Data dummy untuk demonstrasi\n",
    "data_dummy = \"\"\"\n",
    "Date,Open,High,Low,Close,Volume\n",
    "2023-01-01,100,105,99,104,100000\n",
    "2023-01-02,104,106,103,105,120000\n",
    "2023-01-03,105,108,104,107,110000\n",
    "2023-01-04,107,109,106,108,95000\n",
    "2023-01-05,108,110,107,109,130000\n",
    "\"\"\"\n",
    "df_data = {}\n",
    "for i in range(30):\n",
    "    df_data[f'SAHAM{i+1}'] = pd.read_csv(StringIO(data_dummy))\n",
    "\n",
    "# 1. Buat widget tampilan\n",
    "try:\n",
    "    image_url = 'https://media.istockphoto.com/id/1022809094/vector/concentric-circles-dots-in-circular-form-vector.jpg?s=170667a&w=0&k=20&c=QBPSwryZvuP5-La1oJGzmvEm030m8VIyizAZJ3uO8Hc='\n",
    "    image_data = requests.get(image_url).content\n",
    "    ai_logo = widgets.Image(\n",
    "        value=image_data,\n",
    "        width=125,\n",
    "        height=125\n",
    "    )\n",
    "except Exception as e:\n",
    "    print(f\"Gagal memuat gambar dari URL. Error: {e}\")\n",
    "    ai_logo = widgets.HTML(\n",
    "        value=\"<div style='text-align: center;'>[Gambar AI tidak dapat dimuat]</div>\",\n",
    "        layout=widgets.Layout(width='100px', height='100px', border='1px solid black')\n",
    "    )\n",
    "\n",
    "title_text = widgets.HTML(\n",
    "    value=\"<p style='text-align: center;line-height: 1.5; font-weight: bold; font-size: 15px; margin-bottom: 10px'>Hi..I'am QuantGenius<br>Test Me With Any Stock Data And See How Accurate My Trade Signals Are</p>\"\n",
    ")\n",
    "\n",
    "# Konten Accordion \"Test Setting\"\n",
    "quantgenius_apikey = widgets.Password(description='QuantGenius API Key:', placeholder='Input QuantGenius API Key', style=STYLE_W, layout=LAYOUT_W)\n",
    "initial_equity = widgets.FloatText(description='Initial Equity', value=1000000.0, style=STYLE_W, layout=LAYOUT_W)\n",
    "commission = widgets.FloatText(description='Commission/trade', value=0.001, style=STYLE_W, layout=LAYOUT_W)\n",
    "spread = widgets.FloatText(description='Spread/trade', value=0.001, style=STYLE_W, layout=LAYOUT_W)\n",
    "interest_rate = widgets.FloatText(description='Interest Rate/year', value=0.03, style=STYLE_W, layout=LAYOUT_W)\n",
    "regT_margin_rate = widgets.FloatText(description='Margin Requirement', value=0.5, style=STYLE_W, layout=LAYOUT_W)\n",
    "maintenance_margin_rate = widgets.FloatText(description='Margin Maintenance', value=0.25, style=STYLE_W, layout=LAYOUT_W)\n",
    "test_setting_content = widgets.VBox([quantgenius_apikey, initial_equity, commission, spread, interest_rate, regT_margin_rate, maintenance_margin_rate])\n",
    "\n",
    "# Konten Accordion \"Dataset\"\n",
    "#=======================================================================================================================================================================\n",
    "\n",
    "# --- KONFIGURASI DAN DATA (Bagian 1) ---\n",
    "\n",
    "try:\n",
    "    STOCK_DATA = json.loads(requests.get(\"https://raw.githubusercontent.com/guangyoung/test2/main/yahoo_ticker.json\").text)\n",
    "except:\n",
    "    STOCK_DATA = {'LSE': ['HSBA.L', 'BP.L'], 'NASDAQ': ['AAPL', 'GOOGL']}\n",
    "\n",
    "# --- GLOBAL VARIABLES & CONTAINERS ---\n",
    "\n",
    "CURRENT_UPLOAD_WIDGET = None\n",
    "OUTPUT_AREA = widgets.Output()\n",
    "UPLOAD_CONTAINER = widgets.HBox([widgets.Label(value=\"\", layout=widgets.Layout(width='121px'))])\n",
    "\n",
    "# Data Storage dan Penghitung Baru\n",
    "UPLOADED_FILES_DATA = {} # Dictionary untuk menyimpan data berkas dari semua sesi upload\n",
    "TOTAL_FILES_LABEL0 = widgets.Label(\"0 stock data uploaded\")\n",
    "TOTAL_FILES_LABEL = widgets.HBox([widgets.Label(value=\"\", layout=widgets.Layout(width='122px')), TOTAL_FILES_LABEL0])\n",
    "\n",
    "# --- WIDGET FACTORIES ---\n",
    "\n",
    "def create_dropdown(options, value, description, width='180px'):\n",
    "    return widgets.Dropdown(options=options, value=value, description=description,\n",
    "                            style=STYLE_W, layout=widgets.Layout(width=width))\n",
    "\n",
    "def create_slider(value, min_val, max_val, description, is_int=False):\n",
    "    WidgetType = widgets.IntSlider if is_int else widgets.FloatSlider\n",
    "    return WidgetType(value=value, min=min_val, max=max_val, description=description,\n",
    "                      style=STYLE_W, layout=widgets.Layout(width='320px'))\n",
    "\n",
    "# --- WIDGETS UTAMA DAN BLOK KHUSUS (Bagian 2) ---\n",
    "\n",
    "# Bagian Kontrol Atas\n",
    "dataset_dropdown = create_dropdown(list(range(1, 101)), 1, 'Total portfolio to test')\n",
    "data_need_label = widgets.Label(value=\"You need 30+ stock data\")\n",
    "dataset_container = widgets.HBox([dataset_dropdown, data_need_label])\n",
    "data_source_toggle = widgets.Dropdown(\n",
    "    options=['Yahoo Finance', 'Local Data', 'Monte Carlo Simulation'], value='Yahoo Finance', description='Select Data Source', style=STYLE_W, layout=LAYOUT_W\n",
    ")\n",
    "generate_button = widgets.Button(description='Generate Dataset', button_style='primary', layout=widgets.Layout(width='166px'))\n",
    "reset_button = widgets.Button(description='Reset Dataset', button_style='danger', layout=widgets.Layout(width='166px'))\n",
    "plot_button = widgets.Button(description='Plot Monte Carlo', button_style='info', icon='bar-chart', layout=widgets.Layout(display='none'))\n",
    "\n",
    "\n",
    "# Blok 1: Yahoo Finance (Tidak Berubah)\n",
    "# exchange_dropdown = create_dropdown(list(STOCK_DATA.keys()), 'LSE', 'Select Exchange:')\n",
    "exchange_dropdown = widgets.Dropdown(options=list(STOCK_DATA.keys()), value='LSE', description='Select Exchange', style=STYLE_W, layout=LAYOUT_W)\n",
    "select_stock_mode = widgets.Dropdown(options=['Manual', 'Random'], description='Select stock mode', style=STYLE_W, layout=LAYOUT_W)\n",
    "stock_select_multiple = widgets.SelectMultiple(options=STOCK_DATA['LSE'], value=[], rows=6, description='Select Stocks', style=STYLE_W, layout=LAYOUT_W)\n",
    "selected_stocks_label = widgets.Label(value=\"0 stocks selected\")\n",
    "yahoo_price_toggle = widgets.Dropdown(options=['Close', 'Adj Close'], description='Select price type', style=STYLE_W, layout=LAYOUT_W)\n",
    "\n",
    "stock_selection_container = widgets.VBox([\n",
    "    stock_select_multiple,\n",
    "    widgets.HBox([widgets.Label(value=\"\", layout=widgets.Layout(width='122px')), selected_stocks_label])\n",
    "])\n",
    "\n",
    "yahoo_widgets = widgets.VBox([exchange_dropdown, select_stock_mode, stock_selection_container, yahoo_price_toggle])\n",
    "\n",
    "\n",
    "# Blok 2: Local Data (DIPERBAIKI PENEMPATAN WIDGET BARU)\n",
    "date_col_dropdown = widgets.Dropdown(options=['null'] + list(map(str, range(0, 10))), value='null', description='Date Column Index', style=STYLE_W, layout=widgets.Layout(width='180px'))\n",
    "price_col_dropdown = widgets.Dropdown(options=['null'] + list(map(str, range(0, 10))), value='null', description='Price Column Index', style=STYLE_W, layout=widgets.Layout(width='180px'))\n",
    "\n",
    "# Susunan widget lokal: [Upload], [Total Files Label BARU], [Date Column], [Price Column]\n",
    "local_widgets = widgets.VBox([\n",
    "    UPLOAD_CONTAINER,\n",
    "    TOTAL_FILES_LABEL, # WIDGET BARU DITEMPATKAN DI SINI\n",
    "    date_col_dropdown,\n",
    "    price_col_dropdown\n",
    "], layout=widgets.Layout(display='none'))\n",
    "\n",
    "\n",
    "# Blok 3: Monte Carlo Simulation (Tidak Berubah)\n",
    "montecarlo_widgets = widgets.VBox([\n",
    "    create_dropdown(['Geometric Brownian Motion', 'Mean Reversion', 'Jump Diffusion', 'Stochastic Volatility'], 'Geometric Brownian Motion', 'Simulation Method', width='335px'),\n",
    "    widgets.FloatText(value=100.0, description='Initial Price', style=STYLE_W, layout=widgets.Layout(width='210px')),\n",
    "    create_slider(0.05, -0.5, 0.5, 'Drift (μ)'),\n",
    "    create_slider(0.2, 0.01, 1.0, 'Volatility (σ)'),\n",
    "    create_slider(252, 10, 1000, 'Time Horizon', is_int=True)\n",
    "], layout=widgets.Layout(display='none'))\n",
    "\n",
    "main_container = widgets.VBox([yahoo_widgets, local_widgets, montecarlo_widgets])\n",
    "\n",
    "WIDGET_MAP = {\n",
    "    'Yahoo Finance': yahoo_widgets,\n",
    "    'Local Data': local_widgets,\n",
    "    'Monte Carlo Simulation': montecarlo_widgets\n",
    "}\n",
    "\n",
    "\n",
    "# --- HELPER & LOGIC FUNCTIONS (Bagian 3) ---\n",
    "\n",
    "def update_total_files_label():\n",
    "    \"\"\"Memperbarui label total berkas berdasarkan data yang disimpan.\"\"\"\n",
    "    TOTAL_FILES_LABEL0.value = f\"{len(UPLOADED_FILES_DATA)} stock data uploaded\"\n",
    "\n",
    "def create_upload_widget():\n",
    "    \"\"\"Membuat widget FileUpload baru dan menempatkannya di kontainer.\"\"\"\n",
    "    global CURRENT_UPLOAD_WIDGET\n",
    "\n",
    "    new_upload_widget = widgets.FileUpload(\n",
    "        accept='.csv,.txt', multiple=True, button_style='primary', description='Upload your stock data', layout=widgets.Layout(width='210px')\n",
    "    )\n",
    "    new_upload_widget.observe(on_local_data_upload, names='value')\n",
    "\n",
    "    CURRENT_UPLOAD_WIDGET = new_upload_widget\n",
    "    UPLOAD_CONTAINER.children = (UPLOAD_CONTAINER.children[0], new_upload_widget)\n",
    "\n",
    "def on_dataset_update(change):\n",
    "    min_stock = round(30 * math.sqrt(dataset_dropdown.value))\n",
    "    data_need_label.set_trait('value', f\"You need {min_stock}+ stock data\")\n",
    "\n",
    "def on_local_data_upload(change):\n",
    "    \"\"\"Observer untuk FileUpload. Menyimpan data, memproses log, lalu me-reset widget.\"\"\"\n",
    "    global UPLOADED_FILES_DATA\n",
    "\n",
    "    # 1. Simpan data berkas yang baru diunggah ke dictionary global\n",
    "    # Ini mengakumulasi berkas dari semua sesi upload\n",
    "    UPLOADED_FILES_DATA.update(change['new'])\n",
    "\n",
    "    # 2. Perbarui label hitungan\n",
    "    update_total_files_label()\n",
    "\n",
    "    # 3. Panggil logika proses/log\n",
    "    # on_generate_clicked(None, uploaded_files=change['new'])\n",
    "\n",
    "    # 4. Reset widget FileUpload (untuk membersihkan hitungan di tombol)\n",
    "    create_upload_widget()\n",
    "\n",
    "def update_stocks(change):\n",
    "    \"\"\"Memperbarui opsi multiple-select saham berdasarkan bursa yang dipilih.\"\"\"\n",
    "    stock_select_multiple.options = STOCK_DATA[change['new']]\n",
    "    stock_select_multiple.value = []\n",
    "\n",
    "def update_ui(change):\n",
    "    \"\"\"Menyembunyikan/menampilkan widget berdasarkan pilihan sumber data.\"\"\"\n",
    "    selected_source = change['new']\n",
    "    for widget in WIDGET_MAP.values():\n",
    "        widget.layout.display = 'none'\n",
    "\n",
    "    WIDGET_MAP[selected_source].layout.display = 'block'\n",
    "    plot_button.layout.display = 'block' if selected_source == 'Monte Carlo Simulation' else 'none'\n",
    "\n",
    "    if selected_source == 'Yahoo Finance':\n",
    "        update_stock_dropdown_visibility(select_stock_mode.value)\n",
    "    elif selected_source == 'Local Data':\n",
    "        # Pastikan label hitungan diperbarui saat panel diaktifkan\n",
    "        update_total_files_label()\n",
    "        if CURRENT_UPLOAD_WIDGET is None or CURRENT_UPLOAD_WIDGET not in UPLOAD_CONTAINER.children:\n",
    "            create_upload_widget()\n",
    "\n",
    "def update_stock_dropdown_visibility(value):\n",
    "    \"\"\"Menyembunyikan atau menampilkan dropdown Stock berdasarkan mode pemilihan.\"\"\"\n",
    "    # stock_selection_container.layout.display = 'block' if value == 'Manual' else 'none'\n",
    "    if value == 'Random':\n",
    "      stock_select_multiple.disabled = True\n",
    "    else:\n",
    "      stock_select_multiple.disabled = False\n",
    "\n",
    "# def print_status(actual, minimum, unit):\n",
    "#     \"\"\"Fungsi pembantu untuk mencetak status saham/berkas.\"\"\"\n",
    "#     if actual < minimum:\n",
    "#         print(f\"⚠️ Silakan sskllllllllllllllllllllllllllllllllllllllllllllllllllllllllllllllllllllllllllllllllllllllllllllllllllllllllllllllllnpilih setidaknya {minimum} {unit} (Anda baru memilih {actual}).\")\n",
    "#     else:\n",
    "#         print(f\"Jumlah {unit} cukup.\")\n",
    "# Fungsi untuk membersihkan data menggunakan interpolasi linear\n",
    "def clean_data_simple(df):\n",
    "    \"\"\"\n",
    "    Membersihkan data harga dengan interpolasi linear sederhana.\n",
    "    Versi yang lebih robust untuk menghindari masalah indexing.\n",
    "    \"\"\"\n",
    "    column=\"Close\"\n",
    "    threshold_drop=-0.5\n",
    "    threshold_jump=1.0\n",
    "    try:\n",
    "        # Return langsung jika kolom tidak ada atau data pendek\n",
    "        if column not in df.columns or len(df) < 3:\n",
    "            return df.copy()\n",
    "\n",
    "        cleaned = df.copy()\n",
    "        prices = cleaned[column]\n",
    "\n",
    "        # Reset index sementara untuk menghindari masalah indexing\n",
    "        original_index = cleaned.index\n",
    "        cleaned_reset = cleaned.reset_index(drop=True)\n",
    "        prices_reset = cleaned_reset[column]\n",
    "\n",
    "        # Hitung persentase perubahan\n",
    "        pct_change = prices_reset.pct_change()\n",
    "\n",
    "        # Cari indices dimana perubahan melebihi threshold\n",
    "        drop_mask = (pct_change < threshold_drop).to_numpy()\n",
    "        jump_mask = (pct_change > threshold_jump).to_numpy()\n",
    "        anomaly_mask = drop_mask | jump_mask\n",
    "\n",
    "        # Dapatkan indices sebagai array numpy\n",
    "        anomaly_indices = np.where(anomaly_mask)[0]\n",
    "\n",
    "        # Iterasi melalui anomaly indices\n",
    "        for idx in anomaly_indices:\n",
    "            # Pastikan kita tidak di awal atau akhir data\n",
    "            if 0 < idx < len(prices_reset) - 1:\n",
    "                prev_val = prices_reset.iloc[idx-1]\n",
    "                next_val = prices_reset.iloc[idx+1]\n",
    "\n",
    "                # Skip jika nilai sebelumnya atau sesudahnya NaN\n",
    "                if not (np.isnan(prev_val) or np.isnan(next_val)):\n",
    "                    # Interpolasi linear\n",
    "                    interpolated_value = (prev_val + next_val) / 2\n",
    "                    cleaned_reset.at[idx, column] = interpolated_value\n",
    "\n",
    "        # Kembalikan index asli\n",
    "        cleaned_reset.index = original_index\n",
    "        return cleaned_reset\n",
    "\n",
    "    except Exception as e:\n",
    "        print(f\"Error dalam pembersihan data: {e}\")\n",
    "        import traceback\n",
    "        traceback.print_exc()\n",
    "        return df.copy()\n",
    "\n",
    "def html_head_tail_single_table(df, n=5):\n",
    "    \"\"\"\n",
    "    Menampilkan head dan tail DataFrame dengan lebar kolom otomatis (sesuai teks)\n",
    "    menggunakan Pandas Styler.\n",
    "    \"\"\"\n",
    "\n",
    "    # 1. Persiapan Data\n",
    "    df.index = df.index.astype(str)\n",
    "    head_df = df.head(n)\n",
    "    tail_df = df.tail(n)\n",
    "    separator_row = pd.DataFrame([['...'] * len(df.columns)], columns=df.columns, index=['...'])\n",
    "    combined_df = pd.concat([head_df, separator_row, tail_df])\n",
    "\n",
    "    # 2. Styling CSS untuk Lebar Otomatis dan Rapi\n",
    "\n",
    "    # CSS untuk keseluruhan tabel\n",
    "    # table_css = [\n",
    "    #     {'selector': 'table',\n",
    "    #      'props': [\n",
    "    #         #  ('width', 'auto'), # Mengatur lebar tabel menjadi otomatis\n",
    "    #          ('table-layout', 'auto') # ⭐️ KUNCI: Biarkan lebar ditentukan oleh konten\n",
    "    #      ]}\n",
    "    # ]\n",
    "\n",
    "    # CSS untuk kolom indeks (tanggal) - Mencegah wrapping teks\n",
    "    index_css = [\n",
    "        {'selector': 'th:first-child',\n",
    "         'props': [\n",
    "             ('white-space', 'nowrap'), # Mencegah teks melompat ke baris baru\n",
    "             ('text-align', 'right'),\n",
    "             ('font-weight', 'bold'),\n",
    "             ('background-color', '#f7f7f9')\n",
    "         ]}\n",
    "    ]\n",
    "\n",
    "    # CSS untuk semua sel data\n",
    "    # data_css = [\n",
    "    #     {'selector': 'td',\n",
    "    #      'props': [('text-align', 'right'), ('white-space', 'nowrap')]}, # white-space: nowrap juga berguna untuk kolom nilai\n",
    "    #     {'selector': 'th',\n",
    "    #      'props': [('text-align', 'center')]}\n",
    "    # ]\n",
    "\n",
    "    # 3. Pemformatan Angka (untuk memastikan semua angka memiliki panjang yang seragam)\n",
    "    # format_mapping = {}\n",
    "    # for col in combined_df.columns:\n",
    "    #     if combined_df[col].dtype in ['float64', 'int64']:\n",
    "    #         format_mapping[col] = \"{:,.2f}\" # Tetapkan 2 desimal\n",
    "\n",
    "    # 4. Terapkan Styling dan Formatting\n",
    "    styler = combined_df.style \\\n",
    "        .set_table_styles(index_css) \\\n",
    "        # .format(format_mapping)\n",
    "\n",
    "    # 5. Konversi ke HTML dan Tampilkan\n",
    "    styled_html = styler.to_html()\n",
    "\n",
    "    html_output = f\"\"\"\n",
    "    <div style=\"width: 100%; font-family: Arial, sans-serif;\">\n",
    "        <h3 style=\"color: #2E86AB; text-align: left; margin-bottom: 5px;\">\n",
    "            PORTFOLIO DATASET\n",
    "        </h3>\n",
    "        {styled_html}\n",
    "    </div>\n",
    "    \"\"\"\n",
    "\n",
    "    display(HTML(html_output))\n",
    "\n",
    "test_data = []\n",
    "tanggal = []\n",
    "dataHarga = []\n",
    "\n",
    "def on_generate_clicked(b, uploaded_files=None):\n",
    "    \"\"\"Mencetak ringkasan parameter yang dipilih.\"\"\"\n",
    "    with OUTPUT_AREA:\n",
    "        global dataHarga\n",
    "        global test_data\n",
    "        global tanggal\n",
    "\n",
    "        # print(f\"Total Dataset: {dataset_dropdown.value}\\nMinimum stocks needed (estimated): {min_stock}\\n\" + \"-\" * 40)\n",
    "        min_stock = round(30 * math.sqrt(dataset_dropdown.value))\n",
    "        source = data_source_toggle.value\n",
    "\n",
    "        if source == 'Yahoo Finance':\n",
    "            num_stocks = len(stock_select_multiple.value)\n",
    "            print(\"Sedang proses create dataset......\")\n",
    "            # print_status(num_stocks, min_stock, \"saham\")\n",
    "\n",
    "            # # --- Asumsi Variabel Input ---\n",
    "            # tickers = (\"AAME\",\"GABC\",\"ABEO\",\"NEON\",\"ADBE\",\"ADI\",\"ADP\",\"ADSK\",\"HLIT\",\"AGYS\",\"CWCO\",\"AIRT\",\"ALCO\",\"ALOT\",\"GIII\",\"CASH\",\"AMD\",\"AMGN\",\"IIIN\",\"AMWD\",\"MATW\",\"APOG\",\"ARKR\",\"AROW\",\"ARTW\",\"ASRV\",\"ASTE\",\"INCY\",\"AAPL\",\"ATRO\")\n",
    "            tickers = (\"BX\", \"CLPR\", \"KODK\", \"VISL\", \"OIS\", \"SMBC\", \"CAC\", \"VKI\", \"MAN\", \"ETJ\", \"NRIM\", \"CPS\", \"BGFV\", \"BMRA\", \"MSM\", \"WTM\", \"SIG\", \"INO\", \"IDXX\", \"PHD\", \"RMD\", \"RFIL\", \"FBRX\", \"PLUS\", \"MLM\", \"ACHV\", \"ACR\", \"NTZ\", \"XRAY\", \"GNTY\")\n",
    "            # tickers = (\"001065.ks\",\"001067.ks\",\"0011.hk\",\"0012.hk\",\"001230.ks\",\"001440.ks\",\"001465.ks\",\"001520.ks\",\"001525.ks\",\"001550.ks\",\"0016.hk\",\"001620.ks\",\"001680.ks\",\"0017.hk\",\"001740.ks\",\"001790.ks\",\"001800.ks\",\"0019.hk\",\"0021.hk\",\"0023.hk\",\"002350.ks\",\"002460.ks\",\"0027.hk\",\"002790.ks\",\"0028.hk\",\"003075.ks\",\"0033.hk\",\"003470.ks\",\"0035.hk\",\"003545.ks\")\n",
    "            # tickers = stock_select_multiple.value\n",
    "\n",
    "            # # 1. Tampilkan Indikator Loading untuk Voila\n",
    "            # status_label = widgets.Label(value=\"⏳ Sedang mengunduh dan memproses data saham (Mohon tunggu)...\")\n",
    "            # display(status_label)\n",
    "\n",
    "            # #add data stock\n",
    "            # portfolioTicker = []\n",
    "            # portfolioData = []\n",
    "            # while len(portfolioTicker) < 30:\n",
    "            #     # print(\"Portfolio anda masih kurang\",30-len(portfolioTicker),\"ticker. Mohon isi ticker pilihan anda\")\n",
    "            #     tickerSelect = tickers\n",
    "            #     for i in range(len(tickerSelect)):\n",
    "            #         tickerSelect_data = yf.download(tickerSelect[i], period=\"max\", auto_adjust=False)\n",
    "            #         tickerSelect_data.index = pd.to_datetime(tickerSelect_data.index).date\n",
    "            #         if len(tickerSelect_data) > 1000:\n",
    "            #             portfolioTicker.append(tickerSelect[i])\n",
    "            #             portfolioData.append(tickerSelect_data)\n",
    "\n",
    "            # Daftar ticker\n",
    "            # tickers = (\n",
    "            #     \"BX\", \"CLPR\", \"KODK\", \"VISL\", \"OIS\", \"SMBC\", \"CAC\", \"VKI\", \"MAN\", \"ETJ\",\n",
    "            #     \"NRIM\", \"CPS\", \"BGFV\", \"BMRA\", \"MSM\", \"WTM\", \"SIG\", \"INO\", \"IDXX\", \"PHD\",\n",
    "            #     \"RMD\", \"RFIL\", \"FBRX\", \"PLUS\", \"MLM\", \"ACHV\", \"ACR\", \"NTZ\", \"XRAY\", \"GNTY\"\n",
    "            # )\n",
    "\n",
    "            # ----------------------------\n",
    "            # Bagian pengunduhan & pembersihan data\n",
    "            # ----------------------------\n",
    "\n",
    "            portfolioTicker = []\n",
    "            portfolioData = []\n",
    "\n",
    "            for ticker in tickers:\n",
    "                # try:\n",
    "                    # Unduh data historis\n",
    "                tickerSelect_data = yf.download(ticker, period=\"max\", auto_adjust=False, progress = False)\n",
    "\n",
    "                # Konversi index ke format tanggal\n",
    "                tickerSelect_data.index = pd.to_datetime(tickerSelect_data.index).date\n",
    "\n",
    "                # Cek jumlah minimal data\n",
    "                if len(tickerSelect_data) > 1000:\n",
    "\n",
    "                    # Bersihkan kolom Close\n",
    "                    # tickerSelect_data = clean_data_simple(\n",
    "                    #     tickerSelect_data\n",
    "                    # )\n",
    "\n",
    "                    portfolioTicker.append(ticker)\n",
    "                    portfolioData.append(tickerSelect_data)\n",
    "                    # print(f\"Data {ticker} (jumlah: {len(tickerSelect_data)}) berhasil diunduh dan dibersihkan.\")\n",
    "                # else:\n",
    "                #     print(f\"Data {ticker} dilewati: Jumlah baris ({len(tickerSelect_data)}) kurang dari 1000.\")\n",
    "\n",
    "                # except Exception as e:\n",
    "                #     print(f\"Gagal mengunduh data {ticker}: {e}\")\n",
    "\n",
    "            # Find common date range\n",
    "            testStartdate = max([data.index.min() for data in portfolioData])\n",
    "            testEnddate = min([data.index.max() for data in portfolioData])\n",
    "\n",
    "            # Create common date range (hanya hari kerja)\n",
    "            common_dates = pd.date_range(start=testStartdate, end=testEnddate, freq='B').date  # 'B' untuk Business days\n",
    "\n",
    "            # Filter out weekends from each portfolio data\n",
    "            portfolioData_weekdays = []\n",
    "            for data in portfolioData:\n",
    "                # Konversi index ke datetime untuk filtering\n",
    "                data_index_dt = pd.to_datetime(data.index)\n",
    "                # Filter hanya hari kerja (Senin-Jumat)\n",
    "                weekday_mask = data_index_dt.dayofweek < 5  # 0=Senin, 4=Jumat, 5=Sabtu, 6=Minggu\n",
    "                data_weekdays = data[weekday_mask]\n",
    "                portfolioData_weekdays.append(data_weekdays)\n",
    "\n",
    "            # Combine all data\n",
    "            combined_data = pd.DataFrame(index=common_dates)\n",
    "\n",
    "            for i, (ticker, data) in enumerate(zip(portfolioTicker, portfolioData_weekdays)):\n",
    "                combined_data[ticker] = data['Close'].reindex(common_dates)\n",
    "\n",
    "            # Handle missing values\n",
    "            combined_data.ffill(inplace=True)\n",
    "            combined_data.bfill(inplace=True)\n",
    "\n",
    "            # Final data - pastikan hanya hari kerja yang tersisa\n",
    "            test_data = combined_data.dropna()  # Remove any remaining NaN\n",
    "\n",
    "            # Verifikasi bahwa tidak ada data weekend\n",
    "            final_dates = pd.to_datetime(test_data.index)\n",
    "            weekend_mask = final_dates.dayofweek >= 5\n",
    "            if weekend_mask.any():\n",
    "                print(\"Peringatan: Masih terdapat data weekend, melakukan pembersihan tambahan...\")\n",
    "                test_data = test_data[~weekend_mask]\n",
    "\n",
    "            dataHarga = test_data.to_numpy()\n",
    "            tanggal = test_data.index.to_numpy()\n",
    "\n",
    "            clear_output(wait=True)\n",
    "\n",
    "            html_head_tail_single_table(test_data, 5)\n",
    "            # print(\"Your Portfolio Data:\\n\",test_data)\n",
    "\n",
    "        elif source == 'Local Data':\n",
    "            # Ambil total berkas yang sudah diakumulasi\n",
    "            num_files = len(UPLOADED_FILES_DATA)\n",
    "            # print(f\"Sumber Data: Local Data (Total stock data uploaded: {num_files})\")\n",
    "            # print_status(num_files, min_stock, \"berkas\")\n",
    "\n",
    "            print(\"\\nDaftar Berkas yang Diunggah (Total Akumulasi):\")\n",
    "            # Iterasi menggunakan UPLOADED_FILES_DATA global\n",
    "            print(\"\\n\".join(f\"- {name}\" for name in UPLOADED_FILES_DATA.keys()) if UPLOADED_FILES_DATA else \"- Belum ada berkas yang diunggah.\")\n",
    "\n",
    "        elif source == 'Monte Carlo Simulation':\n",
    "            method = montecarlo_widgets.children[0].value\n",
    "            print(f\"Melakukan simulasi Monte Carlo dengan metode {method}...\")\n",
    "\n",
    "def plot_montecarlo(b):\n",
    "    \"\"\"Membuat plot sederhana dari simulasi Monte Carlo.\"\"\"\n",
    "    if data_source_toggle.value != 'Monte Carlo Simulation':\n",
    "        print(\"Pilih 'Monte Carlo Simulation' untuk melihat plot.\")\n",
    "        return\n",
    "\n",
    "    initial_price = montecarlo_widgets.children[1].value\n",
    "    time_horizon = montecarlo_widgets.children[4].value\n",
    "\n",
    "    plt.figure(figsize=(10, 5))\n",
    "    for _ in range(50):\n",
    "        prices = initial_price * np.exp(np.cumsum(np.random.normal(0, 0.01, time_horizon)))\n",
    "        plt.plot(prices, alpha=0.5)\n",
    "    plt.title('Monte Carlo Simulation Sample Paths')\n",
    "    plt.xlabel('Time (days)')\n",
    "    plt.ylabel('Price')\n",
    "    plt.grid(True)\n",
    "    plt.show()\n",
    "\n",
    "# --- INITIALIZATION & DISPLAY ---\n",
    "\n",
    "# Link observers\n",
    "data_source_toggle.observe(update_ui, names='value')\n",
    "dataset_dropdown.observe(on_dataset_update, names='value')\n",
    "select_stock_mode.observe(lambda change: update_stock_dropdown_visibility(change['new']), names='value')\n",
    "exchange_dropdown.observe(update_stocks, names='value')\n",
    "stock_select_multiple.observe(lambda change: selected_stocks_label.set_trait('value', f\"{len(change['new'])} stocks selected\"), names='value')\n",
    "generate_button.on_click(on_generate_clicked)\n",
    "plot_button.on_click(plot_montecarlo)\n",
    "\n",
    "# Initial setup\n",
    "create_upload_widget()\n",
    "\n",
    "dataset_content = widgets.VBox([\n",
    "        dataset_container,\n",
    "        data_source_toggle,\n",
    "        main_container,\n",
    "        widgets.HBox([generate_button,reset_button])\n",
    "    ], layout=widgets.Layout(width='350px'))\n",
    "\n",
    "#=======================================================================================================================================================================\n",
    "\n",
    "# file = open(\"https://images.ctfassets.net/hrltx12pl8hq/28ECAQiPJZ78hxatLTa7Ts/2f695d869736ae3b0de3e56ceaca3958/free-nature-images.jpg?fit=fill&w=1200&h=630\", \"rb\")\n",
    "image = requests.get(\"https://raw.githubusercontent.com/guangyoung/test2/refs/heads/main/360_F_1394167414_FkutDkFwLRQETxtp7PdrmBWBYMGoezIY.jpg\").content\n",
    "imge = widgets.Image(\n",
    "    value=image,\n",
    "    format='jpg',\n",
    "    width=745\n",
    ")\n",
    "\n",
    "image2 = requests.get(\"https://raw.githubusercontent.com/guangyoung/test2/refs/heads/main/360_F_1394167414_FkutDkFwLRQETxtp7PdrmBWBYMGoezIY_copy.jpg\").content\n",
    "imge2 = widgets.Image(\n",
    "    value=image2,\n",
    "    format='jpg',\n",
    "    width=745\n",
    ")\n",
    "\n",
    "# dataset = widgets.HBox([imge, dataset_content])\n",
    "dataset = widgets.VBox([widgets.HBox([dataset_content, widgets.VBox([imge])], layout=widgets.Layout(width='1100px')),widgets.HBox([OUTPUT_AREA])])\n",
    "test_setting = widgets.HBox([test_setting_content, widgets.VBox([imge2])], layout=widgets.Layout(width='1100px'))\n",
    "\n",
    "# Gabungkan konten ke dalam satu widget Accordion tunggal\n",
    "main_accordion = widgets.Accordion(children=[test_setting, dataset],layout=widgets.Layout(width='95%'))\n",
    "# main_accordion.set_title(0, 'QuantGenius API Key')\n",
    "main_accordion.set_title(0, 'Test Setting')\n",
    "main_accordion.set_title(1, 'Dataset')\n",
    "\n",
    "# Set accordion agar tertutup saat pertama kali dimuat\n",
    "main_accordion.selected_index = None\n",
    "\n",
    "# Tombol \"Start Simulation Trading\"\n",
    "start_button = widgets.Button(\n",
    "    description='▶️ Start Trade Simulation With Real-Time QuantGenius Trade Signals',\n",
    "    button_style='success',\n",
    "    tooltip='Click to run the simulation',\n",
    "    layout=widgets.Layout(width='95%'),\n",
    "    style={'font_weight': 'bold', 'font_size': '15px'}\n",
    ")\n",
    "\n",
    "# Gunakan HBox untuk menempatkan tombol di tengah\n",
    "# centered_button = widgets.VBox(\n",
    "#     [main_accordion,start_button],\n",
    "#     layout=widgets.Layout(align_items='center')\n",
    "# )\n",
    "# Tambahkan tombol reset di luar fungsi simulasi\n",
    "reset2_button = widgets.Button(\n",
    "    description=\"🔄 Reset Trade Simulation\",\n",
    "    button_style='warning',\n",
    "    tooltip='Hapus hasil simulasi',\n",
    "    layout=widgets.Layout(width='100%'),\n",
    "    style={'font_weight': 'bold', 'font_size': '15px'}\n",
    ")\n",
    "centered_reset_button = widgets.VBox(\n",
    "    [reset2_button],layout=widgets.Layout(align_items='center', overflow='hidden')\n",
    ")\n",
    "\n",
    "# Wadah untuk menampilkan hasil simulasi (grafik, dll.)\n",
    "simulation_output = widgets.Output(layout=widgets.Layout(width='95%'))\n",
    "\n",
    "# def open_url(url):\n",
    "#     \"\"\"\n",
    "#     Fungsi ini akan mengembalikan handler (fungsi yang menerima objek tombol)\n",
    "#     yang menjalankan kode JavaScript untuk membuka URL tertentu.\n",
    "#     \"\"\"\n",
    "#     def handler(b):\n",
    "#         # Gunakan URL yang sudah \"tertanam\" di fungsi ini\n",
    "#         js_code = f\"window.open('{url}', '_blank');\"\n",
    "#         display(Javascript(js_code))\n",
    "#     return handler\n",
    "\n",
    "# Tambahkan tombol dan badge baru\n",
    "github_badge = widgets.HTML(\n",
    "    f\"\"\"\n",
    "    <a href=\"{'https://www.github.com'}\" target=\"_blank\" style=\"text-decoration:none;\">\n",
    "        <button class=\"widget-button\" style=\"width:170px;margin:5px;background-color:lightblue;border:none;padding:3px 12px;border-radius:6px;cursor:pointer;font-size:12px;\"><i class=\"fa fa-github\"></i> Github Profile</button>\n",
    "    </a>\n",
    "    \"\"\"\n",
    ")\n",
    "# about_badge = widgets.Button(\n",
    "#     description='About QuantGenius',\n",
    "#     icon='book',\n",
    "#     layout=widgets.Layout(width='175px', margin='5px'),\n",
    "#     style={'button_color': 'lightblue'}\n",
    "# )\n",
    "about_badge = widgets.HTML(\n",
    "    f\"\"\"\n",
    "    <a href=\"{'https://www.quantgenius.ai'}\" target=\"_blank\" style=\"text-decoration:none;\">\n",
    "        <button class=\"widget-button\" style=\"width:170px;margin:5px;background-color:lightblue;border:none;padding:3px 12px;border-radius:6px;cursor:pointer;font-size:12px;\"><i class=\"fa fa-book\"></i> About QuantGenius</button>\n",
    "    </a>\n",
    "    \"\"\"\n",
    ")\n",
    "open_in_googlecolab = widgets.HTML(\n",
    "    f\"\"\"\n",
    "    <a href=\"{'https://colab.research.google.com'}\" target=\"_blank\" style=\"text-decoration:none;\">\n",
    "        <button class=\"widget-button\" style=\"width:170px;margin:5px;background-color:lightblue;border:none;padding:3px 12px;border-radius:6px;cursor:pointer;font-size:12px;\"><i class=\"fa fa-book\"></i> Open in Google Colab</button>\n",
    "    </a>\n",
    "    \"\"\"\n",
    ")\n",
    "api_doc = widgets.HTML(\n",
    "    f\"\"\"\n",
    "    <a href=\"{'https://editor.swagger.io/?_gl=1*1ua8uzl*_gcl_au*NDAxMzAyMjg5LjE3NTc1OTU0NTk.'}\" target=\"_blank\" style=\"text-decoration:none;\">\n",
    "        <button class=\"widget-button\" style=\"width:170px;margin:5px;background-color:lightblue;border:none;padding:3px 12px;border-radius:6px;cursor:pointer;font-size:12px;\"><i class=\"fa fa-book\"></i> QuantGenius API Doc</button>\n",
    "    </a>\n",
    "    \"\"\"\n",
    ")\n",
    "\n",
    "# github_badge.on_click(open_url('https://www.github.com/'))\n",
    "# about_badge.on_click(open_url('https://www.quantgenius.ai/'))\n",
    "# open_in_googlecolab.on_click(open_url('https://colab.research.google.com/'))\n",
    "# api_doc.on_click(open_url('https://editor.swagger.io/?_gl=1*1ua8uzl*_gcl_au*NDAxMzAyMjg5LjE3NTc1OTU0NTk.'))\n",
    "\n",
    "# button = widgets.HTML(f\"\"\"\n",
    "#     <a href=\"{'https://colab.research.google.com/'}\" target=\"_blank\">\n",
    "#         <button style=\"padding:8px 16px; font-size:14px;\">Open Google</button>\n",
    "#     </a>\n",
    "# \"\"\")\n",
    "\n",
    "# Gunakan HBox untuk menempatkan badge di tengah\n",
    "centered_badges = widgets.HBox(\n",
    "    [github_badge, open_in_googlecolab, api_doc]\n",
    ")\n",
    "\n",
    "# async def resetData(url,api):\n",
    "#     async with aiohttp.ClientSession() as session:\n",
    "#         async with session.delete(url, headers = {'X-QUANTGENIUS-APIKEY':api, 'Content-Type': 'application/json'}) as resp:\n",
    "#              return await resp.text()\n",
    "\n",
    "# 2. Logika simulasi\n",
    "# CATATAN: Kode ini mengasumsikan variabel global seperti 'simulation_output',\n",
    "# 'main_accordion', 'initial_equity', 'interest_rate', 'maintenance_margin_rate',\n",
    "# 'regT_margin_rate', 'commission', dan 'spread' telah didefinisikan di lingkungan Anda.\n",
    "\n",
    "# =================================================================================\n",
    "## FUNGSI PERHITUNGAN METRIK\n",
    "# =================================================================================\n",
    "\n",
    "def calculate_metrics(equity_array, initial_equity_value, risk_free_rate=0.02):\n",
    "    \"\"\"Menghitung Total Return, Max Drawdown, Sharpe Ratio, dan Sortino Ratio.\"\"\"\n",
    "\n",
    "    if len(equity_array) == 0:\n",
    "        return {\"Total Return\": np.nan, \"Max Drawdown\": np.nan, \"Sharpe Ratio\": np.nan, \"Sortino Ratio\": np.nan}\n",
    "\n",
    "    total_return = (equity_array[-1] - initial_equity_value) / initial_equity_value\n",
    "    daily_returns = pd.Series(equity_array).pct_change().dropna().values\n",
    "\n",
    "    # Max Drawdown\n",
    "    cumulative_return = np.insert(equity_array / initial_equity_value, 0, 1.0)\n",
    "    peak = np.maximum.accumulate(cumulative_return)\n",
    "    drawdown = (peak - cumulative_return) / peak\n",
    "    max_drawdown = np.max(drawdown)\n",
    "\n",
    "    if len(daily_returns) < 1:\n",
    "        return {\"Total Return\": total_return, \"Max Drawdown\": max_drawdown, \"Sharpe Ratio\": np.nan, \"Sortino Ratio\": np.nan}\n",
    "\n",
    "    annual_risk_free_rate = risk_free_rate / 252\n",
    "    avg_daily_return = np.mean(daily_returns)\n",
    "    std_daily_return = np.std(daily_returns)\n",
    "\n",
    "    # Sharpe Ratio\n",
    "    if std_daily_return == 0:\n",
    "        sharpe_ratio = np.inf if avg_daily_return > annual_risk_free_rate else np.nan\n",
    "    else:\n",
    "        sharpe_ratio = (avg_daily_return - annual_risk_free_rate) / std_daily_return * np.sqrt(252)\n",
    "\n",
    "    # Sortino Ratio\n",
    "    downside_returns = daily_returns[daily_returns < 0]\n",
    "    if len(downside_returns) == 0:\n",
    "        sortino_ratio = np.inf if avg_daily_return > annual_risk_free_rate else np.nan\n",
    "    else:\n",
    "        downside_deviation = np.std(downside_returns)\n",
    "        if downside_deviation == 0:\n",
    "            sortino_ratio = np.inf if avg_daily_return > annual_risk_free_rate else np.nan\n",
    "        else:\n",
    "            sortino_ratio = (avg_daily_return - annual_risk_free_rate) / downside_deviation * np.sqrt(252)\n",
    "\n",
    "    return {\"Total Return\": total_return, \"Max Drawdown\": max_drawdown, \"Sharpe Ratio\": sharpe_ratio, \"Sortino Ratio\": sortino_ratio}\n",
    "\n",
    "# =================================================================================\n",
    "## FUNGSI SIMULASI YANG DIPERBAIKI (LEBIH CEPAT)\n",
    "# =================================================================================\n",
    "\n",
    "def start_simulation(test_data, dataHarga, tanggal):\n",
    "\n",
    "    # Clear previous output\n",
    "    clear_output(wait=True)\n",
    "\n",
    "    if len(test_data) < 1000:\n",
    "        #Menampilkan peringatan (Warning) dan melanjutkan eksekusi (jika memungkinkan)\n",
    "        # warnings.warn(\"Perhatian: Jumlah data kurang dari 1000. Akurasi dan validitas simulasi mungkin terganggu.\", UserWarning)\n",
    "        raise ValueError(\"Data input tidak memadai. Diperlukan minimal 1000 titik data untuk menjalankan simulasi.\")\n",
    "\n",
    "    reset = http.request(\"DELETE\", \"https://www.quantgenius.ai/api/resetdata\", headers = {\"X-QUANTGENIUS-APIKEY\":\"3fJ50FlM4Qsb53p548FmSEoFlv7FbeNwSY3hWIVs\"})\n",
    "    print(reset.json())\n",
    "\n",
    "    # 1. Inisialisasi Progress Bar\n",
    "    total_iterations = len(test_data)\n",
    "    progress_bar = widgets.IntProgress(\n",
    "        value=0,\n",
    "        min=0,\n",
    "        max=total_iterations,\n",
    "        description='Running trade simulation',\n",
    "        bar_style='info',  # Gaya 'info' (biru)\n",
    "        style={'bar_color': 'green', 'description_width': '145px'},\n",
    "        layout=widgets.Layout(width='94%')\n",
    "    )\n",
    "    progress_label = widgets.Label(value=f\"0.00%\")\n",
    "    progress_container = widgets.HBox([progress_bar, progress_label])\n",
    "\n",
    "    with simulation_output:\n",
    "        # main_accordion.selected_index = None\n",
    "        start_button.disabled = True\n",
    "        # Clear previous output\n",
    "        clear_output(wait=True)\n",
    "        # Tampilkan progress bar sebelum loop dimulai\n",
    "        display(progress_container)\n",
    "\n",
    "        # 2. Inisialisasi Variabel\n",
    "        stock_price = np.zeros(30, dtype='d')\n",
    "        stock_price_sebelum = np.zeros(30, dtype='d')\n",
    "        stock_position_size = np.zeros(30, dtype='d')\n",
    "\n",
    "        initial_stockPrice = np.array(dataHarga[0], dtype='d')\n",
    "        initial_eq = initial_equity.value\n",
    "        cash_balance = initial_eq\n",
    "\n",
    "        # GANTI np.array APPEND DENGAN LIST APPEND (LEBIH CEPAT)\n",
    "        quantxi_equity_list = []\n",
    "        buyhold_equity_list = []\n",
    "        market_value_list = []\n",
    "\n",
    "        previous_signal_hashcode = \"0000000000000000000000000000000000000000000000000000000000000000\"\n",
    "        dataIdx = 0\n",
    "        accrued_interest = 0\n",
    "        min_excessLiquidity = initial_eq\n",
    "\n",
    "        stock_price_sebelum = dataHarga[dataIdx]\n",
    "\n",
    "        # 3. Loop Simulasi\n",
    "        while dataIdx < total_iterations:\n",
    "\n",
    "            # --- Perbarui Progress Bar ---\n",
    "            progress_bar.value = dataIdx + 1\n",
    "            progress_label.value = f\"{((dataIdx + 1)/total_iterations)*100:.2f}%\"\n",
    "            # -----------------------------\n",
    "\n",
    "            stock_price = dataHarga[dataIdx]\n",
    "\n",
    "            # if dataIdx < total_iterations-1:\n",
    "            #   stock_price_sesudah = dataHarga[dataIdx+1]\n",
    "            # else:\n",
    "            #   stock_price_sesudah = dataHarga[dataIdx]\n",
    "\n",
    "            # for i in range(30):\n",
    "            #    if dataIdx == (total_iterations-1):\n",
    "            #       selisihawal = dataHarga[dataIdx][i] / dataHarga[0][i]\n",
    "            #       print(f\"selisihawal: {selisihawal}\")\n",
    "            #    selisihharga = stock_price[i] / stock_price_sebelum[i]\n",
    "            #    if selisihharga > 2:\n",
    "            #       # stock_price[i] = stock_price_sebelum[i] * 2\n",
    "            #       print(f\"selisihharga: {selisihharga}, idx : {dataIdx}\")\n",
    "            #    elif selisihharga < 0.5:\n",
    "            #       # stock_price[i] = stock_price_sebelum[i] *0.5\n",
    "            #       print(f\"selisihharga: {selisihharga}, idx : {dataIdx}\")\n",
    "\n",
    "\n",
    "            # Logika Bunga\n",
    "            if cash_balance < 0:\n",
    "                # print((tanggal[dataIdx] - tanggal[dataIdx-1]).days)\n",
    "                daily_Interest = cash_balance * (interest_rate.value / 360) * (tanggal[dataIdx] - tanggal[dataIdx-1]).days\n",
    "                accrued_interest += daily_Interest\n",
    "\n",
    "            if tanggal[dataIdx].day == 1:\n",
    "                cash_balance += accrued_interest\n",
    "                accrued_interest = 0\n",
    "\n",
    "            market_value = np.sum(stock_price * stock_position_size)\n",
    "            equity_with_loanValue = cash_balance + market_value + accrued_interest\n",
    "\n",
    "            # Persiapan Data Input API (Menggunakan list comprehension yang ringkas)\n",
    "            portfolio_data = [{\"price\": stock_price[i], \"position_size\": stock_position_size[i]} for i in range(30)]\n",
    "            data_input = {\n",
    "                \"prev_signal_hashcode\": previous_signal_hashcode,\n",
    "                \"equity_balance\": equity_with_loanValue,\n",
    "                \"portfolio_data\": portfolio_data\n",
    "            }\n",
    "            # print(data_input)\n",
    "\n",
    "            # PANGGILAN API (Menggunakan requests yang sudah diimpor)\n",
    "            # try:\n",
    "            response = http.request(\"POST\", \"https://www.quantgenius.ai/api/adddata\", headers = {\"X-QUANTGENIUS-APIKEY\":\"3fJ50FlM4Qsb53p548FmSEoFlv7FbeNwSY3hWIVs\", \"Content-Type\": 'application/json'}, json = data_input)\n",
    "            # response = await addData(json.dumps(data_input))\n",
    "            # res = json.loads(response)\n",
    "            # print(json.loads(response.data))\n",
    "            # response = requests.post(\"https://api.quantgenius.ai/add\", headers = {\"X-API-KEY\":api_key.value, \"Content-Type\": 'application/json'}, data = json.dumps(data_input))\n",
    "\n",
    "            signal_output = response.json()[\"data\"]#json.loads(response.data)[\"data\"]#INI DIPIKIRIN JIKA STATUS SIGNAL TIDAK SUCCESS, KADANG MUNCUL KEY ERROR DATA, yg artinya key nya bisa jd message, ada error saat rest api\n",
    "\n",
    "            previous_signal_hashcode = signal_output[\"signal_hashcode\"]\n",
    "\n",
    "            # ----------------------------------------------------------------------------------\n",
    "            # TRADE TRANSACTION (Dioptimasi dengan Vektorisasi NumPy)\n",
    "            # ----------------------------------------------------------------------------------\n",
    "            maintenance_margin_req = market_value * maintenance_margin_rate.value\n",
    "            excess_liquidity = equity_with_loanValue - maintenance_margin_req\n",
    "            regT_margin_req = market_value * regT_margin_rate.value\n",
    "            excess_equity = equity_with_loanValue - regT_margin_req\n",
    "\n",
    "            if excess_liquidity > 0:\n",
    "                # Inisialisasi variabel\n",
    "                estimate_imr = 0\n",
    "                estimate_comm = 0\n",
    "                filled_percentage = 0\n",
    "\n",
    "                # Loop pertama untuk menghitung estimate_imr dan estimate_comm\n",
    "                for i in range(30):\n",
    "                    action = signal_output[\"trade_signal\"][i][\"action\"]\n",
    "                    quantity = float(signal_output[\"trade_signal\"][i][\"quantity\"])\n",
    "                    price = stock_price[i]\n",
    "\n",
    "                    if action == \"BUY\":\n",
    "                        estimate_imr += (quantity * price) * regT_margin_rate.value\n",
    "                        estimate_comm += abs(quantity) * price * (commission.value + spread.value)\n",
    "                    elif action == \"SELL\":\n",
    "                        estimate_imr -= (quantity * price) * regT_margin_rate.value\n",
    "                        estimate_comm += abs(quantity) * price * (commission.value + spread.value)\n",
    "                    else:\n",
    "                        # Tidak melakukan apa-apa untuk action selain BUY/SELL\n",
    "                        pass\n",
    "\n",
    "                # Menghitung filled_percentage\n",
    "                total_estimate = estimate_imr + estimate_comm\n",
    "\n",
    "                if total_estimate <= 0:\n",
    "                    filled_percentage = 1\n",
    "                elif excess_equity <= 0:\n",
    "                    filled_percentage = 0\n",
    "                elif excess_equity > total_estimate:\n",
    "                    filled_percentage = 1\n",
    "                else:\n",
    "                    filled_percentage = excess_equity / total_estimate\n",
    "\n",
    "                # Inisialisasi array\n",
    "                filledOrder = []\n",
    "                filledPrice = []\n",
    "                tradeValue = []\n",
    "                commission_arr = []\n",
    "\n",
    "                # Loop kedua untuk menghitung order yang terisi\n",
    "                for i in range(30):\n",
    "                    action = signal_output[\"trade_signal\"][i][\"action\"]\n",
    "                    quantity = float(signal_output[\"trade_signal\"][i][\"quantity\"])\n",
    "                    price = stock_price[i]\n",
    "\n",
    "                    if action == \"BUY\":\n",
    "                        filledOrder.append(quantity * filled_percentage)\n",
    "                        filledPrice.append(price)\n",
    "                    elif action == \"SELL\":\n",
    "                        filledOrder.append(-(quantity * filled_percentage))\n",
    "                        filledPrice.append(price)\n",
    "                    else:\n",
    "                        filledOrder.append(0)\n",
    "                        filledPrice.append(0)\n",
    "\n",
    "                    # Hitung trade value dan commission\n",
    "                    trade_value_item = filledOrder[i] * filledPrice[i]\n",
    "                    commission_item = abs(filledOrder[i]) * filledPrice[i] * (commission.value + spread.value)\n",
    "\n",
    "                    tradeValue.append(trade_value_item)\n",
    "                    commission_arr.append(commission_item)\n",
    "\n",
    "                # Hitung total\n",
    "                total_trade_value = sum(tradeValue)\n",
    "                total_commission = sum(commission_arr)\n",
    "\n",
    "                # Update Cash dan Posisi\n",
    "                cash_balance -= total_trade_value + total_commission\n",
    "                stock_position_size += filledOrder\n",
    "\n",
    "            # ----------------------------------------------------------------------------------\n",
    "            # PENGUMPULAN DATA\n",
    "            # ----------------------------------------------------------------------------------\n",
    "            # market_value = np.sum(stock_price * stock_position_size)\n",
    "            # equity_with_loanValue = cash_balance + accrued_interest + market_value\n",
    "\n",
    "            stock_price_sebelum = dataHarga[dataIdx]\n",
    "\n",
    "            quantxi_equity_list.append(equity_with_loanValue)\n",
    "\n",
    "            # Buy & Hold Equity (Vektorisasi Cepat)\n",
    "            bh_position = initial_eq / 30 / initial_stockPrice\n",
    "            buyhold_equity = np.sum(bh_position * stock_price)\n",
    "            buyhold_equity_list.append(buyhold_equity)\n",
    "\n",
    "            market_value_list.append(market_value)\n",
    "\n",
    "            # if (market_value/equity_with_loanValue)>2:\n",
    "            #     print(market_value/equity_with_loanValue)\n",
    "\n",
    "            if excess_liquidity < min_excessLiquidity:\n",
    "                min_excessLiquidity = excess_liquidity\n",
    "\n",
    "            dataIdx += 1\n",
    "\n",
    "        # 1. Membuat data yang merepresentasikan tabel\n",
    "        data = {\n",
    "            'SYSTEM': ['QUANTGENIUS', 'BUY AND HOLD'],\n",
    "            'TOTAL RETURN': ['10,000,000.00%', '10,000.00%'],\n",
    "            'CAGR': ['100.00%', '5.00%'],\n",
    "            'MAXDD ABSOLUT': ['65.00%', '55.00%'],\n",
    "            'MAXDD RELATIF': ['25.00%', '55.00%'],\n",
    "            'CALMAR ABSOLUT': ['1.54', '0.09'],\n",
    "            'CALMAR RELATIF': ['4.00', '0.09'],\n",
    "            'SHARPE RATIO': ['0.80', '0.60'],\n",
    "            'SORTINO RATIO': ['1.10', '0.70']\n",
    "        }\n",
    "\n",
    "        df = pd.DataFrame(data)\n",
    "\n",
    "        # 2. Mengubah nama kolom dengan HTML line breaks untuk header 2 baris\n",
    "        df.columns = [\n",
    "            'SYSTEM',\n",
    "            'TOTAL<br>RETURN',\n",
    "            'CAGR',\n",
    "            'MAX DD<br>ABSOLUT',\n",
    "            'MAX DD<br>RELATIF',\n",
    "            'CALMAR<br>ABSOLUT',\n",
    "            'CALMAR<br>RELATIF',\n",
    "            'SHARPE<br>RATIO',\n",
    "            'SORTINO<br>RATIO'\n",
    "        ]\n",
    "\n",
    "        # 3. Menampilkan judul\n",
    "        # print(\"## PERFORMANCE COMPARISON: QUANTGENIUS vs BUY AND HOLD\")\n",
    "\n",
    "        # 4. Styling tabel dengan HTML formatting\n",
    "        styled_df = df.style \\\n",
    "            .set_properties(**{\n",
    "                # 'text-align': 'center',\n",
    "                'border': '1px solid black',\n",
    "                'padding': '8px',\n",
    "                'font-size': '12px',\n",
    "                'white-space': 'pre-wrap'  # Penting untuk line breaks\n",
    "            }) \\\n",
    "            .set_table_styles([\n",
    "                # Styling untuk header\n",
    "                {'selector': 'th',\n",
    "                'props': [\n",
    "                    ('background-color', '#2E8B57'),\n",
    "                    ('color', 'white'),\n",
    "                    ('font-weight', 'bold'),\n",
    "                    ('border', '1px solid black'),\n",
    "                    ('padding', '12px 8px'),\n",
    "                    ('text-align', 'center'),\n",
    "                    ('vertical-align', 'middle'),\n",
    "                    ('font-size', '12px')\n",
    "                    #  ('white-space', 'normal')  # Memungkinkan line breaks\n",
    "                ]},\n",
    "                # Styling untuk sel data\n",
    "                {'selector': 'td',\n",
    "                'props': [\n",
    "                    ('border', '1px solid black'),\n",
    "                    ('padding', '8px'),\n",
    "                    ('text-align', 'right'),\n",
    "                    ('vertical-align', 'middle')\n",
    "                ]},\n",
    "                # Styling untuk baris ganjil\n",
    "                {'selector': 'tr:nth-child(odd)',\n",
    "                'props': [('background-color', '#F0FFF0')]},\n",
    "                # Styling untuk baris genap\n",
    "                {'selector': 'tr:nth-child(even)',\n",
    "                'props': [('background-color', '#FFFFFF')]},\n",
    "                # Styling untuk tabel\n",
    "                {'selector': 'table',\n",
    "                'props': [\n",
    "                    ('border-collapse', 'collapse'),\n",
    "                    ('width', '100%'),\n",
    "                    ('margin', '20px 0')\n",
    "                ]}\n",
    "            ]) \\\n",
    "            .hide(axis=\"index\") \\\n",
    "            .map(lambda x: 'font-weight: bold; color: #006400;',\n",
    "                subset=pd.IndexSlice[:, ['SYSTEM']]) \\\n",
    "\n",
    "        html_code = \"\"\"\n",
    "          <div style=\"\n",
    "              display: flex;\n",
    "              justify-content: center;\n",
    "              margin: 20px 0;\n",
    "          \">\n",
    "              <div style=\"\n",
    "                  text-align: center;\n",
    "                  padding: 20px 40px;\n",
    "                  background: linear-gradient(135deg, #E8F5E9, #A5D6A7);\n",
    "                  border: 2px solid #2E8B57;\n",
    "                  border-radius: 12px;\n",
    "                  box-shadow: 0 4px 12px rgba(46, 139, 87, 0.3);\n",
    "              \">\n",
    "                  <div style=\"\n",
    "                      font-size: 18px;\n",
    "                      font-weight: bold;\n",
    "                      color: #1B5E20;\n",
    "                      margin-bottom: 5px;\n",
    "                  \">\n",
    "                      Outperform Total Return\n",
    "                  </div>\n",
    "                  <div style=\"\n",
    "                      font-size: 42px;\n",
    "                      font-weight: bold;\n",
    "                      color: #006400;\n",
    "                      margin-top: 5px;\n",
    "                  \">\n",
    "                      125%\n",
    "                  </div>\n",
    "              </div>\n",
    "          </div>\n",
    "          \"\"\"\n",
    "\n",
    "        # 4. Finalisasi, Metrik, dan Grafik\n",
    "        # Konversi List ke Array NumPy\n",
    "        quantxi_equity_array = np.array(quantxi_equity_list, dtype='d')\n",
    "        buyhold_equity_array = np.array(buyhold_equity_list, dtype='d')\n",
    "        market_value_array = np.array(market_value_list, dtype='d')\n",
    "\n",
    "        # Hitung Metrik\n",
    "        metrics_qg = calculate_metrics(quantxi_equity_array, initial_eq)\n",
    "        metrics_bh = calculate_metrics(buyhold_equity_array, initial_eq)\n",
    "\n",
    "        # clear_output(wait=True) # Hapus progress bar final\n",
    "\n",
    "        # --- KONSTANTA ---\n",
    "        WINDOW = 20\n",
    "        ANNUAL_TRADING_DAYS = 252\n",
    "        RISK_FREE_RATE = 0.0 # Asumsi Rf harian = 0\n",
    "\n",
    "        # --- VISUALISASI GRAFIK ---\n",
    "        dates = pd.to_datetime(tanggal[:total_iterations])\n",
    "        qg_returns = (quantxi_equity_array - initial_eq) / initial_eq\n",
    "        bh_returns = (buyhold_equity_array - initial_eq) / initial_eq\n",
    "\n",
    "        # Ubah subplot menjadi 8 baris\n",
    "        fig, (ax1, ax3, ax8) = plt.subplots(3, 1, figsize=(12, 9), sharex=True)\n",
    "\n",
    "        # Tambahkan jarak vertikal antar plot untuk memberi ruang pada Catatan\n",
    "        plt.subplots_adjust(hspace=8.5)\n",
    "\n",
    "        # ----------------------------------------------------------------------------------\n",
    "        # Plot 1: Return Kumulatif\n",
    "        # ----------------------------------------------------------------------------------\n",
    "        ax1.plot(dates, qg_returns * 100, label='QuantGenius', color='blue')\n",
    "        ax1.plot(dates, bh_returns * 100, label='Buy & Hold', color='red')\n",
    "        ax1.set_title('Perbandingan Total Return Kumulatif', fontsize=14)\n",
    "        ax1.set_ylabel('Return (%)', fontsize=10)\n",
    "        ax1.tick_params(axis='x', rotation=45)\n",
    "        ax1.legend(loc='upper left')\n",
    "        ax1.grid(True, linestyle='--', alpha=0.6)\n",
    "        ax1.text(0.0, -0.2,\n",
    "                'Catatan: Menunjukkan pertumbuhan modal dari waktu ke waktu. QG (biru) dibandingkan B&H (merah).\\nMenunjukkan pertumbuhan modal dari waktu ke waktu. QG (biru) dibandingkan B&H (merah).\\nMenunjukkan pertumbuhan modal dari waktu ke waktu. QG (biru) dibandingkan B&H (merah).',\n",
    "                transform=ax1.transAxes, fontsize=9, color='black', ha='left')\n",
    "\n",
    "        # ----------------------------------------------------------------------------------\n",
    "        # --- PERHITUNGAN VOLATILITAS, RETURNS & RASIO ---\n",
    "        # ----------------------------------------------------------------------------------\n",
    "\n",
    "        # Log Returns Harian\n",
    "        qg_log_returns = pd.Series(np.diff(np.log(quantxi_equity_array)))\n",
    "        bh_log_returns = pd.Series(np.diff(np.log(buyhold_equity_array)))\n",
    "\n",
    "        # Volatilitas Bergulir Harian (StDev)\n",
    "        qg_rolling_stdev = qg_log_returns.rolling(window=WINDOW).std()\n",
    "        bh_rolling_stdev = bh_log_returns.rolling(window=WINDOW).std()\n",
    "\n",
    "        # 1. Rolling Annualized Volatility (untuk Plot 7)\n",
    "        qg_rolling_volatility = qg_rolling_stdev * np.sqrt(ANNUAL_TRADING_DAYS)\n",
    "        bh_rolling_volatility = bh_rolling_stdev * np.sqrt(ANNUAL_TRADING_DAYS)\n",
    "\n",
    "        # 2. Rolling Annualized Mean Return\n",
    "        qg_rolling_mean_ret = qg_log_returns.rolling(window=WINDOW).mean() * ANNUAL_TRADING_DAYS\n",
    "        bh_rolling_mean_ret = bh_log_returns.rolling(window=WINDOW).mean() * ANNUAL_TRADING_DAYS\n",
    "\n",
    "        # 3. Rolling Sharpe Ratio (untuk Plot 5)\n",
    "        qg_rolling_sharpe = (qg_rolling_mean_ret - RISK_FREE_RATE) / qg_rolling_volatility\n",
    "        bh_rolling_sharpe = (bh_rolling_mean_ret - RISK_FREE_RATE) / bh_rolling_volatility\n",
    "\n",
    "        # 4. Rolling Sortino Ratio (untuk Plot 6)\n",
    "        qg_downside_returns = qg_log_returns[qg_log_returns < 0]\n",
    "        bh_downside_returns = bh_log_returns[bh_log_returns < 0]\n",
    "        qg_rolling_downside_dev = qg_downside_returns.rolling(window=WINDOW).std()\n",
    "        bh_rolling_downside_dev = bh_downside_returns.rolling(window=WINDOW).std()\n",
    "        qg_annualized_downside_dev = qg_rolling_downside_dev * np.sqrt(ANNUAL_TRADING_DAYS)\n",
    "        bh_annualized_downside_dev = bh_rolling_downside_dev * np.sqrt(ANNUAL_TRADING_DAYS)\n",
    "        qg_rolling_sortino = qg_rolling_mean_ret / qg_annualized_downside_dev\n",
    "        bh_rolling_sortino = bh_rolling_mean_ret / bh_annualized_downside_dev\n",
    "\n",
    "        # Rasio Keuangan\n",
    "        epsilon = 1000000\n",
    "        # Menggunakan market_value_safe untuk menghindari pembagian nol yang menyebabkan NaN pada Plot 3 & 4\n",
    "        market_value_safe = np.where(market_value_array == 0, epsilon, market_value_array)\n",
    "\n",
    "        qg_equity_to_market_value = quantxi_equity_array / market_value_safe\n",
    "        qg_leverage = market_value_safe / quantxi_equity_array # Menggunakan safe MV juga di sini\n",
    "\n",
    "        dates_for_returns = dates[1:]\n",
    "        dates_for_volatility = dates[WINDOW:]\n",
    "\n",
    "        # ----------------------------------------------------------------------------------\n",
    "        # Plot 2: Daily Log Returns (Visualisasi Volatilitas Buy & Hold)\n",
    "        # ----------------------------------------------------------------------------------\n",
    "        # ax2.plot(dates_for_returns, bh_log_returns * 100, label='Buy & Hold Daily Log Return', color='red', alpha=0.7)\n",
    "        # ax2.set_title('Daily Log Returns (Visualisasi Volatilitas Buy & Hold)', fontsize=14)\n",
    "        # ax2.set_ylabel('Daily Log Return (%)', fontsize=10)\n",
    "        # ax2.tick_params(axis='x', rotation=45)\n",
    "        # ax2.axhline(0, color='gray', linestyle='--', linewidth=0.8)\n",
    "        # ax2.legend(loc='upper right')\n",
    "        # ax2.grid(True, linestyle='--', alpha=0.6)\n",
    "        # ax2.text(0.0, -0.2,\n",
    "        #         'Catatan: Visualisasi volatilitas harian Buy & Hold. Semakin besar ayunan, semakin tinggi risiko.\\nVisualisasi volatilitas harian Buy & Hold. Semakin besar ayunan, semakin tinggi risiko.\\nVisualisasi volatilitas harian Buy & Hold. Semakin besar ayunan, semakin tinggi risiko.',\n",
    "        #         transform=ax2.transAxes, fontsize=9, color='black', ha='left')\n",
    "\n",
    "        # ----------------------------------------------------------------------------------\n",
    "        # Plot 3: Equity to Market Value Ratio\n",
    "        # ----------------------------------------------------------------------------------\n",
    "        ax3.plot(dates, qg_equity_to_market_value * 100, label='QG Equity/MV (%)', color='magenta', linewidth=2)\n",
    "\n",
    "        ax3.axhline(0, color='black', linestyle='-', linewidth=1.5, label='0% (Bangkrut)')\n",
    "        ax3.axhline(25, color='orange', linestyle='--', linewidth=1.0, label='25% (Margin Minimum)')\n",
    "        ax3.axhline(100, color='green', linestyle='-', linewidth=1.5, alpha=0.8, label='100% (Tanpa Utang)')\n",
    "        ax3.set_title('Equity to Market Value Ratio (Modal vs Total Aset)', fontsize=14)\n",
    "        ax3.set_ylabel('Rasio E/MV (%)', fontsize=10)\n",
    "        ax3.tick_params(axis='y', labelcolor='black')\n",
    "        ax3.grid(True, linestyle='--', alpha=0.6)\n",
    "        ax3.legend(loc='best')\n",
    "        ax3.text(0.0, -0.2,\n",
    "                'Catatan: Rasio modal (Equity) terhadap total aset (MV). Nilai < 100% menunjukkan penggunaan leverage.\\nRasio modal (Equity) terhadap total aset (MV). Nilai < 100% menunjukkan penggunaan leverage.\\nRasio modal (Equity) terhadap total aset (MV). Nilai < 100% menunjukkan penggunaan leverage.',\n",
    "                transform=ax3.transAxes, fontsize=9, color='black', ha='left')\n",
    "\n",
    "\n",
    "        # ----------------------------------------------------------------------------------\n",
    "        ## Plot 4: Rasio Leverage Harian (Dipindah dari ax3)\n",
    "        # ----------------------------------------------------------------------------------\n",
    "        # ax4.plot(dates, qg_leverage, label='Rasio Leverage Aktual', color='purple', linewidth=2)\n",
    "        # ax4.axhline(1.0, color='green', linestyle='--', linewidth=1.5, alpha=0.8, label='Leverage 1x (Tanpa Utang)')\n",
    "        # ax4.axhline(2.0, color='orange', linestyle=':', linewidth=1.5, alpha=0.8, label='Leverage 2x')\n",
    "        # ax4.set_title('Rasio Leverage Aktual Harian QuantGenius', fontsize=14)\n",
    "        # ax4.set_ylabel('Rasio Leverage (x)', fontsize=10)\n",
    "        # ax4.tick_params(axis='y', labelcolor='black')\n",
    "        # ax4.grid(True, linestyle='--', alpha=0.6)\n",
    "        # ax4.legend(loc='upper right')\n",
    "        # ax4.text(0.0, -0.2,\n",
    "        #         'Catatan: Menunjukkan tingkat leverage (MV/E) yang digunakan QG. Nilai > 1.0 berarti menggunakan utang.\\nMenunjukkan tingkat leverage (MV/E) yang digunakan QG. Nilai > 1.0 berarti menggunakan utang.\\nMenunjukkan tingkat leverage (MV/E) yang digunakan QG. Nilai > 1.0 berarti menggunakan utang.',\n",
    "        #         transform=ax4.transAxes, fontsize=9, color='black', ha='left')\n",
    "\n",
    "        # ----------------------------------------------------------------------------------\n",
    "        # Plot 5: Rolling Sharpe Ratio (Dipindah dari ax4)\n",
    "        # ----------------------------------------------------------------------------------\n",
    "        # ax5.plot(dates_for_volatility,\n",
    "        #         qg_rolling_sharpe.iloc[WINDOW-1:],\n",
    "        #         label=f'QuantGenius (Rolling {WINDOW}d)',\n",
    "        #         color='blue')\n",
    "\n",
    "        # ax5.plot(dates_for_volatility,\n",
    "        #         bh_rolling_sharpe.iloc[WINDOW-1:],\n",
    "        #         label=f'Buy & Hold (Rolling {WINDOW}d)',\n",
    "        #         color='red',\n",
    "        #         linestyle='--')\n",
    "\n",
    "        # ax5.axhline(0.0, color='gray', linestyle='--', linewidth=0.8)\n",
    "        # ax5.set_title(f'Rolling Sharpe Ratio Tahunan ({WINDOW} Hari)', fontsize=14)\n",
    "        # ax5.set_ylabel('Sharpe Ratio', fontsize=10)\n",
    "        # ax5.tick_params(axis='x', rotation=45)\n",
    "        # ax5.legend()\n",
    "        # ax5.grid(True, linestyle='--', alpha=0.6)\n",
    "        # ax5.text(0.0, -0.2,\n",
    "        #         'Catatan: Mengukur return berbanding risiko (volatilitas) yang disetahunkan. Nilai > 1.0 dianggap kinerja baik.\\nMengukur return berbanding risiko (volatilitas) yang disetahunkan. Nilai > 1.0 dianggap kinerja baik.\\nMengukur return berbanding risiko (volatilitas) yang disetahunkan. Nilai > 1.0 dianggap kinerja baik.',\n",
    "        #         transform=ax5.transAxes, fontsize=9, color='black', ha='left')\n",
    "\n",
    "        # ----------------------------------------------------------------------------------\n",
    "        # Plot 6: Rolling Sortino Ratio (Dipindah dari ax5)\n",
    "        # ----------------------------------------------------------------------------------\n",
    "        # ax6.plot(dates_for_volatility,\n",
    "        #         qg_rolling_sortino.iloc[WINDOW-1:],\n",
    "        #         label=f'QuantGenius (Rolling {WINDOW}d)',\n",
    "        #         color='green')\n",
    "\n",
    "        # ax6.plot(dates_for_volatility,\n",
    "        #         bh_rolling_sortino.iloc[WINDOW-1:],\n",
    "        #         label=f'Buy & Hold (Rolling {WINDOW}d)',\n",
    "        #         color='red',\n",
    "        #         linestyle='--')\n",
    "\n",
    "        # ax6.axhline(0.0, color='gray', linestyle='--', linewidth=0.8)\n",
    "        # ax6.set_title(f'Rolling Sortino Ratio Tahunan ({WINDOW} Hari)', fontsize=14)\n",
    "        # ax6.set_ylabel('Sortino Ratio', fontsize=10)\n",
    "        # ax6.tick_params(axis='x', rotation=45)\n",
    "        # ax6.legend()\n",
    "        # ax6.grid(True, linestyle='--', alpha=0.6)\n",
    "        # ax6.text(0.0, -0.2,\n",
    "        #         'Catatan: Mengukur return berbanding risiko downside (kerugian) yang disetahunkan. Fokus pada risiko kerugian.\\nMengukur return berbanding risiko downside (kerugian) yang disetahunkan. Fokus pada risiko kerugian.\\nMengukur return berbanding risiko downside (kerugian) yang disetahunkan. Fokus pada risiko kerugian.',\n",
    "        #         transform=ax6.transAxes, fontsize=9, color='black', ha='left')\n",
    "\n",
    "        # ----------------------------------------------------------------------------------\n",
    "        # Plot 7: Volatilitas Tahunan Bergulir (Dipindah dari ax6)\n",
    "        # ----------------------------------------------------------------------------------\n",
    "        # ax7.plot(dates_for_volatility,\n",
    "        #         qg_rolling_volatility.iloc[WINDOW-1:] * 100,\n",
    "        #         label=f'QuantGenius (Rolling {WINDOW}d)',\n",
    "        #         color='blue')\n",
    "\n",
    "        # ax7.plot(dates_for_volatility,\n",
    "        #         bh_rolling_volatility.iloc[WINDOW-1:] * 100,\n",
    "        #         label=f'Buy & Hold (Rolling {WINDOW}d)',\n",
    "        #         color='red',\n",
    "        #         linestyle='--')\n",
    "\n",
    "        # ax7.set_title(f'Volatilitas Tahunan Bergulir ({WINDOW} Hari)', fontsize=14)\n",
    "        # ax7.set_ylabel('Volatilitas Tahunan (%)', fontsize=10)\n",
    "        # ax7.tick_params(axis='x', rotation=45)\n",
    "        # ax7.legend()\n",
    "        # ax7.grid(True, linestyle='--', alpha=0.6)\n",
    "        # ax7.text(0.0, -0.2,\n",
    "        #         'Catatan: Mengukur risiko (standar deviasi) pengembalian yang disetahunkan. Kinerja yang lebih halus adalah target.\\nMengukur risiko (standar deviasi) pengembalian yang disetahunkan. Kinerja yang lebih halus adalah target.\\nMengukur risiko (standar deviasi) pengembalian yang disetahunkan. Kinerja yang lebih halus adalah target.',\n",
    "        #         transform=ax7.transAxes, fontsize=9, color='black', ha='left')\n",
    "\n",
    "        # ----------------------------------------------------------------------------------\n",
    "        ## Plot 8: Drawdown Kumulatif (Dipindah dari ax7)\n",
    "        # ----------------------------------------------------------------------------------\n",
    "        qg_cumulative_return = np.insert(quantxi_equity_array / initial_eq, 0, 1.0)\n",
    "        qg_peak = np.maximum.accumulate(qg_cumulative_return)\n",
    "        qg_drawdown_plot = (qg_peak - qg_cumulative_return) / qg_peak\n",
    "\n",
    "        bh_cumulative_return = np.insert(buyhold_equity_array / initial_eq, 0, 1.0)\n",
    "        bh_peak = np.maximum.accumulate(bh_cumulative_return)\n",
    "        bh_drawdown_plot = (bh_peak - bh_cumulative_return) / bh_peak\n",
    "\n",
    "        plot_dates = np.insert(dates.values, 0, dates[0] - pd.Timedelta(days=1))\n",
    "\n",
    "        ax8.plot(plot_dates, qg_drawdown_plot * 100, label='QG Drawdown', color='blue')\n",
    "        ax8.plot(plot_dates, bh_drawdown_plot * 100, label='B&H Drawdown', color='red')\n",
    "        ax8.fill_between(plot_dates, qg_drawdown_plot * 100, color='blue', alpha=0.1)\n",
    "        ax8.fill_between(plot_dates, bh_drawdown_plot * 100, color='red', alpha=0.1)\n",
    "        ax8.set_title('Drawdown Kumulatif', fontsize=14)\n",
    "        ax8.set_xlabel('Tanggal', fontsize=10)\n",
    "        ax8.set_ylabel('Drawdown (%)', fontsize=10)\n",
    "        ax8.legend()\n",
    "        ax8.grid(True, linestyle='--', alpha=0.6)\n",
    "        ax8.text(0.0, -0.45,\n",
    "                'Catatan: Kerugian dari puncak tertinggi (peak) yang dialami strategi. Semakin kecil dan pendek durasi, semakin baik.\\nKerugian dari puncak tertinggi (peak) yang dialami strategi. Semakin kecil dan pendek durasi, semakin baik.\\nKerugian dari puncak tertinggi (peak) yang dialami strategi. Semakin kecil dan pendek durasi, semakin baik.',\n",
    "                transform=ax8.transAxes, fontsize=9, color='black', ha='left')\n",
    "\n",
    "        # Wrapper untuk menggabungkan dalam satu baris\n",
    "        wrapper_html = f\"\"\"\n",
    "        <div style=\"display: flex; gap: 20px; align-items: flex-start; margin: 20px 0;\">\n",
    "            <div style=\"flex: 1;\">\n",
    "                {styled_df.to_html()}\n",
    "            </div>\n",
    "            <div style=\"flex: 1;\">\n",
    "                {html_code}\n",
    "            </div>\n",
    "        </div>\n",
    "        \"\"\"\n",
    "\n",
    "        # Setelah loop selesai, hapus progress bar dan tampilkan hasil\n",
    "        clear_output(wait=True)\n",
    "        display(centered_reset_button)\n",
    "        display(HTML(wrapper_html))\n",
    "        # print(\"\\n\" + \"=\"*50)\n",
    "        plt.tight_layout()\n",
    "        plt.show()\n",
    "\n",
    "        # Tampilkan Tabel Metrik\n",
    "        # metrics_df = pd.DataFrame({\n",
    "        #     \"Metrik\": [\"Total Return\", \"Max Drawdown\", \"Sharpe Ratio\", \"Sortino Ratio\"],\n",
    "        #     \"QuantGenius\": [\n",
    "        #         f\"{metrics_qg['Total Return']:.2%}\",\n",
    "        #         f\"{metrics_qg['Max Drawdown']:.2%}\",\n",
    "        #         f\"{metrics_qg['Sharpe Ratio']:.2f}\",\n",
    "        #         f\"{metrics_qg['Sortino Ratio']:.2f}\"\n",
    "        #     ],\n",
    "        #     \"Buy & Hold\": [\n",
    "        #         f\"{metrics_bh['Total Return']:.2%}\",\n",
    "        #         f\"{metrics_bh['Max Drawdown']:.2%}\",\n",
    "        #         f\"{metrics_bh['Sharpe Ratio']:.2f}\",\n",
    "        #         f\"{metrics_bh['Sortino Ratio']:.2f}\"\n",
    "        #     ]\n",
    "        # })\n",
    "\n",
    "        # print(\"\\n\" + \"=\"*50)\n",
    "        # print(\"📊 HASIL PERBANDINGAN PERFORMA\")\n",
    "        # print(\"=\"*50 + \"\\n\")\n",
    "        # display(metrics_df)\n",
    "\n",
    "        # # Tampilkan ringkasan numerik\n",
    "        # print(\"\\n\" + \"=\"*50)\n",
    "        # final_equity_qg = quantxi_equity_array[-1] if len(quantxi_equity_array) > 0 else initial_eq\n",
    "        # final_equity_bh = buyhold_equity_array[-1] if len(buyhold_equity_array) > 0 else initial_eq\n",
    "\n",
    "        # print(f\"Rasio Ekuitas QG/BH (Akhir): {final_equity_qg / final_equity_bh:.4f}\")\n",
    "        # print(f\"Ekuitas QG Akhir: {final_equity_qg:,.2f}\")\n",
    "        # print(f\"Ekuitas Buy & Hold Akhir: {final_equity_bh:,.2f}\")\n",
    "        # print(f\"Likuiditas Berlebih Minimum: {min_excessLiquidity:,.2f}\")\n",
    "        # print(f\"Total Iterasi: {dataIdx}\")\n",
    "        # print(\"\\nSimulasi selesai! Klik 'Reset' untuk kembali ke tampilan awal.\")\n",
    "\n",
    "# 3. Logika reset\n",
    "def reset_output(b):\n",
    "    with simulation_output:\n",
    "        clear_output()\n",
    "        start_button.disabled = False\n",
    "\n",
    "def on_start_click(b):\n",
    "    \"\"\"Fungsi yang dieksekusi saat tombol diklik.\"\"\"\n",
    "    with simulation_output:\n",
    "      try:\n",
    "          # print(\"Mencoba menjalankan simulasi...\")\n",
    "          # Panggil fungsi utama simulasi Anda\n",
    "          start_simulation(test_data, dataHarga, tanggal)\n",
    "          # print(\"Simulasi selesai dan plot berhasil dibuat.\")\n",
    "      except ValueError as e:\n",
    "          # Menangkap error (misalnya: Data kurang dari 1000)\n",
    "          print(f\"\\n[❌ SIMULASI GAGAL] {e}\")\n",
    "          print(\"Tindakan: Silakan perbaiki data input dan klik tombol START lagi.\")\n",
    "\n",
    "# Hubungkan tombol dengan fungsi\n",
    "start_button.on_click(on_start_click)\n",
    "reset2_button.on_click(reset_output)\n",
    "\n",
    "footer_text1 = widgets.HTML(\n",
    "    value=\"<p style='text-align: center;line-height: 1.35;margin-top: 2px; font-size: 11.5px'>I am commitment for realistic trading simulation also open source and transparant testing to prove that QuantGenius actually works. Feel free to modify the code to suit your specific testing methodology. You also can test using jupyter notebook or google colab and kaggle or you can create your own testing system by using our api docs. I am commitment for realistic trading simulation also open source and transparant testing to prove that QuantGenius actually works. Feel free to modify the code to suit your specific testing methodology. You also can test using jupyter notebook or google colab and kaggle or you can create your own testing system by using our api docs. Check details in our Github.</p>\"\n",
    ")\n",
    "\n",
    "centered_footer = widgets.HBox([footer_text1],layout=widgets.Layout(width='95%'))\n",
    "\n",
    "# 4. Tampilkan semua widget dalam satu tata letak\n",
    "main_box = widgets.VBox([ai_logo, title_text, main_accordion,start_button, simulation_output, centered_footer, centered_badges], layout=widgets.Layout(align_items='center', border='2px solid #667eea', padding='20px', margin='auto', width='90%'))\n",
    "\n",
    "display(main_box)\n",
    "\n"
   ]
  },
  {
   "cell_type": "code",
   "execution_count": null,
   "metadata": {
    "editable": false,
    "jupyter": {
     "source_hidden": true
    },
    "slideshow": {
     "slide_type": ""
    },
    "tags": []
   },
   "outputs": [],
   "source": []
  }
 ],
 "metadata": {
  "kernelspec": {
   "display_name": "Python 3 (ipykernel)",
   "language": "python",
   "name": "python3"
  },
  "language_info": {
   "codemirror_mode": {
    "name": "ipython",
    "version": 3
   },
   "file_extension": ".py",
   "mimetype": "text/x-python",
   "name": "python",
   "nbconvert_exporter": "python",
   "pygments_lexer": "ipython3",
   "version": "3.13.4"
  },
  "widgets": {
   "application/vnd.jupyter.widget-state+json": {
    "state": {
     "06a49defe8864703a1177505e9483245": {
      "model_module": "@jupyter-widgets/controls",
      "model_module_version": "2.0.0",
      "model_name": "HBoxModel",
      "state": {
       "children": [
        "IPY_MODEL_94a1a9ea87414d78960ce0c24163983d"
       ],
       "layout": "IPY_MODEL_a4c928b238f34154945d855fbfb13efa"
      }
     },
     "06cbd99293184a2faa81869c25586677": {
      "model_module": "@jupyter-widgets/controls",
      "model_module_version": "2.0.0",
      "model_name": "HBoxModel",
      "state": {
       "children": [
        "IPY_MODEL_207a01c9f61c4b1bba9f52f638e286c3",
        "IPY_MODEL_f961ebafaf4e472db99802abdd0611f5"
       ],
       "layout": "IPY_MODEL_39168f2deb98412ca2846aed41c4f392"
      }
     },
     "07948009fede4ef899023acc1eb9a65d": {
      "model_module": "@jupyter-widgets/controls",
      "model_module_version": "2.0.0",
      "model_name": "DropdownModel",
      "state": {
       "_options_labels": [
        "LSE",
        "NASDAQ",
        "NYSE"
       ],
       "description": "Select Exchange",
       "index": 0,
       "layout": "IPY_MODEL_aa73cc023f8b427bb8707f56df3f0032",
       "style": "IPY_MODEL_d4791f82f22248c48ce8a584ec819ebc"
      }
     },
     "08c584c220b94c9199b40b643aab6ecc": {
      "model_module": "@jupyter-widgets/controls",
      "model_module_version": "2.0.0",
      "model_name": "HTMLStyleModel",
      "state": {
       "description_width": "",
       "font_size": null,
       "text_color": null
      }
     },
     "0a4b8f0065004540a78c98068191c2d2": {
      "model_module": "@jupyter-widgets/controls",
      "model_module_version": "2.0.0",
      "model_name": "DescriptionStyleModel",
      "state": {
       "description_width": "117px"
      }
     },
     "0b4eda46c4d340338f4ea14a415e727a": {
      "model_module": "@jupyter-widgets/base",
      "model_module_version": "2.0.0",
      "model_name": "LayoutModel",
      "state": {
       "width": "210px"
      }
     },
     "0d60d2b25b6f4f678b691465e751d82e": {
      "model_module": "@jupyter-widgets/controls",
      "model_module_version": "2.0.0",
      "model_name": "DropdownModel",
      "state": {
       "_options_labels": [
        "Manual",
        "Random"
       ],
       "description": "Select stock mode",
       "index": 0,
       "layout": "IPY_MODEL_aa73cc023f8b427bb8707f56df3f0032",
       "style": "IPY_MODEL_2bd69999f51d44098871a17451b40ba7"
      }
     },
     "0f6ff0367a384e328cc55ed5a1b7e82f": {
      "model_module": "@jupyter-widgets/base",
      "model_module_version": "2.0.0",
      "model_name": "LayoutModel",
      "state": {
       "width": "1100px"
      }
     },
     "10fb8eaf202544e0aaa77733f92f66b6": {
      "model_module": "@jupyter-widgets/base",
      "model_module_version": "2.0.0",
      "model_name": "LayoutModel",
      "state": {
       "width": "180px"
      }
     },
     "14959827644f4223bea53898b08b221d": {
      "model_module": "@jupyter-widgets/base",
      "model_module_version": "2.0.0",
      "model_name": "LayoutModel",
      "state": {}
     },
     "1576f85982b44013bc73cf47824b4753": {
      "model_module": "@jupyter-widgets/controls",
      "model_module_version": "2.0.0",
      "model_name": "DescriptionStyleModel",
      "state": {
       "description_width": "117px"
      }
     },
     "1a23de83650d41ecaf28a284a3e6ba2e": {
      "model_module": "@jupyter-widgets/controls",
      "model_module_version": "2.0.0",
      "model_name": "ButtonStyleModel",
      "state": {
       "font_family": null,
       "font_size": null,
       "font_style": null,
       "font_variant": null,
       "font_weight": null,
       "text_color": null,
       "text_decoration": null
      }
     },
     "1c2084a1324245c5bfb44525008ab7d3": {
      "model_module": "@jupyter-widgets/controls",
      "model_module_version": "2.0.0",
      "model_name": "DescriptionStyleModel",
      "state": {
       "description_width": "117px"
      }
     },
     "1c7eeaf0cbf649c094befb5fa19c1497": {
      "model_module": "@jupyter-widgets/controls",
      "model_module_version": "2.0.0",
      "model_name": "ButtonModel",
      "state": {
       "button_style": "warning",
       "description": "🔄 Reset Trade Simulation",
       "layout": "IPY_MODEL_9d0c1289fd2c46829ecf93359b473dd3",
       "style": "IPY_MODEL_6e6ee8d311e14be9917e56b589b14b87",
       "tooltip": "Hapus hasil simulasi"
      }
     },
     "207a01c9f61c4b1bba9f52f638e286c3": {
      "model_module": "@jupyter-widgets/controls",
      "model_module_version": "2.0.0",
      "model_name": "LabelModel",
      "state": {
       "layout": "IPY_MODEL_c6758d79cfaf48e398773df21c86b4ba",
       "style": "IPY_MODEL_8fa3ab1e32244cb292997506a4836170"
      }
     },
     "2148d593ee774267994af3a5445f62d7": {
      "model_module": "@jupyter-widgets/controls",
      "model_module_version": "2.0.0",
      "model_name": "VBoxModel",
      "state": {
       "children": [
        "IPY_MODEL_06cbd99293184a2faa81869c25586677",
        "IPY_MODEL_874168f7647f4a9b96807f8c9a10c34f",
        "IPY_MODEL_69ea8c6540b147108a7cf29cbcac3f41",
        "IPY_MODEL_9bbf497ba7604a6fba83bdf8f0954992"
       ],
       "layout": "IPY_MODEL_b82cf83aab7246cb9d551bcec256c014"
      }
     },
     "21a79c4ecd4b450b8090c968407b15f3": {
      "model_module": "@jupyter-widgets/controls",
      "model_module_version": "2.0.0",
      "model_name": "DescriptionStyleModel",
      "state": {
       "description_width": "117px"
      }
     },
     "270880d19f154412a599f6ba57158592": {
      "model_module": "@jupyter-widgets/base",
      "model_module_version": "2.0.0",
      "model_name": "LayoutModel",
      "state": {}
     },
     "2aaa8fb1f5b540478dff5e4e89be6aa0": {
      "model_module": "@jupyter-widgets/controls",
      "model_module_version": "2.0.0",
      "model_name": "FloatTextModel",
      "state": {
       "description": "Initial Price",
       "layout": "IPY_MODEL_0b4eda46c4d340338f4ea14a415e727a",
       "step": null,
       "style": "IPY_MODEL_2f78f4e844004028968f108faf69186b",
       "value": 100
      }
     },
     "2aad90467d8a489998764bd162159fbc": {
      "model_module": "@jupyter-widgets/controls",
      "model_module_version": "2.0.0",
      "model_name": "HTMLModel",
      "state": {
       "layout": "IPY_MODEL_9986a4f24c5d43eaa123dfe91a6e9203",
       "style": "IPY_MODEL_f4cf2bfdfd624d79a922cf96c5d82a06",
       "value": "\n    <a href=\"https://editor.swagger.io/?_gl=1*1ua8uzl*_gcl_au*NDAxMzAyMjg5LjE3NTc1OTU0NTk.\" target=\"_blank\" style=\"text-decoration:none;\">\n        <button class=\"widget-button\" style=\"width:170px;margin:5px;background-color:lightblue;border:none;padding:3px 12px;border-radius:6px;cursor:pointer;font-size:12px;\"><i class=\"fa fa-book\"></i> QuantGenius API Doc</button>\n    </a>\n    "
      }
     },
     "2bd69999f51d44098871a17451b40ba7": {
      "model_module": "@jupyter-widgets/controls",
      "model_module_version": "2.0.0",
      "model_name": "DescriptionStyleModel",
      "state": {
       "description_width": "117px"
      }
     },
     "2e6448b2c96048f1a09f09752ab6349f": {
      "model_module": "@jupyter-widgets/base",
      "model_module_version": "2.0.0",
      "model_name": "LayoutModel",
      "state": {
       "width": "95%"
      }
     },
     "2f78f4e844004028968f108faf69186b": {
      "model_module": "@jupyter-widgets/controls",
      "model_module_version": "2.0.0",
      "model_name": "DescriptionStyleModel",
      "state": {
       "description_width": "117px"
      }
     },
     "3150156e5048477ea4df40e317c2bb85": {
      "model_module": "@jupyter-widgets/base",
      "model_module_version": "2.0.0",
      "model_name": "LayoutModel",
      "state": {
       "width": "122px"
      }
     },
     "32bb726835b648eaaba30fda03d34ac9": {
      "model_module": "@jupyter-widgets/controls",
      "model_module_version": "2.0.0",
      "model_name": "DescriptionStyleModel",
      "state": {
       "description_width": "117px"
      }
     },
     "32ff708889a34026b931b32d6d8a2503": {
      "model_module": "@jupyter-widgets/base",
      "model_module_version": "2.0.0",
      "model_name": "LayoutModel",
      "state": {}
     },
     "3394dca05d134178a868436b2cce080d": {
      "model_module": "@jupyter-widgets/base",
      "model_module_version": "2.0.0",
      "model_name": "LayoutModel",
      "state": {
       "align_items": "center",
       "border_bottom": "2px solid #667eea",
       "border_left": "2px solid #667eea",
       "border_right": "2px solid #667eea",
       "border_top": "2px solid #667eea",
       "margin": "auto",
       "padding": "20px",
       "width": "90%"
      }
     },
     "33a683be710a4dafb3002e9a2c0046e4": {
      "buffers": [
       {
        "data": "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",
        "encoding": "base64",
        "path": [
         "value"
        ]
       }
      ],
      "model_module": "@jupyter-widgets/controls",
      "model_module_version": "2.0.0",
      "model_name": "ImageModel",
      "state": {
       "format": "jpg",
       "layout": "IPY_MODEL_f742dc1aca6245a3b646f0b5afb4acd6",
       "width": "745"
      }
     },
     "33b3b4f00ce94a928874806598519865": {
      "model_module": "@jupyter-widgets/controls",
      "model_module_version": "2.0.0",
      "model_name": "HBoxModel",
      "state": {
       "children": [
        "IPY_MODEL_7e1c6070c8bb40439eea65f5702e67db",
        "IPY_MODEL_e633374eaa6a4f4b9b13cb9fb9d84bf2"
       ],
       "layout": "IPY_MODEL_0f6ff0367a384e328cc55ed5a1b7e82f"
      }
     },
     "367e5093462848c9af55daa71853564d": {
      "model_module": "@jupyter-widgets/base",
      "model_module_version": "2.0.0",
      "model_name": "LayoutModel",
      "state": {}
     },
     "36da014bcc244763862c68b8445b6fd4": {
      "model_module": "@jupyter-widgets/controls",
      "model_module_version": "2.0.0",
      "model_name": "HTMLModel",
      "state": {
       "layout": "IPY_MODEL_d77c582339eb49669b9e02e3fae7510e",
       "style": "IPY_MODEL_08c584c220b94c9199b40b643aab6ecc",
       "value": "\n    <a href=\"https://www.quantgenius.ai\" target=\"_blank\" style=\"text-decoration:none;\">\n        <button class=\"widget-button\" style=\"width:170px;margin:5px;background-color:lightblue;border:none;padding:3px 12px;border-radius:6px;cursor:pointer;font-size:12px;\"><i class=\"fa fa-book\"></i> About QuantGenius</button>\n    </a>\n    "
      }
     },
     "383cfad0bd964151bbedb023fbaa2ee1": {
      "model_module": "@jupyter-widgets/controls",
      "model_module_version": "2.0.0",
      "model_name": "VBoxModel",
      "state": {
       "children": [
        "IPY_MODEL_6adfb1b3b4a547daabccc17c3d36bb4b",
        "IPY_MODEL_ad7f894ad85445cbb166f83614eee375",
        "IPY_MODEL_c49838c751464056aa4b0b0609f87be9",
        "IPY_MODEL_88f963284791438e8d69f15eba31ac6c",
        "IPY_MODEL_54be01bbc95e42d39355d8d6d2d06914",
        "IPY_MODEL_e2f615b9c3a64fd382a42ea131828c28",
        "IPY_MODEL_fe0669f92e7c49cfa8595b2b7a9d26e9"
       ],
       "layout": "IPY_MODEL_3394dca05d134178a868436b2cce080d"
      }
     },
     "39168f2deb98412ca2846aed41c4f392": {
      "model_module": "@jupyter-widgets/base",
      "model_module_version": "2.0.0",
      "model_name": "LayoutModel",
      "state": {}
     },
     "3ce8b8a42e7a44b8a71d27df73c22d7a": {
      "model_module": "@jupyter-widgets/base",
      "model_module_version": "2.0.0",
      "model_name": "LayoutModel",
      "state": {}
     },
     "401d799c30ea40ab9684ca009a9096f7": {
      "model_module": "@jupyter-widgets/controls",
      "model_module_version": "2.0.0",
      "model_name": "HBoxModel",
      "state": {
       "children": [
        "IPY_MODEL_f969aeea60534c9b8d85152b2db7c7cb",
        "IPY_MODEL_a8902f18cad4458c99e4a0d899cd720c"
       ],
       "layout": "IPY_MODEL_6e88dba5990c4ad5b82b27233d9ff5d3"
      }
     },
     "44db2bb695e047c6abc2944f640f375a": {
      "model_module": "@jupyter-widgets/controls",
      "model_module_version": "2.0.0",
      "model_name": "SelectMultipleModel",
      "state": {
       "_options_labels": [
        "000040.KS",
        "0001.HK",
        "000120.KS",
        "000270.KS",
        "0003.HK",
        "0004.HK",
        "0005.HK",
        "000545.KS",
        "0006.HK",
        "000660.KS",
        "000720.KS",
        "000725.KS",
        "0008.HK",
        "0008.KL",
        "000890.KS",
        "000950.KS",
        "000970.KS",
        "000990.KS",
        "001020.KS",
        "001065.KS",
        "001067.KS",
        "0011.HK",
        "0012.HK",
        "001230.KS",
        "001440.KS",
        "001465.KS",
        "001520.KS",
        "001525.KS",
        "001550.KS",
        "0016.HK",
        "001620.KS",
        "001680.KS",
        "0017.HK",
        "001740.KS",
        "001790.KS",
        "001800.KS",
        "001880.KS",
        "0019.HK",
        "0021.HK",
        "0023.HK",
        "002350.KS",
        "002460.KS",
        "0027.HK",
        "002790.KS",
        "0028.HK",
        "003075.KS",
        "0033.HK",
        "003470.KS",
        "0035.HK",
        "003545.KS",
        "003550.KS"
       ],
       "description": "Select Stocks",
       "index": [],
       "layout": "IPY_MODEL_aa73cc023f8b427bb8707f56df3f0032",
       "rows": 6,
       "style": "IPY_MODEL_1c2084a1324245c5bfb44525008ab7d3"
      }
     },
     "485422f53fb649b0a130ce541f83210c": {
      "model_module": "@jupyter-widgets/controls",
      "model_module_version": "2.0.0",
      "model_name": "LabelStyleModel",
      "state": {
       "description_width": "",
       "font_family": null,
       "font_size": null,
       "font_style": null,
       "font_variant": null,
       "font_weight": null,
       "text_color": null,
       "text_decoration": null
      }
     },
     "48f8fee2cfd244848fbb4f6871b7846b": {
      "model_module": "@jupyter-widgets/controls",
      "model_module_version": "2.0.0",
      "model_name": "LabelModel",
      "state": {
       "layout": "IPY_MODEL_367e5093462848c9af55daa71853564d",
       "style": "IPY_MODEL_850c3ee567e443adbef06232affa3ecf",
       "value": "0 stock data uploaded"
      }
     },
     "4bb0204183454a20984a95af2f760755": {
      "model_module": "@jupyter-widgets/controls",
      "model_module_version": "2.0.0",
      "model_name": "ButtonStyleModel",
      "state": {
       "font_family": null,
       "font_size": "15px",
       "font_style": null,
       "font_variant": null,
       "font_weight": "bold",
       "text_color": null,
       "text_decoration": null
      }
     },
     "4c43cb7a48ab4781bee8865bc14e8da5": {
      "model_module": "@jupyter-widgets/base",
      "model_module_version": "2.0.0",
      "model_name": "LayoutModel",
      "state": {
       "width": "210px"
      }
     },
     "4df38f60c1054428ac0ec093b4868446": {
      "model_module": "@jupyter-widgets/controls",
      "model_module_version": "2.0.0",
      "model_name": "HTMLModel",
      "state": {
       "layout": "IPY_MODEL_f9218124917647b8b78233974ab0dcde",
       "style": "IPY_MODEL_c5ded6d6172447a68025be95953fed10",
       "value": "<p style='text-align: center;line-height: 1.35;margin-top: 2px; font-size: 11.5px'>I am commitment for realistic trading simulation also open source and transparant testing to prove that QuantGenius actually works. Feel free to modify the code to suit your specific testing methodology. You also can test using jupyter notebook or google colab and kaggle or you can create your own testing system by using our api docs. I am commitment for realistic trading simulation also open source and transparant testing to prove that QuantGenius actually works. Feel free to modify the code to suit your specific testing methodology. You also can test using jupyter notebook or google colab and kaggle or you can create your own testing system by using our api docs. Check details in our Github.</p>"
      }
     },
     "4e09e16d90bd4b04b5478402419702a7": {
      "model_module": "@jupyter-widgets/controls",
      "model_module_version": "2.0.0",
      "model_name": "DropdownModel",
      "state": {
       "_options_labels": [
        "1",
        "2",
        "3",
        "4",
        "5",
        "6",
        "7",
        "8",
        "9",
        "10",
        "11",
        "12",
        "13",
        "14",
        "15",
        "16",
        "17",
        "18",
        "19",
        "20",
        "21",
        "22",
        "23",
        "24",
        "25",
        "26",
        "27",
        "28",
        "29",
        "30",
        "31",
        "32",
        "33",
        "34",
        "35",
        "36",
        "37",
        "38",
        "39",
        "40",
        "41",
        "42",
        "43",
        "44",
        "45",
        "46",
        "47",
        "48",
        "49",
        "50",
        "51",
        "52",
        "53",
        "54",
        "55",
        "56",
        "57",
        "58",
        "59",
        "60",
        "61",
        "62",
        "63",
        "64",
        "65",
        "66",
        "67",
        "68",
        "69",
        "70",
        "71",
        "72",
        "73",
        "74",
        "75",
        "76",
        "77",
        "78",
        "79",
        "80",
        "81",
        "82",
        "83",
        "84",
        "85",
        "86",
        "87",
        "88",
        "89",
        "90",
        "91",
        "92",
        "93",
        "94",
        "95",
        "96",
        "97",
        "98",
        "99",
        "100"
       ],
       "description": "Total portfolio to test",
       "index": 0,
       "layout": "IPY_MODEL_5c4135c7098e4ac697aeac77ed8841d9",
       "style": "IPY_MODEL_21a79c4ecd4b450b8090c968407b15f3"
      }
     },
     "4e9100f9da344f4ea02644d997fe5b75": {
      "model_module": "@jupyter-widgets/base",
      "model_module_version": "2.0.0",
      "model_name": "LayoutModel",
      "state": {
       "width": "95%"
      }
     },
     "501fba6eac5a4ac9831ee4b8b9cca78e": {
      "model_module": "@jupyter-widgets/controls",
      "model_module_version": "2.0.0",
      "model_name": "PasswordModel",
      "state": {
       "description": "QuantGenius API Key:",
       "layout": "IPY_MODEL_aa73cc023f8b427bb8707f56df3f0032",
       "placeholder": "Input QuantGenius API Key",
       "style": "IPY_MODEL_8d0152c1982441bfbaf0289000910d55"
      }
     },
     "523bd631fa8648e3ad66c2297a364565": {
      "model_module": "@jupyter-widgets/controls",
      "model_module_version": "2.0.0",
      "model_name": "VBoxModel",
      "state": {
       "children": [
        "IPY_MODEL_07948009fede4ef899023acc1eb9a65d",
        "IPY_MODEL_0d60d2b25b6f4f678b691465e751d82e",
        "IPY_MODEL_ee43cfb24c2b4fb0ac4ed4398de4aaaf",
        "IPY_MODEL_a5db06eea94f44d899946f42b92db4db"
       ],
       "layout": "IPY_MODEL_698e9963089a4e5e9d9fb7c52289be53"
      }
     },
     "52e64def380a40b3a8cd6d6b29f6911e": {
      "model_module": "@jupyter-widgets/base",
      "model_module_version": "2.0.0",
      "model_name": "LayoutModel",
      "state": {
       "justify_content": "center"
      }
     },
     "54be01bbc95e42d39355d8d6d2d06914": {
      "model_module": "@jupyter-widgets/output",
      "model_module_version": "1.0.0",
      "model_name": "OutputModel",
      "state": {
       "layout": "IPY_MODEL_77e0562a9f94460fb40a0aedd13bebd3"
      }
     },
     "557f7668bd774a8cbf99d0a3a58da678": {
      "model_module": "@jupyter-widgets/base",
      "model_module_version": "2.0.0",
      "model_name": "LayoutModel",
      "state": {
       "width": "350px"
      }
     },
     "59e111229e8141e6ac72939ad63834e2": {
      "model_module": "@jupyter-widgets/controls",
      "model_module_version": "2.0.0",
      "model_name": "SliderStyleModel",
      "state": {
       "description_width": "117px"
      }
     },
     "5b39351bd54c472fb9564d08478cee0d": {
      "model_module": "@jupyter-widgets/controls",
      "model_module_version": "2.0.0",
      "model_name": "FloatTextModel",
      "state": {
       "description": "Interest Rate/year",
       "layout": "IPY_MODEL_aa73cc023f8b427bb8707f56df3f0032",
       "step": null,
       "style": "IPY_MODEL_be87c4d07bf44f518a14f50dbb186230",
       "value": 0.03
      }
     },
     "5b796d380a144c37a3375023712f5ad4": {
      "buffers": [
       {
        "data": "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",
        "encoding": "base64",
        "path": [
         "value"
        ]
       }
      ],
      "model_module": "@jupyter-widgets/controls",
      "model_module_version": "2.0.0",
      "model_name": "ImageModel",
      "state": {
       "format": "jpg",
       "layout": "IPY_MODEL_d3d5e5c2ec80445486de499eeaba650c",
       "width": "745"
      }
     },
     "5c14a36c27ad48318a924695c602febd": {
      "model_module": "@jupyter-widgets/controls",
      "model_module_version": "2.0.0",
      "model_name": "HTMLModel",
      "state": {
       "layout": "IPY_MODEL_270880d19f154412a599f6ba57158592",
       "style": "IPY_MODEL_aa37b73497ff4c7b8da6c9fc9c76b547",
       "value": "\n    <a href=\"https://colab.research.google.com\" target=\"_blank\" style=\"text-decoration:none;\">\n        <button class=\"widget-button\" style=\"width:170px;margin:5px;background-color:lightblue;border:none;padding:3px 12px;border-radius:6px;cursor:pointer;font-size:12px;\"><i class=\"fa fa-book\"></i> Open in Google Colab</button>\n    </a>\n    "
      }
     },
     "5c4135c7098e4ac697aeac77ed8841d9": {
      "model_module": "@jupyter-widgets/base",
      "model_module_version": "2.0.0",
      "model_name": "LayoutModel",
      "state": {
       "width": "180px"
      }
     },
     "5e4a5b2e5b35414ead0f395b197c4da1": {
      "model_module": "@jupyter-widgets/controls",
      "model_module_version": "2.0.0",
      "model_name": "ButtonModel",
      "state": {
       "button_style": "primary",
       "description": "Generate Dataset",
       "layout": "IPY_MODEL_976c527dd10f478ab5f0a5955a927c99",
       "style": "IPY_MODEL_d2af30fe845f4d37995bfdf2fb8918eb",
       "tooltip": null
      }
     },
     "5f9d5695627746fa9939233525d556e9": {
      "model_module": "@jupyter-widgets/controls",
      "model_module_version": "2.0.0",
      "model_name": "HBoxModel",
      "state": {
       "children": [
        "IPY_MODEL_cfa7f5479e5b4f53b6af58608f97ad39",
        "IPY_MODEL_c7a46ef1e13e413182f9111d25cea728"
       ],
       "layout": "IPY_MODEL_dbbbd68b806a4674a6160a4591f8bfef"
      }
     },
     "5febe2f3eb3044918cdf349d54f57ea1": {
      "model_module": "@jupyter-widgets/controls",
      "model_module_version": "2.0.0",
      "model_name": "LabelStyleModel",
      "state": {
       "description_width": "",
       "font_family": null,
       "font_size": null,
       "font_style": null,
       "font_variant": null,
       "font_weight": null,
       "text_color": null,
       "text_decoration": null
      }
     },
     "60fb4574128342afa61cb4b38a324b20": {
      "model_module": "@jupyter-widgets/base",
      "model_module_version": "2.0.0",
      "model_name": "LayoutModel",
      "state": {
       "width": "122px"
      }
     },
     "620dc7bbeb5f43bc913de81c03e1440f": {
      "model_module": "@jupyter-widgets/controls",
      "model_module_version": "2.0.0",
      "model_name": "ButtonModel",
      "state": {
       "button_style": "danger",
       "description": "Reset Dataset",
       "layout": "IPY_MODEL_7d74fc71e0104665969a4e065d338c4f",
       "style": "IPY_MODEL_edf2c164f4904cfa9696df32c6bf5fda",
       "tooltip": null
      }
     },
     "62ea5aedc503424aa4d5c61e9dc98f45": {
      "model_module": "@jupyter-widgets/controls",
      "model_module_version": "2.0.0",
      "model_name": "VBoxModel",
      "state": {
       "children": [
        "IPY_MODEL_92bb3486861c44c8ac5ae446757cb94b",
        "IPY_MODEL_2aaa8fb1f5b540478dff5e4e89be6aa0",
        "IPY_MODEL_da4260366cd64ef1af7156b642b7d83c",
        "IPY_MODEL_c425d993c0364dfe8731b3856e2f987e",
        "IPY_MODEL_ffd2b65c249141199622dfae11df47ac"
       ],
       "layout": "IPY_MODEL_ebf4e36f10a140c0a50e461bebdd1912"
      }
     },
     "67eac4b3a3234e3686f32795785d2986": {
      "model_module": "@jupyter-widgets/base",
      "model_module_version": "2.0.0",
      "model_name": "LayoutModel",
      "state": {
       "width": "320px"
      }
     },
     "698e9963089a4e5e9d9fb7c52289be53": {
      "model_module": "@jupyter-widgets/base",
      "model_module_version": "2.0.0",
      "model_name": "LayoutModel",
      "state": {}
     },
     "69ea8c6540b147108a7cf29cbcac3f41": {
      "model_module": "@jupyter-widgets/controls",
      "model_module_version": "2.0.0",
      "model_name": "DropdownModel",
      "state": {
       "_options_labels": [
        "null",
        "0",
        "1",
        "2",
        "3",
        "4",
        "5",
        "6",
        "7",
        "8",
        "9"
       ],
       "description": "Date Column Index",
       "index": 0,
       "layout": "IPY_MODEL_e3ccb6c9445145fe919d2fc753c15883",
       "style": "IPY_MODEL_f7cac16b410c473d96b680948e1bed6e"
      }
     },
     "6adfb1b3b4a547daabccc17c3d36bb4b": {
      "buffers": [
       {
        "data": "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",
        "encoding": "base64",
        "path": [
         "value"
        ]
       }
      ],
      "model_module": "@jupyter-widgets/controls",
      "model_module_version": "2.0.0",
      "model_name": "ImageModel",
      "state": {
       "height": "125",
       "layout": "IPY_MODEL_9c319ddbe24a4d9e9339765580a7dcae",
       "width": "125"
      }
     },
     "6e6ee8d311e14be9917e56b589b14b87": {
      "model_module": "@jupyter-widgets/controls",
      "model_module_version": "2.0.0",
      "model_name": "ButtonStyleModel",
      "state": {
       "font_family": null,
       "font_size": "15px",
       "font_style": null,
       "font_variant": null,
       "font_weight": "bold",
       "text_color": null,
       "text_decoration": null
      }
     },
     "6e88dba5990c4ad5b82b27233d9ff5d3": {
      "model_module": "@jupyter-widgets/base",
      "model_module_version": "2.0.0",
      "model_name": "LayoutModel",
      "state": {}
     },
     "71146119cec14ab4b4e5cc971d48557b": {
      "model_module": "@jupyter-widgets/base",
      "model_module_version": "2.0.0",
      "model_name": "LayoutModel",
      "state": {}
     },
     "736ac05c9dfd48fcaf25b95bcc6d3ee8": {
      "model_module": "@jupyter-widgets/controls",
      "model_module_version": "2.0.0",
      "model_name": "VBoxModel",
      "state": {
       "children": [
        "IPY_MODEL_1c7eeaf0cbf649c094befb5fa19c1497"
       ],
       "layout": "IPY_MODEL_973892e6f6c94dfa907f97f7ad6526cd"
      }
     },
     "764e5ecca0d044849e431aacae5f5393": {
      "model_module": "@jupyter-widgets/controls",
      "model_module_version": "2.0.0",
      "model_name": "LabelModel",
      "state": {
       "layout": "IPY_MODEL_f2632802702d473fadcfd33a5a90880b",
       "style": "IPY_MODEL_77de09c152134f1296bd3f80ed18e6b8",
       "value": "You need 30+ stock data"
      }
     },
     "77de09c152134f1296bd3f80ed18e6b8": {
      "model_module": "@jupyter-widgets/controls",
      "model_module_version": "2.0.0",
      "model_name": "LabelStyleModel",
      "state": {
       "description_width": "",
       "font_family": null,
       "font_size": null,
       "font_style": null,
       "font_variant": null,
       "font_weight": null,
       "text_color": null,
       "text_decoration": null
      }
     },
     "77e0562a9f94460fb40a0aedd13bebd3": {
      "model_module": "@jupyter-widgets/base",
      "model_module_version": "2.0.0",
      "model_name": "LayoutModel",
      "state": {
       "width": "95%"
      }
     },
     "7d74fc71e0104665969a4e065d338c4f": {
      "model_module": "@jupyter-widgets/base",
      "model_module_version": "2.0.0",
      "model_name": "LayoutModel",
      "state": {
       "width": "166px"
      }
     },
     "7db8ee2615e044c99ad2868d6d57ae9f": {
      "model_module": "@jupyter-widgets/controls",
      "model_module_version": "2.0.0",
      "model_name": "FloatTextModel",
      "state": {
       "description": "Margin Maintenance",
       "layout": "IPY_MODEL_aa73cc023f8b427bb8707f56df3f0032",
       "step": null,
       "style": "IPY_MODEL_32bb726835b648eaaba30fda03d34ac9",
       "value": 0.25
      }
     },
     "7e1c6070c8bb40439eea65f5702e67db": {
      "model_module": "@jupyter-widgets/controls",
      "model_module_version": "2.0.0",
      "model_name": "VBoxModel",
      "state": {
       "children": [
        "IPY_MODEL_c724d848a46d4c34b5cd0df1e0c73c1d",
        "IPY_MODEL_9a48280004884046af570bb04be805bb",
        "IPY_MODEL_ea12ca0c74d746a786c427594e5ebb1f",
        "IPY_MODEL_9000dc4abc364e6abb97b92048360c4a"
       ],
       "layout": "IPY_MODEL_557f7668bd774a8cbf99d0a3a58da678"
      }
     },
     "7ec7db0e802944d28a3287d01b9393d3": {
      "model_module": "@jupyter-widgets/base",
      "model_module_version": "2.0.0",
      "model_name": "LayoutModel",
      "state": {}
     },
     "850c3ee567e443adbef06232affa3ecf": {
      "model_module": "@jupyter-widgets/controls",
      "model_module_version": "2.0.0",
      "model_name": "LabelStyleModel",
      "state": {
       "description_width": "",
       "font_family": null,
       "font_size": null,
       "font_style": null,
       "font_variant": null,
       "font_weight": null,
       "text_color": null,
       "text_decoration": null
      }
     },
     "860ca5d8277d468aa0d5144ea09b0e46": {
      "model_module": "@jupyter-widgets/controls",
      "model_module_version": "2.0.0",
      "model_name": "FloatTextModel",
      "state": {
       "description": "Initial Equity",
       "layout": "IPY_MODEL_aa73cc023f8b427bb8707f56df3f0032",
       "step": null,
       "style": "IPY_MODEL_9b6833d643854b5daf7dfd03b18f798a",
       "value": 1000000
      }
     },
     "86f427e6ba8b4762ae38332dcb331f7a": {
      "model_module": "@jupyter-widgets/controls",
      "model_module_version": "2.0.0",
      "model_name": "SliderStyleModel",
      "state": {
       "description_width": "117px"
      }
     },
     "8728a9709d8f453781d02a0f9059a82c": {
      "model_module": "@jupyter-widgets/controls",
      "model_module_version": "2.0.0",
      "model_name": "FloatTextModel",
      "state": {
       "description": "Margin Requirement",
       "layout": "IPY_MODEL_aa73cc023f8b427bb8707f56df3f0032",
       "step": null,
       "style": "IPY_MODEL_f8219892d8c54e52a74c3f4f4a54432a",
       "value": 0.5
      }
     },
     "874168f7647f4a9b96807f8c9a10c34f": {
      "model_module": "@jupyter-widgets/controls",
      "model_module_version": "2.0.0",
      "model_name": "HBoxModel",
      "state": {
       "children": [
        "IPY_MODEL_acbc345ae5804c1d9bd61715b195c8ff",
        "IPY_MODEL_48f8fee2cfd244848fbb4f6871b7846b"
       ],
       "layout": "IPY_MODEL_952ba15e4f164da49b014c203d18a9d7"
      }
     },
     "87ca56c59e024b5c84f1f736e54427c5": {
      "model_module": "@jupyter-widgets/base",
      "model_module_version": "2.0.0",
      "model_name": "LayoutModel",
      "state": {}
     },
     "8800d602d5d747a2841f61f80f38bf5b": {
      "model_module": "@jupyter-widgets/base",
      "model_module_version": "2.0.0",
      "model_name": "LayoutModel",
      "state": {
       "width": "320px"
      }
     },
     "88f963284791438e8d69f15eba31ac6c": {
      "model_module": "@jupyter-widgets/controls",
      "model_module_version": "2.0.0",
      "model_name": "ButtonModel",
      "state": {
       "button_style": "success",
       "description": "▶️ Start Trade Simulation With Real-Time QuantGenius Trade Signals",
       "layout": "IPY_MODEL_2e6448b2c96048f1a09f09752ab6349f",
       "style": "IPY_MODEL_4bb0204183454a20984a95af2f760755",
       "tooltip": "Click to run the simulation"
      }
     },
     "8c88ae21704546e2a71a3e4c7cdf036a": {
      "model_module": "@jupyter-widgets/controls",
      "model_module_version": "2.0.0",
      "model_name": "DescriptionStyleModel",
      "state": {
       "description_width": "117px"
      }
     },
     "8d0152c1982441bfbaf0289000910d55": {
      "model_module": "@jupyter-widgets/controls",
      "model_module_version": "2.0.0",
      "model_name": "TextStyleModel",
      "state": {
       "description_width": "117px",
       "font_size": null,
       "text_color": null
      }
     },
     "8d180045a34346eb9e629ab21d0c8542": {
      "model_module": "@jupyter-widgets/base",
      "model_module_version": "2.0.0",
      "model_name": "LayoutModel",
      "state": {}
     },
     "8fa3ab1e32244cb292997506a4836170": {
      "model_module": "@jupyter-widgets/controls",
      "model_module_version": "2.0.0",
      "model_name": "LabelStyleModel",
      "state": {
       "description_width": "",
       "font_family": null,
       "font_size": null,
       "font_style": null,
       "font_variant": null,
       "font_weight": null,
       "text_color": null,
       "text_decoration": null
      }
     },
     "9000dc4abc364e6abb97b92048360c4a": {
      "model_module": "@jupyter-widgets/controls",
      "model_module_version": "2.0.0",
      "model_name": "HBoxModel",
      "state": {
       "children": [
        "IPY_MODEL_5e4a5b2e5b35414ead0f395b197c4da1",
        "IPY_MODEL_620dc7bbeb5f43bc913de81c03e1440f"
       ],
       "layout": "IPY_MODEL_f1fc44ac5241400b81caaa82b5c5006b"
      }
     },
     "90487fef1cc74207b73a1f80e54d2176": {
      "model_module": "@jupyter-widgets/controls",
      "model_module_version": "2.0.0",
      "model_name": "VBoxModel",
      "state": {
       "children": [
        "IPY_MODEL_33b3b4f00ce94a928874806598519865",
        "IPY_MODEL_06a49defe8864703a1177505e9483245"
       ],
       "layout": "IPY_MODEL_b3e06bd1e8614fa2a1ffd98a93246dee"
      }
     },
     "9233a09fbc684d1daaea2fac768ecb7b": {
      "model_module": "@jupyter-widgets/controls",
      "model_module_version": "2.0.0",
      "model_name": "ButtonStyleModel",
      "state": {
       "font_family": null,
       "font_size": null,
       "font_style": null,
       "font_variant": null,
       "font_weight": null,
       "text_color": null,
       "text_decoration": null
      }
     },
     "92bb3486861c44c8ac5ae446757cb94b": {
      "model_module": "@jupyter-widgets/controls",
      "model_module_version": "2.0.0",
      "model_name": "DropdownModel",
      "state": {
       "_options_labels": [
        "Geometric Brownian Motion",
        "Mean Reversion",
        "Jump Diffusion",
        "Stochastic Volatility"
       ],
       "description": "Simulation Method",
       "index": 0,
       "layout": "IPY_MODEL_948bb0d515734caca80303f4672d861a",
       "style": "IPY_MODEL_f684bff553e449c1909be9df5668685b"
      }
     },
     "948bb0d515734caca80303f4672d861a": {
      "model_module": "@jupyter-widgets/base",
      "model_module_version": "2.0.0",
      "model_name": "LayoutModel",
      "state": {
       "width": "335px"
      }
     },
     "94a1a9ea87414d78960ce0c24163983d": {
      "model_module": "@jupyter-widgets/output",
      "model_module_version": "1.0.0",
      "model_name": "OutputModel",
      "state": {
       "layout": "IPY_MODEL_bca8710f4e9541be9675f26d6790f087"
      }
     },
     "952ba15e4f164da49b014c203d18a9d7": {
      "model_module": "@jupyter-widgets/base",
      "model_module_version": "2.0.0",
      "model_name": "LayoutModel",
      "state": {}
     },
     "954f538709c841cc814abe0ebd1b0bc5": {
      "model_module": "@jupyter-widgets/base",
      "model_module_version": "2.0.0",
      "model_name": "LayoutModel",
      "state": {
       "width": "95%"
      }
     },
     "973892e6f6c94dfa907f97f7ad6526cd": {
      "model_module": "@jupyter-widgets/base",
      "model_module_version": "2.0.0",
      "model_name": "LayoutModel",
      "state": {
       "align_items": "center",
       "overflow": "hidden"
      }
     },
     "976c527dd10f478ab5f0a5955a927c99": {
      "model_module": "@jupyter-widgets/base",
      "model_module_version": "2.0.0",
      "model_name": "LayoutModel",
      "state": {
       "width": "166px"
      }
     },
     "9986a4f24c5d43eaa123dfe91a6e9203": {
      "model_module": "@jupyter-widgets/base",
      "model_module_version": "2.0.0",
      "model_name": "LayoutModel",
      "state": {}
     },
     "9a48280004884046af570bb04be805bb": {
      "model_module": "@jupyter-widgets/controls",
      "model_module_version": "2.0.0",
      "model_name": "DropdownModel",
      "state": {
       "_options_labels": [
        "Yahoo Finance",
        "Local Data",
        "Monte Carlo Simulation"
       ],
       "description": "Select Data Source",
       "index": 0,
       "layout": "IPY_MODEL_aa73cc023f8b427bb8707f56df3f0032",
       "style": "IPY_MODEL_d461919417be4a989b5e8d264ab4b0ad"
      }
     },
     "9b6833d643854b5daf7dfd03b18f798a": {
      "model_module": "@jupyter-widgets/controls",
      "model_module_version": "2.0.0",
      "model_name": "DescriptionStyleModel",
      "state": {
       "description_width": "117px"
      }
     },
     "9bbf497ba7604a6fba83bdf8f0954992": {
      "model_module": "@jupyter-widgets/controls",
      "model_module_version": "2.0.0",
      "model_name": "DropdownModel",
      "state": {
       "_options_labels": [
        "null",
        "0",
        "1",
        "2",
        "3",
        "4",
        "5",
        "6",
        "7",
        "8",
        "9"
       ],
       "description": "Price Column Index",
       "index": 0,
       "layout": "IPY_MODEL_10fb8eaf202544e0aaa77733f92f66b6",
       "style": "IPY_MODEL_1576f85982b44013bc73cf47824b4753"
      }
     },
     "9c319ddbe24a4d9e9339765580a7dcae": {
      "model_module": "@jupyter-widgets/base",
      "model_module_version": "2.0.0",
      "model_name": "LayoutModel",
      "state": {}
     },
     "9c35640437974be7ba384b1c9640b6a9": {
      "model_module": "@jupyter-widgets/base",
      "model_module_version": "2.0.0",
      "model_name": "LayoutModel",
      "state": {}
     },
     "9d0c1289fd2c46829ecf93359b473dd3": {
      "model_module": "@jupyter-widgets/base",
      "model_module_version": "2.0.0",
      "model_name": "LayoutModel",
      "state": {
       "width": "100%"
      }
     },
     "9fc52ed089174d2bb603bd27504d949e": {
      "model_module": "@jupyter-widgets/controls",
      "model_module_version": "2.0.0",
      "model_name": "ButtonModel",
      "state": {
       "button_style": "info",
       "description": "Plot Monte Carlo",
       "icon": "bar-chart",
       "layout": "IPY_MODEL_d0e79ae584e84fe58fd465e9387abc76",
       "style": "IPY_MODEL_9233a09fbc684d1daaea2fac768ecb7b",
       "tooltip": null
      }
     },
     "a4c928b238f34154945d855fbfb13efa": {
      "model_module": "@jupyter-widgets/base",
      "model_module_version": "2.0.0",
      "model_name": "LayoutModel",
      "state": {}
     },
     "a592b1f0e2554b9bbe9e484ad3c9895f": {
      "model_module": "@jupyter-widgets/controls",
      "model_module_version": "2.0.0",
      "model_name": "FloatTextModel",
      "state": {
       "description": "Commission/trade",
       "layout": "IPY_MODEL_aa73cc023f8b427bb8707f56df3f0032",
       "step": null,
       "style": "IPY_MODEL_8c88ae21704546e2a71a3e4c7cdf036a",
       "value": 0.001
      }
     },
     "a5db06eea94f44d899946f42b92db4db": {
      "model_module": "@jupyter-widgets/controls",
      "model_module_version": "2.0.0",
      "model_name": "DropdownModel",
      "state": {
       "_options_labels": [
        "Close",
        "Adj Close"
       ],
       "description": "Select price type",
       "index": 0,
       "layout": "IPY_MODEL_aa73cc023f8b427bb8707f56df3f0032",
       "style": "IPY_MODEL_0a4b8f0065004540a78c98068191c2d2"
      }
     },
     "a8902f18cad4458c99e4a0d899cd720c": {
      "model_module": "@jupyter-widgets/controls",
      "model_module_version": "2.0.0",
      "model_name": "LabelModel",
      "state": {
       "layout": "IPY_MODEL_dc5c63850a0a47f6b0ef58301521771e",
       "style": "IPY_MODEL_485422f53fb649b0a130ce541f83210c",
       "value": "0 stocks selected"
      }
     },
     "aa37b73497ff4c7b8da6c9fc9c76b547": {
      "model_module": "@jupyter-widgets/controls",
      "model_module_version": "2.0.0",
      "model_name": "HTMLStyleModel",
      "state": {
       "description_width": "",
       "font_size": null,
       "text_color": null
      }
     },
     "aa73cc023f8b427bb8707f56df3f0032": {
      "model_module": "@jupyter-widgets/base",
      "model_module_version": "2.0.0",
      "model_name": "LayoutModel",
      "state": {
       "width": "335px"
      }
     },
     "abe6c375926644dd9104e6744cd1bef7": {
      "model_module": "@jupyter-widgets/base",
      "model_module_version": "2.0.0",
      "model_name": "LayoutModel",
      "state": {
       "width": "320px"
      }
     },
     "acbc345ae5804c1d9bd61715b195c8ff": {
      "model_module": "@jupyter-widgets/controls",
      "model_module_version": "2.0.0",
      "model_name": "LabelModel",
      "state": {
       "layout": "IPY_MODEL_3150156e5048477ea4df40e317c2bb85",
       "style": "IPY_MODEL_5febe2f3eb3044918cdf349d54f57ea1"
      }
     },
     "acd5964284124a0a8f2ffd539df73a59": {
      "model_module": "@jupyter-widgets/controls",
      "model_module_version": "2.0.0",
      "model_name": "HTMLStyleModel",
      "state": {
       "description_width": "",
       "font_size": null,
       "text_color": null
      }
     },
     "ad7f894ad85445cbb166f83614eee375": {
      "model_module": "@jupyter-widgets/controls",
      "model_module_version": "2.0.0",
      "model_name": "HTMLModel",
      "state": {
       "layout": "IPY_MODEL_71146119cec14ab4b4e5cc971d48557b",
       "style": "IPY_MODEL_c1688e658c3a4ce7bcb1f2e99f773b58",
       "value": "<p style='text-align: center;line-height: 1.5; font-weight: bold; font-size: 15px; margin-bottom: 10px'>Hi..I'am QuantGenius<br>Test Me With Any Stock Data And See How Accurate My Trade Signals Are</p>"
      }
     },
     "b3e06bd1e8614fa2a1ffd98a93246dee": {
      "model_module": "@jupyter-widgets/base",
      "model_module_version": "2.0.0",
      "model_name": "LayoutModel",
      "state": {}
     },
     "b82cf83aab7246cb9d551bcec256c014": {
      "model_module": "@jupyter-widgets/base",
      "model_module_version": "2.0.0",
      "model_name": "LayoutModel",
      "state": {
       "display": "none"
      }
     },
     "bbf141e94ca5457ebc917b0396abf91f": {
      "model_module": "@jupyter-widgets/controls",
      "model_module_version": "2.0.0",
      "model_name": "HTMLModel",
      "state": {
       "layout": "IPY_MODEL_8d180045a34346eb9e629ab21d0c8542",
       "style": "IPY_MODEL_acd5964284124a0a8f2ffd539df73a59",
       "value": "\n    <a href=\"https://www.github.com\" target=\"_blank\" style=\"text-decoration:none;\">\n        <button class=\"widget-button\" style=\"width:170px;margin:5px;background-color:lightblue;border:none;padding:3px 12px;border-radius:6px;cursor:pointer;font-size:12px;\"><i class=\"fa fa-github\"></i> Github Profile</button>\n    </a>\n    "
      }
     },
     "bca8710f4e9541be9675f26d6790f087": {
      "model_module": "@jupyter-widgets/base",
      "model_module_version": "2.0.0",
      "model_name": "LayoutModel",
      "state": {}
     },
     "be87c4d07bf44f518a14f50dbb186230": {
      "model_module": "@jupyter-widgets/controls",
      "model_module_version": "2.0.0",
      "model_name": "DescriptionStyleModel",
      "state": {
       "description_width": "117px"
      }
     },
     "c1688e658c3a4ce7bcb1f2e99f773b58": {
      "model_module": "@jupyter-widgets/controls",
      "model_module_version": "2.0.0",
      "model_name": "HTMLStyleModel",
      "state": {
       "description_width": "",
       "font_size": null,
       "text_color": null
      }
     },
     "c425d993c0364dfe8731b3856e2f987e": {
      "model_module": "@jupyter-widgets/controls",
      "model_module_version": "2.0.0",
      "model_name": "FloatSliderModel",
      "state": {
       "behavior": "drag-tap",
       "description": "Volatility (σ)",
       "layout": "IPY_MODEL_8800d602d5d747a2841f61f80f38bf5b",
       "max": 1,
       "min": 0.01,
       "step": 0.1,
       "style": "IPY_MODEL_86f427e6ba8b4762ae38332dcb331f7a",
       "value": 0.21000000000000002
      }
     },
     "c49838c751464056aa4b0b0609f87be9": {
      "model_module": "@jupyter-widgets/controls",
      "model_module_version": "2.0.0",
      "model_name": "AccordionModel",
      "state": {
       "children": [
        "IPY_MODEL_5f9d5695627746fa9939233525d556e9",
        "IPY_MODEL_90487fef1cc74207b73a1f80e54d2176"
       ],
       "layout": "IPY_MODEL_954f538709c841cc814abe0ebd1b0bc5",
       "titles": [
        "Test Setting",
        "Dataset"
       ]
      }
     },
     "c5ded6d6172447a68025be95953fed10": {
      "model_module": "@jupyter-widgets/controls",
      "model_module_version": "2.0.0",
      "model_name": "HTMLStyleModel",
      "state": {
       "description_width": "",
       "font_size": null,
       "text_color": null
      }
     },
     "c6758d79cfaf48e398773df21c86b4ba": {
      "model_module": "@jupyter-widgets/base",
      "model_module_version": "2.0.0",
      "model_name": "LayoutModel",
      "state": {
       "width": "121px"
      }
     },
     "c724d848a46d4c34b5cd0df1e0c73c1d": {
      "model_module": "@jupyter-widgets/controls",
      "model_module_version": "2.0.0",
      "model_name": "HBoxModel",
      "state": {
       "children": [
        "IPY_MODEL_4e09e16d90bd4b04b5478402419702a7",
        "IPY_MODEL_764e5ecca0d044849e431aacae5f5393"
       ],
       "layout": "IPY_MODEL_7ec7db0e802944d28a3287d01b9393d3"
      }
     },
     "c7a46ef1e13e413182f9111d25cea728": {
      "model_module": "@jupyter-widgets/controls",
      "model_module_version": "2.0.0",
      "model_name": "VBoxModel",
      "state": {
       "children": [
        "IPY_MODEL_5b796d380a144c37a3375023712f5ad4"
       ],
       "layout": "IPY_MODEL_14959827644f4223bea53898b08b221d"
      }
     },
     "cfa7f5479e5b4f53b6af58608f97ad39": {
      "model_module": "@jupyter-widgets/controls",
      "model_module_version": "2.0.0",
      "model_name": "VBoxModel",
      "state": {
       "children": [
        "IPY_MODEL_501fba6eac5a4ac9831ee4b8b9cca78e",
        "IPY_MODEL_860ca5d8277d468aa0d5144ea09b0e46",
        "IPY_MODEL_a592b1f0e2554b9bbe9e484ad3c9895f",
        "IPY_MODEL_efee5e15bed246a791e67162683b3720",
        "IPY_MODEL_5b39351bd54c472fb9564d08478cee0d",
        "IPY_MODEL_8728a9709d8f453781d02a0f9059a82c",
        "IPY_MODEL_7db8ee2615e044c99ad2868d6d57ae9f"
       ],
       "layout": "IPY_MODEL_87ca56c59e024b5c84f1f736e54427c5"
      }
     },
     "d0e79ae584e84fe58fd465e9387abc76": {
      "model_module": "@jupyter-widgets/base",
      "model_module_version": "2.0.0",
      "model_name": "LayoutModel",
      "state": {
       "display": "none"
      }
     },
     "d2af30fe845f4d37995bfdf2fb8918eb": {
      "model_module": "@jupyter-widgets/controls",
      "model_module_version": "2.0.0",
      "model_name": "ButtonStyleModel",
      "state": {
       "font_family": null,
       "font_size": null,
       "font_style": null,
       "font_variant": null,
       "font_weight": null,
       "text_color": null,
       "text_decoration": null
      }
     },
     "d3d5e5c2ec80445486de499eeaba650c": {
      "model_module": "@jupyter-widgets/base",
      "model_module_version": "2.0.0",
      "model_name": "LayoutModel",
      "state": {}
     },
     "d461919417be4a989b5e8d264ab4b0ad": {
      "model_module": "@jupyter-widgets/controls",
      "model_module_version": "2.0.0",
      "model_name": "DescriptionStyleModel",
      "state": {
       "description_width": "117px"
      }
     },
     "d4791f82f22248c48ce8a584ec819ebc": {
      "model_module": "@jupyter-widgets/controls",
      "model_module_version": "2.0.0",
      "model_name": "DescriptionStyleModel",
      "state": {
       "description_width": "117px"
      }
     },
     "d77c582339eb49669b9e02e3fae7510e": {
      "model_module": "@jupyter-widgets/base",
      "model_module_version": "2.0.0",
      "model_name": "LayoutModel",
      "state": {}
     },
     "da4260366cd64ef1af7156b642b7d83c": {
      "model_module": "@jupyter-widgets/controls",
      "model_module_version": "2.0.0",
      "model_name": "FloatSliderModel",
      "state": {
       "behavior": "drag-tap",
       "description": "Drift (μ)",
       "layout": "IPY_MODEL_67eac4b3a3234e3686f32795785d2986",
       "max": 0.5,
       "min": -0.5,
       "step": 0.1,
       "style": "IPY_MODEL_59e111229e8141e6ac72939ad63834e2",
       "value": 0.09999999999999998
      }
     },
     "dbbbd68b806a4674a6160a4591f8bfef": {
      "model_module": "@jupyter-widgets/base",
      "model_module_version": "2.0.0",
      "model_name": "LayoutModel",
      "state": {
       "width": "1100px"
      }
     },
     "dc5c63850a0a47f6b0ef58301521771e": {
      "model_module": "@jupyter-widgets/base",
      "model_module_version": "2.0.0",
      "model_name": "LayoutModel",
      "state": {}
     },
     "dc89d6aab2f24d4295a5f9fb75b4548f": {
      "model_module": "@jupyter-widgets/controls",
      "model_module_version": "2.0.0",
      "model_name": "SliderStyleModel",
      "state": {
       "description_width": "117px"
      }
     },
     "e2f615b9c3a64fd382a42ea131828c28": {
      "model_module": "@jupyter-widgets/controls",
      "model_module_version": "2.0.0",
      "model_name": "HBoxModel",
      "state": {
       "children": [
        "IPY_MODEL_4df38f60c1054428ac0ec093b4868446"
       ],
       "layout": "IPY_MODEL_4e9100f9da344f4ea02644d997fe5b75"
      }
     },
     "e3ccb6c9445145fe919d2fc753c15883": {
      "model_module": "@jupyter-widgets/base",
      "model_module_version": "2.0.0",
      "model_name": "LayoutModel",
      "state": {
       "width": "180px"
      }
     },
     "e633374eaa6a4f4b9b13cb9fb9d84bf2": {
      "model_module": "@jupyter-widgets/controls",
      "model_module_version": "2.0.0",
      "model_name": "VBoxModel",
      "state": {
       "children": [
        "IPY_MODEL_33a683be710a4dafb3002e9a2c0046e4"
       ],
       "layout": "IPY_MODEL_9c35640437974be7ba384b1c9640b6a9"
      }
     },
     "e903a6072f4a4938a7e9d5a20c1b62eb": {
      "model_module": "@jupyter-widgets/base",
      "model_module_version": "2.0.0",
      "model_name": "LayoutModel",
      "state": {}
     },
     "ea12ca0c74d746a786c427594e5ebb1f": {
      "model_module": "@jupyter-widgets/controls",
      "model_module_version": "2.0.0",
      "model_name": "VBoxModel",
      "state": {
       "children": [
        "IPY_MODEL_523bd631fa8648e3ad66c2297a364565",
        "IPY_MODEL_2148d593ee774267994af3a5445f62d7",
        "IPY_MODEL_62ea5aedc503424aa4d5c61e9dc98f45"
       ],
       "layout": "IPY_MODEL_32ff708889a34026b931b32d6d8a2503"
      }
     },
     "ebf4e36f10a140c0a50e461bebdd1912": {
      "model_module": "@jupyter-widgets/base",
      "model_module_version": "2.0.0",
      "model_name": "LayoutModel",
      "state": {
       "display": "none"
      }
     },
     "edf2c164f4904cfa9696df32c6bf5fda": {
      "model_module": "@jupyter-widgets/controls",
      "model_module_version": "2.0.0",
      "model_name": "ButtonStyleModel",
      "state": {
       "font_family": null,
       "font_size": null,
       "font_style": null,
       "font_variant": null,
       "font_weight": null,
       "text_color": null,
       "text_decoration": null
      }
     },
     "ee43cfb24c2b4fb0ac4ed4398de4aaaf": {
      "model_module": "@jupyter-widgets/controls",
      "model_module_version": "2.0.0",
      "model_name": "VBoxModel",
      "state": {
       "children": [
        "IPY_MODEL_44db2bb695e047c6abc2944f640f375a",
        "IPY_MODEL_401d799c30ea40ab9684ca009a9096f7"
       ],
       "layout": "IPY_MODEL_e903a6072f4a4938a7e9d5a20c1b62eb"
      }
     },
     "efee5e15bed246a791e67162683b3720": {
      "model_module": "@jupyter-widgets/controls",
      "model_module_version": "2.0.0",
      "model_name": "FloatTextModel",
      "state": {
       "description": "Spread/trade",
       "layout": "IPY_MODEL_aa73cc023f8b427bb8707f56df3f0032",
       "step": null,
       "style": "IPY_MODEL_fa9148723a494e56a7f4675e24ebb8df",
       "value": 0.001
      }
     },
     "f0bca36e5776459f9f1be72e4af91edf": {
      "model_module": "@jupyter-widgets/controls",
      "model_module_version": "2.0.0",
      "model_name": "LabelStyleModel",
      "state": {
       "description_width": "",
       "font_family": null,
       "font_size": null,
       "font_style": null,
       "font_variant": null,
       "font_weight": null,
       "text_color": null,
       "text_decoration": null
      }
     },
     "f1fc44ac5241400b81caaa82b5c5006b": {
      "model_module": "@jupyter-widgets/base",
      "model_module_version": "2.0.0",
      "model_name": "LayoutModel",
      "state": {}
     },
     "f2632802702d473fadcfd33a5a90880b": {
      "model_module": "@jupyter-widgets/base",
      "model_module_version": "2.0.0",
      "model_name": "LayoutModel",
      "state": {}
     },
     "f4cf2bfdfd624d79a922cf96c5d82a06": {
      "model_module": "@jupyter-widgets/controls",
      "model_module_version": "2.0.0",
      "model_name": "HTMLStyleModel",
      "state": {
       "description_width": "",
       "font_size": null,
       "text_color": null
      }
     },
     "f684bff553e449c1909be9df5668685b": {
      "model_module": "@jupyter-widgets/controls",
      "model_module_version": "2.0.0",
      "model_name": "DescriptionStyleModel",
      "state": {
       "description_width": "117px"
      }
     },
     "f742dc1aca6245a3b646f0b5afb4acd6": {
      "model_module": "@jupyter-widgets/base",
      "model_module_version": "2.0.0",
      "model_name": "LayoutModel",
      "state": {}
     },
     "f7cac16b410c473d96b680948e1bed6e": {
      "model_module": "@jupyter-widgets/controls",
      "model_module_version": "2.0.0",
      "model_name": "DescriptionStyleModel",
      "state": {
       "description_width": "117px"
      }
     },
     "f8219892d8c54e52a74c3f4f4a54432a": {
      "model_module": "@jupyter-widgets/controls",
      "model_module_version": "2.0.0",
      "model_name": "DescriptionStyleModel",
      "state": {
       "description_width": "117px"
      }
     },
     "f9218124917647b8b78233974ab0dcde": {
      "model_module": "@jupyter-widgets/base",
      "model_module_version": "2.0.0",
      "model_name": "LayoutModel",
      "state": {}
     },
     "f961ebafaf4e472db99802abdd0611f5": {
      "model_module": "@jupyter-widgets/controls",
      "model_module_version": "2.0.0",
      "model_name": "FileUploadModel",
      "state": {
       "accept": ".csv,.txt",
       "button_style": "primary",
       "description": "Upload your stock data",
       "description_allow_html": false,
       "layout": "IPY_MODEL_4c43cb7a48ab4781bee8865bc14e8da5",
       "multiple": true,
       "style": "IPY_MODEL_1a23de83650d41ecaf28a284a3e6ba2e"
      }
     },
     "f969aeea60534c9b8d85152b2db7c7cb": {
      "model_module": "@jupyter-widgets/controls",
      "model_module_version": "2.0.0",
      "model_name": "LabelModel",
      "state": {
       "layout": "IPY_MODEL_60fb4574128342afa61cb4b38a324b20",
       "style": "IPY_MODEL_f0bca36e5776459f9f1be72e4af91edf"
      }
     },
     "fa9148723a494e56a7f4675e24ebb8df": {
      "model_module": "@jupyter-widgets/controls",
      "model_module_version": "2.0.0",
      "model_name": "DescriptionStyleModel",
      "state": {
       "description_width": "117px"
      }
     },
     "fe0669f92e7c49cfa8595b2b7a9d26e9": {
      "model_module": "@jupyter-widgets/controls",
      "model_module_version": "2.0.0",
      "model_name": "HBoxModel",
      "state": {
       "children": [
        "IPY_MODEL_bbf141e94ca5457ebc917b0396abf91f",
        "IPY_MODEL_5c14a36c27ad48318a924695c602febd",
        "IPY_MODEL_2aad90467d8a489998764bd162159fbc"
       ],
       "layout": "IPY_MODEL_3ce8b8a42e7a44b8a71d27df73c22d7a"
      }
     },
     "ffd2b65c249141199622dfae11df47ac": {
      "model_module": "@jupyter-widgets/controls",
      "model_module_version": "2.0.0",
      "model_name": "IntSliderModel",
      "state": {
       "behavior": "drag-tap",
       "description": "Time Horizon",
       "layout": "IPY_MODEL_abe6c375926644dd9104e6744cd1bef7",
       "max": 1000,
       "min": 10,
       "style": "IPY_MODEL_dc89d6aab2f24d4295a5f9fb75b4548f",
       "value": 252
      }
     }
    },
    "version_major": 2,
    "version_minor": 0
   }
  }
 },
 "nbformat": 4,
 "nbformat_minor": 4
}
